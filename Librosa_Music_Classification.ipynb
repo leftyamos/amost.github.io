{
  "nbformat": 4,
  "nbformat_minor": 0,
  "metadata": {
    "colab": {
      "name": "Librosa: Music Classification.ipynb",
      "provenance": [],
      "collapsed_sections": []
    },
    "kernelspec": {
      "name": "python3",
      "display_name": "Python 3"
    }
  },
  "cells": [
    {
      "cell_type": "code",
      "metadata": {
        "id": "6s8_a0MFddZ9",
        "colab_type": "code",
        "colab": {
          "base_uri": "https://localhost:8080/",
          "height": 74
        },
        "outputId": "90364f8e-1a7e-4230-bcde-e0a253ce82cb"
      },
      "source": [
        "import numpy as np\n",
        "import pandas as pd\n",
        "import seaborn as sns\n",
        "import matplotlib.pyplot as plt\n",
        "\n",
        "import librosa\n",
        "import librosa.display\n",
        "\n",
        "%matplotlib inline"
      ],
      "execution_count": 1,
      "outputs": [
        {
          "output_type": "stream",
          "text": [
            "/usr/local/lib/python3.6/dist-packages/statsmodels/tools/_testing.py:19: FutureWarning: pandas.util.testing is deprecated. Use the functions in the public API at pandas.testing instead.\n",
            "  import pandas.util.testing as tm\n"
          ],
          "name": "stderr"
        }
      ]
    },
    {
      "cell_type": "code",
      "metadata": {
        "id": "ZZ4irbB0eMYQ",
        "colab_type": "code",
        "outputId": "a8794b02-930b-4207-e09e-642c2dfb56c2",
        "colab": {
          "base_uri": "https://localhost:8080/",
          "height": 129
        }
      },
      "source": [
        "from google.colab import drive\n",
        "drive.mount('/content/gdrive')"
      ],
      "execution_count": 2,
      "outputs": [
        {
          "output_type": "stream",
          "text": [
            "Go to this URL in a browser: https://accounts.google.com/o/oauth2/auth?client_id=947318989803-6bn6qk8qdgf4n4g3pfee6491hc0brc4i.apps.googleusercontent.com&redirect_uri=urn%3aietf%3awg%3aoauth%3a2.0%3aoob&response_type=code&scope=email%20https%3a%2f%2fwww.googleapis.com%2fauth%2fdocs.test%20https%3a%2f%2fwww.googleapis.com%2fauth%2fdrive%20https%3a%2f%2fwww.googleapis.com%2fauth%2fdrive.photos.readonly%20https%3a%2f%2fwww.googleapis.com%2fauth%2fpeopleapi.readonly\n",
            "\n",
            "Enter your authorization code:\n",
            "··········\n",
            "Mounted at /content/gdrive\n"
          ],
          "name": "stdout"
        }
      ]
    },
    {
      "cell_type": "markdown",
      "metadata": {
        "id": "l4rXO7UMB8Af",
        "colab_type": "text"
      },
      "source": [
        "## Genre Classification"
      ]
    },
    {
      "cell_type": "code",
      "metadata": {
        "id": "203J8t-x12At",
        "colab_type": "code",
        "colab": {}
      },
      "source": [
        "import os"
      ],
      "execution_count": 0,
      "outputs": []
    },
    {
      "cell_type": "code",
      "metadata": {
        "id": "Rc3gmhp-3xSH",
        "colab_type": "code",
        "outputId": "446fda3a-ef8e-47a0-dbdf-13d301a2e6d7",
        "colab": {
          "base_uri": "https://localhost:8080/",
          "height": 35
        }
      },
      "source": [
        "os.listdir(os.getcwd())"
      ],
      "execution_count": 4,
      "outputs": [
        {
          "output_type": "execute_result",
          "data": {
            "text/plain": [
              "['.config', 'gdrive', 'sample_data']"
            ]
          },
          "metadata": {
            "tags": []
          },
          "execution_count": 4
        }
      ]
    },
    {
      "cell_type": "code",
      "metadata": {
        "id": "tzKsJ2EUz6Os",
        "colab_type": "code",
        "colab": {}
      },
      "source": [
        "# get the list of genres\n",
        "genres = os.listdir('/content/gdrive/My Drive/Colab Notebooks/genres_original')"
      ],
      "execution_count": 0,
      "outputs": []
    },
    {
      "cell_type": "code",
      "metadata": {
        "id": "3ZHixjWw0YMy",
        "colab_type": "code",
        "outputId": "133ccc8b-eab6-4f7f-c3b2-4e8dd2911230",
        "colab": {
          "base_uri": "https://localhost:8080/",
          "height": 206
        }
      },
      "source": [
        "data = []\n",
        "\n",
        "\n",
        "for genre in genres:\n",
        "  for song in os.listdir(f'/content/gdrive/My Drive/Colab Notebooks/genres_original/{genre}'):\n",
        "    x, sr = librosa.load(f'/content/gdrive/My Drive/Colab Notebooks/genres_original/{genre}/{song}')\n",
        "\n",
        "    # features  \n",
        "    chroma_stft = librosa.feature.chroma_stft(x, sr=sr)\n",
        "    spec_cent = librosa.feature.spectral_centroid(x, sr=sr)\n",
        "    spec_bw = librosa.feature.spectral_bandwidth(x, sr=sr)\n",
        "    spec_roff = librosa.feature.spectral_rolloff(x, sr=sr)\n",
        "    zcr = librosa.feature.zero_crossing_rate(x)\n",
        "\n",
        "    # get the mean of the features\n",
        "    data.append({'name':song,\n",
        "                 'chroma':np.mean(chroma_stft),\n",
        "                 'centroid':np.mean(spec_cent),\n",
        "                 'bandwidth':np.mean(spec_bw),\n",
        "                 'rolloff':np.mean(spec_roff),\n",
        "                 'zero-crossing rate':np.mean(zcr),\n",
        "                 'type':genre})\n",
        "    \n",
        "\n",
        "data = pd.DataFrame(data)\n",
        "\n",
        "data.head()"
      ],
      "execution_count": 6,
      "outputs": [
        {
          "output_type": "execute_result",
          "data": {
            "text/html": [
              "<div>\n",
              "<style scoped>\n",
              "    .dataframe tbody tr th:only-of-type {\n",
              "        vertical-align: middle;\n",
              "    }\n",
              "\n",
              "    .dataframe tbody tr th {\n",
              "        vertical-align: top;\n",
              "    }\n",
              "\n",
              "    .dataframe thead th {\n",
              "        text-align: right;\n",
              "    }\n",
              "</style>\n",
              "<table border=\"1\" class=\"dataframe\">\n",
              "  <thead>\n",
              "    <tr style=\"text-align: right;\">\n",
              "      <th></th>\n",
              "      <th>name</th>\n",
              "      <th>chroma</th>\n",
              "      <th>centroid</th>\n",
              "      <th>bandwidth</th>\n",
              "      <th>rolloff</th>\n",
              "      <th>zero-crossing rate</th>\n",
              "      <th>type</th>\n",
              "    </tr>\n",
              "  </thead>\n",
              "  <tbody>\n",
              "    <tr>\n",
              "      <th>0</th>\n",
              "      <td>pop.00003.wav</td>\n",
              "      <td>0.409812</td>\n",
              "      <td>1836.956691</td>\n",
              "      <td>2066.669705</td>\n",
              "      <td>3670.803274</td>\n",
              "      <td>0.085323</td>\n",
              "      <td>pop</td>\n",
              "    </tr>\n",
              "    <tr>\n",
              "      <th>1</th>\n",
              "      <td>pop.00001.wav</td>\n",
              "      <td>0.412993</td>\n",
              "      <td>3702.105111</td>\n",
              "      <td>3431.856264</td>\n",
              "      <td>8072.977711</td>\n",
              "      <td>0.149394</td>\n",
              "      <td>pop</td>\n",
              "    </tr>\n",
              "    <tr>\n",
              "      <th>2</th>\n",
              "      <td>pop.00000.wav</td>\n",
              "      <td>0.389631</td>\n",
              "      <td>3421.887738</td>\n",
              "      <td>3409.775605</td>\n",
              "      <td>7952.938014</td>\n",
              "      <td>0.126720</td>\n",
              "      <td>pop</td>\n",
              "    </tr>\n",
              "    <tr>\n",
              "      <th>3</th>\n",
              "      <td>pop.00002.wav</td>\n",
              "      <td>0.417771</td>\n",
              "      <td>3214.086840</td>\n",
              "      <td>3269.678966</td>\n",
              "      <td>7424.433605</td>\n",
              "      <td>0.118866</td>\n",
              "      <td>pop</td>\n",
              "    </tr>\n",
              "    <tr>\n",
              "      <th>4</th>\n",
              "      <td>pop.00004.wav</td>\n",
              "      <td>0.384296</td>\n",
              "      <td>2753.120791</td>\n",
              "      <td>2861.501507</td>\n",
              "      <td>5986.680118</td>\n",
              "      <td>0.123709</td>\n",
              "      <td>pop</td>\n",
              "    </tr>\n",
              "  </tbody>\n",
              "</table>\n",
              "</div>"
            ],
            "text/plain": [
              "            name    chroma     centroid  ...      rolloff  zero-crossing rate  type\n",
              "0  pop.00003.wav  0.409812  1836.956691  ...  3670.803274            0.085323   pop\n",
              "1  pop.00001.wav  0.412993  3702.105111  ...  8072.977711            0.149394   pop\n",
              "2  pop.00000.wav  0.389631  3421.887738  ...  7952.938014            0.126720   pop\n",
              "3  pop.00002.wav  0.417771  3214.086840  ...  7424.433605            0.118866   pop\n",
              "4  pop.00004.wav  0.384296  2753.120791  ...  5986.680118            0.123709   pop\n",
              "\n",
              "[5 rows x 7 columns]"
            ]
          },
          "metadata": {
            "tags": []
          },
          "execution_count": 6
        }
      ]
    },
    {
      "cell_type": "code",
      "metadata": {
        "id": "hSanC4UOGz_J",
        "colab_type": "code",
        "outputId": "dd9658a9-ebfc-44c2-94d5-4357da6815e7",
        "colab": {
          "base_uri": "https://localhost:8080/",
          "height": 814
        }
      },
      "source": [
        "data.hist(column='chroma', by='type',figsize=(30,20))\n",
        "plt.show()"
      ],
      "execution_count": 8,
      "outputs": [
        {
          "output_type": "display_data",
          "data": {
            "image/png": "[encoded data removed]",
            "text/plain": [
              "<Figure size 2160x1440 with 12 Axes>"
            ]
          },
          "metadata": {
            "tags": [],
            "needs_background": "light"
          }
        }
      ]
    },
    {
      "cell_type": "markdown",
      "metadata": {
        "id": "YBPVixenvy4q",
        "colab_type": "text"
      },
      "source": [
        "#### Encode Label"
      ]
    },
    {
      "cell_type": "code",
      "metadata": {
        "id": "0y0AAEbjvxgl",
        "colab_type": "code",
        "colab": {}
      },
      "source": [
        "from sklearn import preprocessing"
      ],
      "execution_count": 0,
      "outputs": []
    },
    {
      "cell_type": "code",
      "metadata": {
        "id": "RBFgiNjzvygz",
        "colab_type": "code",
        "colab": {}
      },
      "source": [
        "le = preprocessing.LabelEncoder()"
      ],
      "execution_count": 0,
      "outputs": []
    },
    {
      "cell_type": "code",
      "metadata": {
        "id": "aQCiLsTuv-TC",
        "colab_type": "code",
        "colab": {}
      },
      "source": [
        "labels = data['type']\n",
        "\n",
        "y = le.fit_transform(labels)"
      ],
      "execution_count": 0,
      "outputs": []
    },
    {
      "cell_type": "markdown",
      "metadata": {
        "id": "7CFmJZJExYfa",
        "colab_type": "text"
      },
      "source": [
        "#### Split Data"
      ]
    },
    {
      "cell_type": "code",
      "metadata": {
        "id": "mW1A_yTbxTp6",
        "colab_type": "code",
        "colab": {}
      },
      "source": [
        "from sklearn.model_selection import train_test_split"
      ],
      "execution_count": 0,
      "outputs": []
    },
    {
      "cell_type": "code",
      "metadata": {
        "id": "X23vEQzVxT0Q",
        "colab_type": "code",
        "colab": {}
      },
      "source": [
        "features = data.drop(['name','type'],axis=1)"
      ],
      "execution_count": 0,
      "outputs": []
    },
    {
      "cell_type": "code",
      "metadata": {
        "id": "LXEHT45hxtOI",
        "colab_type": "code",
        "colab": {}
      },
      "source": [
        "X_train, X_test, y_train, y_test = train_test_split(features,y,test_size=0.3,random_state=101)"
      ],
      "execution_count": 0,
      "outputs": []
    },
    {
      "cell_type": "markdown",
      "metadata": {
        "id": "c0IHUo3Avka9",
        "colab_type": "text"
      },
      "source": [
        "#### Scale Data"
      ]
    },
    {
      "cell_type": "code",
      "metadata": {
        "id": "GgGT1cnWMfcZ",
        "colab_type": "code",
        "colab": {}
      },
      "source": [
        "from sklearn.preprocessing import MinMaxScaler"
      ],
      "execution_count": 0,
      "outputs": []
    },
    {
      "cell_type": "code",
      "metadata": {
        "id": "XUOKZjEdvszn",
        "colab_type": "code",
        "colab": {}
      },
      "source": [
        "scaler = MinMaxScaler()"
      ],
      "execution_count": 0,
      "outputs": []
    },
    {
      "cell_type": "code",
      "metadata": {
        "id": "h-eNOUYuxExr",
        "colab_type": "code",
        "colab": {}
      },
      "source": [
        "X_train = scaler.fit_transform(X_train)\n",
        "\n",
        "X_test = scaler.transform(X_test)"
      ],
      "execution_count": 0,
      "outputs": []
    },
    {
      "cell_type": "markdown",
      "metadata": {
        "id": "qKYErngfyCbl",
        "colab_type": "text"
      },
      "source": [
        "#### Model: Keras "
      ]
    },
    {
      "cell_type": "code",
      "metadata": {
        "id": "4iDtHZ-axKbB",
        "colab_type": "code",
        "colab": {}
      },
      "source": [
        "import tensorflow as tf\n",
        "from tensorflow.keras.models import Sequential\n",
        "from tensorflow.keras.layers import Dense, Activation, Dropout\n",
        "from tensorflow.keras.callbacks import EarlyStopping"
      ],
      "execution_count": 0,
      "outputs": []
    },
    {
      "cell_type": "code",
      "metadata": {
        "id": "BVt332F8yKF1",
        "colab_type": "code",
        "colab": {}
      },
      "source": [
        "model = Sequential()\n",
        "\n",
        "model.add(Dense(256, activation='relu', input_shape=(X_train.shape[1],)))\n",
        "model.add(Dropout(0.5))\n",
        "\n",
        "model.add(Dense(256, activation='relu'))\n",
        "model.add(Dropout(0.5))\n",
        "\n",
        "model.add(Dense(128, activation='relu'))\n",
        "model.add(Dropout(0.5))\n",
        "\n",
        "model.add(Dense(64, activation='relu'))\n",
        "model.add(Dropout(0.5))\n",
        "\n",
        "model.add(Dense(10, activation='softmax'))\n",
        "\n",
        "model.compile(loss='sparse_categorical_crossentropy', optimizer='adam', metrics=['accuracy'])"
      ],
      "execution_count": 0,
      "outputs": []
    },
    {
      "cell_type": "code",
      "metadata": {
        "id": "DtKZFL7BzZe_",
        "colab_type": "code",
        "colab": {}
      },
      "source": [
        "early_stop = EarlyStopping(monitor='val_loss', mode='min', verbose=1, patience=25)"
      ],
      "execution_count": 0,
      "outputs": []
    },
    {
      "cell_type": "code",
      "metadata": {
        "id": "ktFOvTAnyip3",
        "colab_type": "code",
        "outputId": "5bea7b78-a3d5-4900-b35c-e0b202266191",
        "colab": {
          "base_uri": "https://localhost:8080/",
          "height": 1000
        }
      },
      "source": [
        "model.fit(x=X_train, \n",
        "          y=y_train, \n",
        "          epochs=500,\n",
        "          batch_size=128,\n",
        "          validation_data=(X_test, y_test), verbose=1,\n",
        "          callbacks=[early_stop]\n",
        "          )"
      ],
      "execution_count": 391,
      "outputs": [
        {
          "output_type": "stream",
          "text": [
            "Epoch 1/500\n",
            "6/6 [==============================] - 0s 27ms/step - loss: 2.3210 - accuracy: 0.0914 - val_loss: 2.3020 - val_accuracy: 0.1033\n",
            "Epoch 2/500\n",
            "6/6 [==============================] - 0s 12ms/step - loss: 2.2992 - accuracy: 0.1114 - val_loss: 2.2982 - val_accuracy: 0.0933\n",
            "Epoch 3/500\n",
            "6/6 [==============================] - 0s 12ms/step - loss: 2.3013 - accuracy: 0.0914 - val_loss: 2.2973 - val_accuracy: 0.0933\n",
            "Epoch 4/500\n",
            "6/6 [==============================] - 0s 12ms/step - loss: 2.2809 - accuracy: 0.1157 - val_loss: 2.2960 - val_accuracy: 0.1067\n",
            "Epoch 5/500\n",
            "6/6 [==============================] - 0s 12ms/step - loss: 2.2905 - accuracy: 0.1014 - val_loss: 2.2946 - val_accuracy: 0.1533\n",
            "Epoch 6/500\n",
            "6/6 [==============================] - 0s 12ms/step - loss: 2.2814 - accuracy: 0.1243 - val_loss: 2.2919 - val_accuracy: 0.1533\n",
            "Epoch 7/500\n",
            "6/6 [==============================] - 0s 11ms/step - loss: 2.2762 - accuracy: 0.1029 - val_loss: 2.2879 - val_accuracy: 0.1600\n",
            "Epoch 8/500\n",
            "6/6 [==============================] - 0s 12ms/step - loss: 2.2652 - accuracy: 0.1143 - val_loss: 2.2831 - val_accuracy: 0.1467\n",
            "Epoch 9/500\n",
            "6/6 [==============================] - 0s 12ms/step - loss: 2.2637 - accuracy: 0.1171 - val_loss: 2.2765 - val_accuracy: 0.1533\n",
            "Epoch 10/500\n",
            "6/6 [==============================] - 0s 13ms/step - loss: 2.2483 - accuracy: 0.1257 - val_loss: 2.2668 - val_accuracy: 0.1500\n",
            "Epoch 11/500\n",
            "6/6 [==============================] - 0s 11ms/step - loss: 2.2504 - accuracy: 0.1229 - val_loss: 2.2551 - val_accuracy: 0.1567\n",
            "Epoch 12/500\n",
            "6/6 [==============================] - 0s 11ms/step - loss: 2.2179 - accuracy: 0.1200 - val_loss: 2.2411 - val_accuracy: 0.1867\n",
            "Epoch 13/500\n",
            "6/6 [==============================] - 0s 11ms/step - loss: 2.2244 - accuracy: 0.1371 - val_loss: 2.2251 - val_accuracy: 0.1800\n",
            "Epoch 14/500\n",
            "6/6 [==============================] - 0s 13ms/step - loss: 2.2188 - accuracy: 0.1286 - val_loss: 2.2154 - val_accuracy: 0.2000\n",
            "Epoch 15/500\n",
            "6/6 [==============================] - 0s 11ms/step - loss: 2.1870 - accuracy: 0.1686 - val_loss: 2.2013 - val_accuracy: 0.1967\n",
            "Epoch 16/500\n",
            "6/6 [==============================] - 0s 11ms/step - loss: 2.1772 - accuracy: 0.1871 - val_loss: 2.1791 - val_accuracy: 0.2033\n",
            "Epoch 17/500\n",
            "6/6 [==============================] - 0s 12ms/step - loss: 2.1383 - accuracy: 0.2014 - val_loss: 2.1613 - val_accuracy: 0.2133\n",
            "Epoch 18/500\n",
            "6/6 [==============================] - 0s 12ms/step - loss: 2.0985 - accuracy: 0.2143 - val_loss: 2.1418 - val_accuracy: 0.2133\n",
            "Epoch 19/500\n",
            "6/6 [==============================] - 0s 11ms/step - loss: 2.1053 - accuracy: 0.2071 - val_loss: 2.1285 - val_accuracy: 0.2167\n",
            "Epoch 20/500\n",
            "6/6 [==============================] - 0s 11ms/step - loss: 2.0930 - accuracy: 0.2429 - val_loss: 2.1156 - val_accuracy: 0.2433\n",
            "Epoch 21/500\n",
            "6/6 [==============================] - 0s 11ms/step - loss: 2.0453 - accuracy: 0.2571 - val_loss: 2.1004 - val_accuracy: 0.2767\n",
            "Epoch 22/500\n",
            "6/6 [==============================] - 0s 12ms/step - loss: 2.0367 - accuracy: 0.2700 - val_loss: 2.0865 - val_accuracy: 0.2933\n",
            "Epoch 23/500\n",
            "6/6 [==============================] - 0s 14ms/step - loss: 2.0339 - accuracy: 0.2686 - val_loss: 2.0820 - val_accuracy: 0.2967\n",
            "Epoch 24/500\n",
            "6/6 [==============================] - 0s 12ms/step - loss: 2.0320 - accuracy: 0.2771 - val_loss: 2.0659 - val_accuracy: 0.2933\n",
            "Epoch 25/500\n",
            "6/6 [==============================] - 0s 11ms/step - loss: 1.9779 - accuracy: 0.3000 - val_loss: 2.0496 - val_accuracy: 0.2900\n",
            "Epoch 26/500\n",
            "6/6 [==============================] - 0s 14ms/step - loss: 1.9793 - accuracy: 0.2800 - val_loss: 2.0276 - val_accuracy: 0.2967\n",
            "Epoch 27/500\n",
            "6/6 [==============================] - 0s 12ms/step - loss: 1.9549 - accuracy: 0.2886 - val_loss: 2.0135 - val_accuracy: 0.3033\n",
            "Epoch 28/500\n",
            "6/6 [==============================] - 0s 11ms/step - loss: 1.9438 - accuracy: 0.3114 - val_loss: 1.9798 - val_accuracy: 0.3000\n",
            "Epoch 29/500\n",
            "6/6 [==============================] - 0s 11ms/step - loss: 1.9054 - accuracy: 0.3014 - val_loss: 1.9545 - val_accuracy: 0.3067\n",
            "Epoch 30/500\n",
            "6/6 [==============================] - 0s 11ms/step - loss: 1.9018 - accuracy: 0.3000 - val_loss: 1.9303 - val_accuracy: 0.3100\n",
            "Epoch 31/500\n",
            "6/6 [==============================] - 0s 11ms/step - loss: 1.9183 - accuracy: 0.3014 - val_loss: 1.9016 - val_accuracy: 0.3100\n",
            "Epoch 32/500\n",
            "6/6 [==============================] - 0s 11ms/step - loss: 1.8635 - accuracy: 0.3029 - val_loss: 1.8804 - val_accuracy: 0.2933\n",
            "Epoch 33/500\n",
            "6/6 [==============================] - 0s 12ms/step - loss: 1.8640 - accuracy: 0.3229 - val_loss: 1.8633 - val_accuracy: 0.3167\n",
            "Epoch 34/500\n",
            "6/6 [==============================] - 0s 11ms/step - loss: 1.8580 - accuracy: 0.3257 - val_loss: 1.8406 - val_accuracy: 0.3267\n",
            "Epoch 35/500\n",
            "6/6 [==============================] - 0s 12ms/step - loss: 1.8415 - accuracy: 0.3186 - val_loss: 1.8272 - val_accuracy: 0.3033\n",
            "Epoch 36/500\n",
            "6/6 [==============================] - 0s 11ms/step - loss: 1.8318 - accuracy: 0.3300 - val_loss: 1.8113 - val_accuracy: 0.3167\n",
            "Epoch 37/500\n",
            "6/6 [==============================] - 0s 11ms/step - loss: 1.8218 - accuracy: 0.3514 - val_loss: 1.7996 - val_accuracy: 0.3100\n",
            "Epoch 38/500\n",
            "6/6 [==============================] - 0s 12ms/step - loss: 1.8089 - accuracy: 0.3286 - val_loss: 1.7959 - val_accuracy: 0.3167\n",
            "Epoch 39/500\n",
            "6/6 [==============================] - 0s 11ms/step - loss: 1.7655 - accuracy: 0.3443 - val_loss: 1.7940 - val_accuracy: 0.3200\n",
            "Epoch 40/500\n",
            "6/6 [==============================] - 0s 11ms/step - loss: 1.7906 - accuracy: 0.3229 - val_loss: 1.7854 - val_accuracy: 0.3133\n",
            "Epoch 41/500\n",
            "6/6 [==============================] - 0s 11ms/step - loss: 1.7804 - accuracy: 0.3571 - val_loss: 1.7858 - val_accuracy: 0.3233\n",
            "Epoch 42/500\n",
            "6/6 [==============================] - 0s 14ms/step - loss: 1.7466 - accuracy: 0.3529 - val_loss: 1.7756 - val_accuracy: 0.3133\n",
            "Epoch 43/500\n",
            "6/6 [==============================] - 0s 11ms/step - loss: 1.7596 - accuracy: 0.3443 - val_loss: 1.7682 - val_accuracy: 0.3233\n",
            "Epoch 44/500\n",
            "6/6 [==============================] - 0s 11ms/step - loss: 1.8058 - accuracy: 0.3500 - val_loss: 1.7692 - val_accuracy: 0.3400\n",
            "Epoch 45/500\n",
            "6/6 [==============================] - 0s 11ms/step - loss: 1.7406 - accuracy: 0.3557 - val_loss: 1.7632 - val_accuracy: 0.3400\n",
            "Epoch 46/500\n",
            "6/6 [==============================] - 0s 11ms/step - loss: 1.7380 - accuracy: 0.3557 - val_loss: 1.7590 - val_accuracy: 0.3300\n",
            "Epoch 47/500\n",
            "6/6 [==============================] - 0s 11ms/step - loss: 1.7438 - accuracy: 0.3671 - val_loss: 1.7589 - val_accuracy: 0.3333\n",
            "Epoch 48/500\n",
            "6/6 [==============================] - 0s 12ms/step - loss: 1.6929 - accuracy: 0.3900 - val_loss: 1.7604 - val_accuracy: 0.3367\n",
            "Epoch 49/500\n",
            "6/6 [==============================] - 0s 10ms/step - loss: 1.6951 - accuracy: 0.3671 - val_loss: 1.7545 - val_accuracy: 0.3433\n",
            "Epoch 50/500\n",
            "6/6 [==============================] - 0s 11ms/step - loss: 1.6906 - accuracy: 0.3686 - val_loss: 1.7495 - val_accuracy: 0.3467\n",
            "Epoch 51/500\n",
            "6/6 [==============================] - 0s 11ms/step - loss: 1.7038 - accuracy: 0.3786 - val_loss: 1.7408 - val_accuracy: 0.3433\n",
            "Epoch 52/500\n",
            "6/6 [==============================] - 0s 12ms/step - loss: 1.7117 - accuracy: 0.3629 - val_loss: 1.7409 - val_accuracy: 0.3433\n",
            "Epoch 53/500\n",
            "6/6 [==============================] - 0s 11ms/step - loss: 1.6903 - accuracy: 0.3843 - val_loss: 1.7353 - val_accuracy: 0.3300\n",
            "Epoch 54/500\n",
            "6/6 [==============================] - 0s 11ms/step - loss: 1.6693 - accuracy: 0.3886 - val_loss: 1.7441 - val_accuracy: 0.3400\n",
            "Epoch 55/500\n",
            "6/6 [==============================] - 0s 11ms/step - loss: 1.7357 - accuracy: 0.3571 - val_loss: 1.7319 - val_accuracy: 0.3567\n",
            "Epoch 56/500\n",
            "6/6 [==============================] - 0s 11ms/step - loss: 1.6895 - accuracy: 0.3543 - val_loss: 1.7341 - val_accuracy: 0.3333\n",
            "Epoch 57/500\n",
            "6/6 [==============================] - 0s 11ms/step - loss: 1.7122 - accuracy: 0.3886 - val_loss: 1.7285 - val_accuracy: 0.3367\n",
            "Epoch 58/500\n",
            "6/6 [==============================] - 0s 11ms/step - loss: 1.6575 - accuracy: 0.4129 - val_loss: 1.7265 - val_accuracy: 0.3333\n",
            "Epoch 59/500\n",
            "6/6 [==============================] - 0s 10ms/step - loss: 1.6762 - accuracy: 0.4200 - val_loss: 1.7220 - val_accuracy: 0.3267\n",
            "Epoch 60/500\n",
            "6/6 [==============================] - 0s 10ms/step - loss: 1.6576 - accuracy: 0.4029 - val_loss: 1.7195 - val_accuracy: 0.3233\n",
            "Epoch 61/500\n",
            "6/6 [==============================] - 0s 13ms/step - loss: 1.6495 - accuracy: 0.4186 - val_loss: 1.7205 - val_accuracy: 0.3333\n",
            "Epoch 62/500\n",
            "6/6 [==============================] - 0s 10ms/step - loss: 1.6589 - accuracy: 0.3886 - val_loss: 1.7193 - val_accuracy: 0.3467\n",
            "Epoch 63/500\n",
            "6/6 [==============================] - 0s 11ms/step - loss: 1.6513 - accuracy: 0.4000 - val_loss: 1.7182 - val_accuracy: 0.3333\n",
            "Epoch 64/500\n",
            "6/6 [==============================] - 0s 11ms/step - loss: 1.6829 - accuracy: 0.3943 - val_loss: 1.7169 - val_accuracy: 0.3367\n",
            "Epoch 65/500\n",
            "6/6 [==============================] - 0s 10ms/step - loss: 1.6503 - accuracy: 0.3943 - val_loss: 1.7150 - val_accuracy: 0.3367\n",
            "Epoch 66/500\n",
            "6/6 [==============================] - 0s 11ms/step - loss: 1.6551 - accuracy: 0.4071 - val_loss: 1.7173 - val_accuracy: 0.3300\n",
            "Epoch 67/500\n",
            "6/6 [==============================] - 0s 12ms/step - loss: 1.6585 - accuracy: 0.3886 - val_loss: 1.7209 - val_accuracy: 0.3433\n",
            "Epoch 68/500\n",
            "6/6 [==============================] - 0s 10ms/step - loss: 1.6509 - accuracy: 0.4071 - val_loss: 1.7177 - val_accuracy: 0.3433\n",
            "Epoch 69/500\n",
            "6/6 [==============================] - 0s 10ms/step - loss: 1.6435 - accuracy: 0.3943 - val_loss: 1.7126 - val_accuracy: 0.3367\n",
            "Epoch 70/500\n",
            "6/6 [==============================] - 0s 10ms/step - loss: 1.6485 - accuracy: 0.4029 - val_loss: 1.7148 - val_accuracy: 0.3467\n",
            "Epoch 71/500\n",
            "6/6 [==============================] - 0s 13ms/step - loss: 1.6232 - accuracy: 0.4186 - val_loss: 1.7102 - val_accuracy: 0.3367\n",
            "Epoch 72/500\n",
            "6/6 [==============================] - 0s 10ms/step - loss: 1.6001 - accuracy: 0.4429 - val_loss: 1.7074 - val_accuracy: 0.3400\n",
            "Epoch 73/500\n",
            "6/6 [==============================] - 0s 10ms/step - loss: 1.6204 - accuracy: 0.4243 - val_loss: 1.7172 - val_accuracy: 0.3433\n",
            "Epoch 74/500\n",
            "6/6 [==============================] - 0s 10ms/step - loss: 1.6624 - accuracy: 0.4271 - val_loss: 1.7216 - val_accuracy: 0.3433\n",
            "Epoch 75/500\n",
            "6/6 [==============================] - 0s 11ms/step - loss: 1.6308 - accuracy: 0.4157 - val_loss: 1.7137 - val_accuracy: 0.3367\n",
            "Epoch 76/500\n",
            "6/6 [==============================] - 0s 11ms/step - loss: 1.6106 - accuracy: 0.4157 - val_loss: 1.7049 - val_accuracy: 0.3367\n",
            "Epoch 77/500\n",
            "6/6 [==============================] - 0s 11ms/step - loss: 1.5801 - accuracy: 0.4257 - val_loss: 1.7049 - val_accuracy: 0.3433\n",
            "Epoch 78/500\n",
            "6/6 [==============================] - 0s 10ms/step - loss: 1.5838 - accuracy: 0.4214 - val_loss: 1.7225 - val_accuracy: 0.3500\n",
            "Epoch 79/500\n",
            "6/6 [==============================] - 0s 11ms/step - loss: 1.6729 - accuracy: 0.4086 - val_loss: 1.7142 - val_accuracy: 0.3400\n",
            "Epoch 80/500\n",
            "6/6 [==============================] - 0s 12ms/step - loss: 1.6048 - accuracy: 0.4257 - val_loss: 1.7055 - val_accuracy: 0.3367\n",
            "Epoch 81/500\n",
            "6/6 [==============================] - 0s 11ms/step - loss: 1.5614 - accuracy: 0.4371 - val_loss: 1.7035 - val_accuracy: 0.3167\n",
            "Epoch 82/500\n",
            "6/6 [==============================] - 0s 10ms/step - loss: 1.6129 - accuracy: 0.4243 - val_loss: 1.7095 - val_accuracy: 0.3333\n",
            "Epoch 83/500\n",
            "6/6 [==============================] - 0s 11ms/step - loss: 1.6116 - accuracy: 0.4200 - val_loss: 1.7014 - val_accuracy: 0.3167\n",
            "Epoch 84/500\n",
            "6/6 [==============================] - 0s 11ms/step - loss: 1.6307 - accuracy: 0.4257 - val_loss: 1.7028 - val_accuracy: 0.3500\n",
            "Epoch 85/500\n",
            "6/6 [==============================] - 0s 11ms/step - loss: 1.6019 - accuracy: 0.4157 - val_loss: 1.6973 - val_accuracy: 0.3267\n",
            "Epoch 86/500\n",
            "6/6 [==============================] - 0s 11ms/step - loss: 1.6080 - accuracy: 0.4200 - val_loss: 1.6979 - val_accuracy: 0.3433\n",
            "Epoch 87/500\n",
            "6/6 [==============================] - 0s 11ms/step - loss: 1.5765 - accuracy: 0.4243 - val_loss: 1.6947 - val_accuracy: 0.3267\n",
            "Epoch 88/500\n",
            "6/6 [==============================] - 0s 12ms/step - loss: 1.5947 - accuracy: 0.4229 - val_loss: 1.6942 - val_accuracy: 0.3433\n",
            "Epoch 89/500\n",
            "6/6 [==============================] - 0s 11ms/step - loss: 1.5547 - accuracy: 0.4357 - val_loss: 1.7031 - val_accuracy: 0.3400\n",
            "Epoch 90/500\n",
            "6/6 [==============================] - 0s 12ms/step - loss: 1.5632 - accuracy: 0.4243 - val_loss: 1.6986 - val_accuracy: 0.3333\n",
            "Epoch 91/500\n",
            "6/6 [==============================] - 0s 11ms/step - loss: 1.5770 - accuracy: 0.4314 - val_loss: 1.7011 - val_accuracy: 0.3600\n",
            "Epoch 92/500\n",
            "6/6 [==============================] - 0s 11ms/step - loss: 1.5991 - accuracy: 0.4214 - val_loss: 1.7117 - val_accuracy: 0.3433\n",
            "Epoch 93/500\n",
            "6/6 [==============================] - 0s 11ms/step - loss: 1.5811 - accuracy: 0.4257 - val_loss: 1.6978 - val_accuracy: 0.3400\n",
            "Epoch 94/500\n",
            "6/6 [==============================] - 0s 11ms/step - loss: 1.5817 - accuracy: 0.4514 - val_loss: 1.6939 - val_accuracy: 0.3467\n",
            "Epoch 95/500\n",
            "6/6 [==============================] - 0s 10ms/step - loss: 1.5561 - accuracy: 0.4257 - val_loss: 1.7008 - val_accuracy: 0.3400\n",
            "Epoch 96/500\n",
            "6/6 [==============================] - 0s 11ms/step - loss: 1.5869 - accuracy: 0.4329 - val_loss: 1.7039 - val_accuracy: 0.3500\n",
            "Epoch 97/500\n",
            "6/6 [==============================] - 0s 11ms/step - loss: 1.5582 - accuracy: 0.4400 - val_loss: 1.7057 - val_accuracy: 0.3567\n",
            "Epoch 98/500\n",
            "6/6 [==============================] - 0s 11ms/step - loss: 1.5520 - accuracy: 0.4457 - val_loss: 1.7042 - val_accuracy: 0.3467\n",
            "Epoch 99/500\n",
            "6/6 [==============================] - 0s 12ms/step - loss: 1.5797 - accuracy: 0.4400 - val_loss: 1.7033 - val_accuracy: 0.3467\n",
            "Epoch 100/500\n",
            "6/6 [==============================] - 0s 11ms/step - loss: 1.5405 - accuracy: 0.4329 - val_loss: 1.7006 - val_accuracy: 0.3367\n",
            "Epoch 101/500\n",
            "6/6 [==============================] - 0s 11ms/step - loss: 1.5394 - accuracy: 0.4314 - val_loss: 1.6975 - val_accuracy: 0.3433\n",
            "Epoch 102/500\n",
            "6/6 [==============================] - 0s 11ms/step - loss: 1.6021 - accuracy: 0.4257 - val_loss: 1.7040 - val_accuracy: 0.3400\n",
            "Epoch 103/500\n",
            "6/6 [==============================] - 0s 10ms/step - loss: 1.5715 - accuracy: 0.4371 - val_loss: 1.7013 - val_accuracy: 0.3233\n",
            "Epoch 104/500\n",
            "6/6 [==============================] - 0s 10ms/step - loss: 1.5907 - accuracy: 0.4343 - val_loss: 1.7004 - val_accuracy: 0.3367\n",
            "Epoch 105/500\n",
            "6/6 [==============================] - 0s 10ms/step - loss: 1.5678 - accuracy: 0.4400 - val_loss: 1.6997 - val_accuracy: 0.3333\n",
            "Epoch 106/500\n",
            "6/6 [==============================] - 0s 11ms/step - loss: 1.5670 - accuracy: 0.4229 - val_loss: 1.6929 - val_accuracy: 0.3300\n",
            "Epoch 107/500\n",
            "6/6 [==============================] - 0s 11ms/step - loss: 1.5459 - accuracy: 0.4500 - val_loss: 1.6942 - val_accuracy: 0.3533\n",
            "Epoch 108/500\n",
            "6/6 [==============================] - 0s 11ms/step - loss: 1.5436 - accuracy: 0.4571 - val_loss: 1.6942 - val_accuracy: 0.3500\n",
            "Epoch 109/500\n",
            "6/6 [==============================] - 0s 12ms/step - loss: 1.5055 - accuracy: 0.4386 - val_loss: 1.7013 - val_accuracy: 0.3367\n",
            "Epoch 110/500\n",
            "6/6 [==============================] - 0s 11ms/step - loss: 1.5946 - accuracy: 0.4529 - val_loss: 1.7040 - val_accuracy: 0.3467\n",
            "Epoch 111/500\n",
            "6/6 [==============================] - 0s 11ms/step - loss: 1.5498 - accuracy: 0.4371 - val_loss: 1.6950 - val_accuracy: 0.3400\n",
            "Epoch 112/500\n",
            "6/6 [==============================] - 0s 12ms/step - loss: 1.5459 - accuracy: 0.4486 - val_loss: 1.6981 - val_accuracy: 0.3533\n",
            "Epoch 113/500\n",
            "6/6 [==============================] - 0s 11ms/step - loss: 1.5649 - accuracy: 0.4200 - val_loss: 1.6941 - val_accuracy: 0.3400\n",
            "Epoch 114/500\n",
            "6/6 [==============================] - 0s 11ms/step - loss: 1.5390 - accuracy: 0.4586 - val_loss: 1.6976 - val_accuracy: 0.3600\n",
            "Epoch 115/500\n",
            "6/6 [==============================] - 0s 11ms/step - loss: 1.5486 - accuracy: 0.4243 - val_loss: 1.6919 - val_accuracy: 0.3567\n",
            "Epoch 116/500\n",
            "6/6 [==============================] - 0s 11ms/step - loss: 1.5701 - accuracy: 0.4457 - val_loss: 1.6899 - val_accuracy: 0.3333\n",
            "Epoch 117/500\n",
            "6/6 [==============================] - 0s 10ms/step - loss: 1.5605 - accuracy: 0.4357 - val_loss: 1.7058 - val_accuracy: 0.3333\n",
            "Epoch 118/500\n",
            "6/6 [==============================] - 0s 12ms/step - loss: 1.5423 - accuracy: 0.4386 - val_loss: 1.7105 - val_accuracy: 0.3567\n",
            "Epoch 119/500\n",
            "6/6 [==============================] - 0s 10ms/step - loss: 1.5269 - accuracy: 0.4529 - val_loss: 1.6962 - val_accuracy: 0.3333\n",
            "Epoch 120/500\n",
            "6/6 [==============================] - 0s 10ms/step - loss: 1.5232 - accuracy: 0.4371 - val_loss: 1.6973 - val_accuracy: 0.3633\n",
            "Epoch 121/500\n",
            "6/6 [==============================] - 0s 11ms/step - loss: 1.5090 - accuracy: 0.4471 - val_loss: 1.7012 - val_accuracy: 0.3300\n",
            "Epoch 122/500\n",
            "6/6 [==============================] - 0s 11ms/step - loss: 1.5395 - accuracy: 0.4471 - val_loss: 1.6966 - val_accuracy: 0.3467\n",
            "Epoch 123/500\n",
            "6/6 [==============================] - 0s 11ms/step - loss: 1.5297 - accuracy: 0.4457 - val_loss: 1.7017 - val_accuracy: 0.3567\n",
            "Epoch 124/500\n",
            "6/6 [==============================] - 0s 11ms/step - loss: 1.5331 - accuracy: 0.4386 - val_loss: 1.6944 - val_accuracy: 0.3533\n",
            "Epoch 125/500\n",
            "6/6 [==============================] - 0s 11ms/step - loss: 1.5606 - accuracy: 0.4614 - val_loss: 1.6902 - val_accuracy: 0.3467\n",
            "Epoch 126/500\n",
            "6/6 [==============================] - 0s 11ms/step - loss: 1.5201 - accuracy: 0.4371 - val_loss: 1.6840 - val_accuracy: 0.3400\n",
            "Epoch 127/500\n",
            "6/6 [==============================] - 0s 10ms/step - loss: 1.5385 - accuracy: 0.4500 - val_loss: 1.6890 - val_accuracy: 0.3600\n",
            "Epoch 128/500\n",
            "6/6 [==============================] - 0s 13ms/step - loss: 1.5152 - accuracy: 0.4486 - val_loss: 1.6900 - val_accuracy: 0.3367\n",
            "Epoch 129/500\n",
            "6/6 [==============================] - 0s 11ms/step - loss: 1.5204 - accuracy: 0.4586 - val_loss: 1.6885 - val_accuracy: 0.3533\n",
            "Epoch 130/500\n",
            "6/6 [==============================] - 0s 11ms/step - loss: 1.5204 - accuracy: 0.4386 - val_loss: 1.6851 - val_accuracy: 0.3467\n",
            "Epoch 131/500\n",
            "6/6 [==============================] - 0s 12ms/step - loss: 1.5735 - accuracy: 0.4357 - val_loss: 1.6903 - val_accuracy: 0.3533\n",
            "Epoch 132/500\n",
            "6/6 [==============================] - 0s 12ms/step - loss: 1.5416 - accuracy: 0.4343 - val_loss: 1.6801 - val_accuracy: 0.3800\n",
            "Epoch 133/500\n",
            "6/6 [==============================] - 0s 11ms/step - loss: 1.5252 - accuracy: 0.4400 - val_loss: 1.6845 - val_accuracy: 0.3667\n",
            "Epoch 134/500\n",
            "6/6 [==============================] - 0s 10ms/step - loss: 1.5092 - accuracy: 0.4571 - val_loss: 1.6916 - val_accuracy: 0.3533\n",
            "Epoch 135/500\n",
            "6/6 [==============================] - 0s 11ms/step - loss: 1.5381 - accuracy: 0.4500 - val_loss: 1.6820 - val_accuracy: 0.3500\n",
            "Epoch 136/500\n",
            "6/6 [==============================] - 0s 11ms/step - loss: 1.5197 - accuracy: 0.4429 - val_loss: 1.6814 - val_accuracy: 0.3800\n",
            "Epoch 137/500\n",
            "6/6 [==============================] - 0s 12ms/step - loss: 1.5044 - accuracy: 0.4486 - val_loss: 1.6828 - val_accuracy: 0.3633\n",
            "Epoch 138/500\n",
            "6/6 [==============================] - 0s 11ms/step - loss: 1.5230 - accuracy: 0.4257 - val_loss: 1.6817 - val_accuracy: 0.3667\n",
            "Epoch 139/500\n",
            "6/6 [==============================] - 0s 11ms/step - loss: 1.5111 - accuracy: 0.4671 - val_loss: 1.6856 - val_accuracy: 0.3733\n",
            "Epoch 140/500\n",
            "6/6 [==============================] - 0s 11ms/step - loss: 1.5571 - accuracy: 0.4429 - val_loss: 1.6874 - val_accuracy: 0.3433\n",
            "Epoch 141/500\n",
            "6/6 [==============================] - 0s 13ms/step - loss: 1.4969 - accuracy: 0.4329 - val_loss: 1.6949 - val_accuracy: 0.3600\n",
            "Epoch 142/500\n",
            "6/6 [==============================] - 0s 11ms/step - loss: 1.5117 - accuracy: 0.4671 - val_loss: 1.6805 - val_accuracy: 0.3533\n",
            "Epoch 143/500\n",
            "6/6 [==============================] - 0s 11ms/step - loss: 1.5034 - accuracy: 0.4500 - val_loss: 1.6840 - val_accuracy: 0.3533\n",
            "Epoch 144/500\n",
            "6/6 [==============================] - 0s 11ms/step - loss: 1.5085 - accuracy: 0.4500 - val_loss: 1.6861 - val_accuracy: 0.3467\n",
            "Epoch 145/500\n",
            "6/6 [==============================] - 0s 10ms/step - loss: 1.5255 - accuracy: 0.4429 - val_loss: 1.6935 - val_accuracy: 0.3567\n",
            "Epoch 146/500\n",
            "6/6 [==============================] - 0s 11ms/step - loss: 1.5939 - accuracy: 0.4314 - val_loss: 1.6962 - val_accuracy: 0.3533\n",
            "Epoch 147/500\n",
            "6/6 [==============================] - 0s 13ms/step - loss: 1.5065 - accuracy: 0.4686 - val_loss: 1.6890 - val_accuracy: 0.3500\n",
            "Epoch 148/500\n",
            "6/6 [==============================] - 0s 11ms/step - loss: 1.5136 - accuracy: 0.4543 - val_loss: 1.6779 - val_accuracy: 0.3533\n",
            "Epoch 149/500\n",
            "6/6 [==============================] - 0s 11ms/step - loss: 1.4858 - accuracy: 0.4529 - val_loss: 1.6805 - val_accuracy: 0.3600\n",
            "Epoch 150/500\n",
            "6/6 [==============================] - 0s 11ms/step - loss: 1.4867 - accuracy: 0.4600 - val_loss: 1.6770 - val_accuracy: 0.3600\n",
            "Epoch 151/500\n",
            "6/6 [==============================] - 0s 11ms/step - loss: 1.5415 - accuracy: 0.4371 - val_loss: 1.6790 - val_accuracy: 0.3633\n",
            "Epoch 152/500\n",
            "6/6 [==============================] - 0s 11ms/step - loss: 1.5204 - accuracy: 0.4500 - val_loss: 1.6827 - val_accuracy: 0.3633\n",
            "Epoch 153/500\n",
            "6/6 [==============================] - 0s 11ms/step - loss: 1.5504 - accuracy: 0.4614 - val_loss: 1.6912 - val_accuracy: 0.3700\n",
            "Epoch 154/500\n",
            "6/6 [==============================] - 0s 13ms/step - loss: 1.5293 - accuracy: 0.4329 - val_loss: 1.6865 - val_accuracy: 0.3633\n",
            "Epoch 155/500\n",
            "6/6 [==============================] - 0s 11ms/step - loss: 1.5328 - accuracy: 0.4500 - val_loss: 1.6776 - val_accuracy: 0.3733\n",
            "Epoch 156/500\n",
            "6/6 [==============================] - 0s 12ms/step - loss: 1.5151 - accuracy: 0.4614 - val_loss: 1.6755 - val_accuracy: 0.3800\n",
            "Epoch 157/500\n",
            "6/6 [==============================] - 0s 11ms/step - loss: 1.5033 - accuracy: 0.4443 - val_loss: 1.6820 - val_accuracy: 0.3733\n",
            "Epoch 158/500\n",
            "6/6 [==============================] - 0s 12ms/step - loss: 1.4907 - accuracy: 0.4629 - val_loss: 1.6848 - val_accuracy: 0.3567\n",
            "Epoch 159/500\n",
            "6/6 [==============================] - 0s 11ms/step - loss: 1.5042 - accuracy: 0.4600 - val_loss: 1.6819 - val_accuracy: 0.3700\n",
            "Epoch 160/500\n",
            "6/6 [==============================] - 0s 11ms/step - loss: 1.5093 - accuracy: 0.4500 - val_loss: 1.6769 - val_accuracy: 0.3700\n",
            "Epoch 161/500\n",
            "6/6 [==============================] - 0s 13ms/step - loss: 1.5008 - accuracy: 0.4614 - val_loss: 1.6785 - val_accuracy: 0.3533\n",
            "Epoch 162/500\n",
            "6/6 [==============================] - 0s 12ms/step - loss: 1.5048 - accuracy: 0.4586 - val_loss: 1.6878 - val_accuracy: 0.3667\n",
            "Epoch 163/500\n",
            "6/6 [==============================] - 0s 11ms/step - loss: 1.5263 - accuracy: 0.4586 - val_loss: 1.6920 - val_accuracy: 0.3700\n",
            "Epoch 164/500\n",
            "6/6 [==============================] - 0s 12ms/step - loss: 1.4991 - accuracy: 0.4629 - val_loss: 1.6811 - val_accuracy: 0.3600\n",
            "Epoch 165/500\n",
            "6/6 [==============================] - 0s 11ms/step - loss: 1.5168 - accuracy: 0.4643 - val_loss: 1.6847 - val_accuracy: 0.3633\n",
            "Epoch 166/500\n",
            "6/6 [==============================] - 0s 12ms/step - loss: 1.4947 - accuracy: 0.4471 - val_loss: 1.6852 - val_accuracy: 0.3733\n",
            "Epoch 167/500\n",
            "6/6 [==============================] - 0s 11ms/step - loss: 1.5060 - accuracy: 0.4657 - val_loss: 1.6869 - val_accuracy: 0.3667\n",
            "Epoch 168/500\n",
            "6/6 [==============================] - 0s 11ms/step - loss: 1.5227 - accuracy: 0.4300 - val_loss: 1.6803 - val_accuracy: 0.3633\n",
            "Epoch 169/500\n",
            "6/6 [==============================] - 0s 11ms/step - loss: 1.4957 - accuracy: 0.4543 - val_loss: 1.6664 - val_accuracy: 0.3700\n",
            "Epoch 170/500\n",
            "6/6 [==============================] - 0s 11ms/step - loss: 1.4845 - accuracy: 0.4529 - val_loss: 1.6629 - val_accuracy: 0.3667\n",
            "Epoch 171/500\n",
            "6/6 [==============================] - 0s 11ms/step - loss: 1.4680 - accuracy: 0.4786 - val_loss: 1.6673 - val_accuracy: 0.3667\n",
            "Epoch 172/500\n",
            "6/6 [==============================] - 0s 11ms/step - loss: 1.4878 - accuracy: 0.4600 - val_loss: 1.6868 - val_accuracy: 0.3667\n",
            "Epoch 173/500\n",
            "6/6 [==============================] - 0s 11ms/step - loss: 1.5145 - accuracy: 0.4500 - val_loss: 1.6831 - val_accuracy: 0.3633\n",
            "Epoch 174/500\n",
            "6/6 [==============================] - 0s 11ms/step - loss: 1.4729 - accuracy: 0.4829 - val_loss: 1.6722 - val_accuracy: 0.3633\n",
            "Epoch 175/500\n",
            "6/6 [==============================] - 0s 13ms/step - loss: 1.4939 - accuracy: 0.4443 - val_loss: 1.6721 - val_accuracy: 0.3833\n",
            "Epoch 176/500\n",
            "6/6 [==============================] - 0s 11ms/step - loss: 1.4681 - accuracy: 0.4614 - val_loss: 1.6729 - val_accuracy: 0.3833\n",
            "Epoch 177/500\n",
            "6/6 [==============================] - 0s 11ms/step - loss: 1.5259 - accuracy: 0.4314 - val_loss: 1.6834 - val_accuracy: 0.3733\n",
            "Epoch 178/500\n",
            "6/6 [==============================] - 0s 11ms/step - loss: 1.5156 - accuracy: 0.4686 - val_loss: 1.6751 - val_accuracy: 0.3700\n",
            "Epoch 179/500\n",
            "6/6 [==============================] - 0s 11ms/step - loss: 1.5202 - accuracy: 0.4500 - val_loss: 1.6703 - val_accuracy: 0.3767\n",
            "Epoch 180/500\n",
            "6/6 [==============================] - 0s 12ms/step - loss: 1.5041 - accuracy: 0.4357 - val_loss: 1.6709 - val_accuracy: 0.3733\n",
            "Epoch 181/500\n",
            "6/6 [==============================] - 0s 11ms/step - loss: 1.4736 - accuracy: 0.4386 - val_loss: 1.6855 - val_accuracy: 0.3567\n",
            "Epoch 182/500\n",
            "6/6 [==============================] - 0s 11ms/step - loss: 1.4956 - accuracy: 0.4486 - val_loss: 1.6711 - val_accuracy: 0.3767\n",
            "Epoch 183/500\n",
            "6/6 [==============================] - 0s 10ms/step - loss: 1.5374 - accuracy: 0.4371 - val_loss: 1.6683 - val_accuracy: 0.3867\n",
            "Epoch 184/500\n",
            "6/6 [==============================] - 0s 10ms/step - loss: 1.4635 - accuracy: 0.4657 - val_loss: 1.6801 - val_accuracy: 0.3733\n",
            "Epoch 185/500\n",
            "6/6 [==============================] - 0s 12ms/step - loss: 1.5259 - accuracy: 0.4457 - val_loss: 1.6721 - val_accuracy: 0.3467\n",
            "Epoch 186/500\n",
            "6/6 [==============================] - 0s 11ms/step - loss: 1.5136 - accuracy: 0.4643 - val_loss: 1.6819 - val_accuracy: 0.3500\n",
            "Epoch 187/500\n",
            "6/6 [==============================] - 0s 11ms/step - loss: 1.4877 - accuracy: 0.4471 - val_loss: 1.6732 - val_accuracy: 0.3800\n",
            "Epoch 188/500\n",
            "6/6 [==============================] - 0s 11ms/step - loss: 1.5072 - accuracy: 0.4486 - val_loss: 1.6665 - val_accuracy: 0.3800\n",
            "Epoch 189/500\n",
            "6/6 [==============================] - 0s 11ms/step - loss: 1.4818 - accuracy: 0.4543 - val_loss: 1.6659 - val_accuracy: 0.3800\n",
            "Epoch 190/500\n",
            "6/6 [==============================] - 0s 11ms/step - loss: 1.5142 - accuracy: 0.4586 - val_loss: 1.6684 - val_accuracy: 0.3667\n",
            "Epoch 191/500\n",
            "6/6 [==============================] - 0s 11ms/step - loss: 1.4791 - accuracy: 0.4671 - val_loss: 1.6747 - val_accuracy: 0.3667\n",
            "Epoch 192/500\n",
            "6/6 [==============================] - 0s 11ms/step - loss: 1.4670 - accuracy: 0.4671 - val_loss: 1.6817 - val_accuracy: 0.3733\n",
            "Epoch 193/500\n",
            "6/6 [==============================] - 0s 12ms/step - loss: 1.4736 - accuracy: 0.4771 - val_loss: 1.6714 - val_accuracy: 0.3867\n",
            "Epoch 194/500\n",
            "6/6 [==============================] - 0s 12ms/step - loss: 1.4832 - accuracy: 0.4600 - val_loss: 1.6732 - val_accuracy: 0.3767\n",
            "Epoch 195/500\n",
            "6/6 [==============================] - 0s 11ms/step - loss: 1.4645 - accuracy: 0.4686 - val_loss: 1.6799 - val_accuracy: 0.3733\n",
            "Epoch 00195: early stopping\n"
          ],
          "name": "stdout"
        },
        {
          "output_type": "execute_result",
          "data": {
            "text/plain": [
              "<tensorflow.python.keras.callbacks.History at 0x7f7119ac5390>"
            ]
          },
          "metadata": {
            "tags": []
          },
          "execution_count": 391
        }
      ]
    },
    {
      "cell_type": "code",
      "metadata": {
        "id": "NiHPIGUWyvu7",
        "colab_type": "code",
        "outputId": "0a40c099-bea8-475d-cbf4-6bff9b65af70",
        "colab": {
          "base_uri": "https://localhost:8080/",
          "height": 283
        }
      },
      "source": [
        "model_loss = pd.DataFrame(model.history.history)\n",
        "\n",
        "model_loss.plot()"
      ],
      "execution_count": 392,
      "outputs": [
        {
          "output_type": "execute_result",
          "data": {
            "text/plain": [
              "<matplotlib.axes._subplots.AxesSubplot at 0x7f7102805a58>"
            ]
          },
          "metadata": {
            "tags": []
          },
          "execution_count": 392
        },
        {
          "output_type": "display_data",
          "data": {
            "image/png": "[encoded data removed]",
            "text/plain": [
              "<Figure size 432x288 with 1 Axes>"
            ]
          },
          "metadata": {
            "tags": [],
            "needs_background": "light"
          }
        }
      ]
    },
    {
      "cell_type": "markdown",
      "metadata": {
        "id": "tknuOrdi0MUp",
        "colab_type": "text"
      },
      "source": [
        "###### Prediction"
      ]
    },
    {
      "cell_type": "code",
      "metadata": {
        "id": "ywcl4I8Sy_B_",
        "colab_type": "code",
        "colab": {}
      },
      "source": [
        "predictions = model.predict_classes(X_test)"
      ],
      "execution_count": 0,
      "outputs": []
    },
    {
      "cell_type": "code",
      "metadata": {
        "id": "ATsB_Vsl0RHu",
        "colab_type": "code",
        "colab": {}
      },
      "source": [
        "from sklearn.metrics import classification_report,confusion_matrix"
      ],
      "execution_count": 0,
      "outputs": []
    },
    {
      "cell_type": "code",
      "metadata": {
        "id": "Cxe1VUC30nAh",
        "colab_type": "code",
        "outputId": "bcabfb41-3b1a-47d1-aa00-4dc15cf68053",
        "colab": {
          "base_uri": "https://localhost:8080/",
          "height": 329
        }
      },
      "source": [
        "print(classification_report(y_test,predictions))"
      ],
      "execution_count": 395,
      "outputs": [
        {
          "output_type": "stream",
          "text": [
            "              precision    recall  f1-score   support\n",
            "\n",
            "           0       0.60      0.07      0.13        40\n",
            "           1       0.83      0.81      0.82        37\n",
            "           2       0.18      0.23      0.21        30\n",
            "           3       0.29      0.07      0.11        30\n",
            "           4       0.24      0.17      0.20        29\n",
            "           5       0.34      0.38      0.36        32\n",
            "           6       0.53      0.71      0.61        28\n",
            "           7       0.34      0.67      0.45        24\n",
            "           8       0.27      0.31      0.29        26\n",
            "           9       0.21      0.38      0.27        24\n",
            "\n",
            "    accuracy                           0.37       300\n",
            "   macro avg       0.38      0.38      0.34       300\n",
            "weighted avg       0.41      0.37      0.35       300\n",
            "\n"
          ],
          "name": "stdout"
        }
      ]
    },
    {
      "cell_type": "code",
      "metadata": {
        "id": "tVx5bmHw0pMt",
        "colab_type": "code",
        "outputId": "5c2416aa-dd83-4df2-f8bf-445f39a983cb",
        "colab": {
          "base_uri": "https://localhost:8080/",
          "height": 201
        }
      },
      "source": [
        "print(confusion_matrix(y_test,predictions))"
      ],
      "execution_count": 396,
      "outputs": [
        {
          "output_type": "stream",
          "text": [
            "[[ 3  1  6  0  1 12  1  0  7  9]\n",
            " [ 0 30  3  0  0  1  0  0  2  1]\n",
            " [ 2  0  7  0  0  8  0  8  0  5]\n",
            " [ 0  0  2  2  3  0  6  5  2 10]\n",
            " [ 0  0  0  2  5  0  6  7  7  2]\n",
            " [ 0  5  8  0  0 12  1  6  0  0]\n",
            " [ 0  0  0  0  4  0 20  0  0  4]\n",
            " [ 0  0  2  2  0  2  0 16  2  0]\n",
            " [ 0  0  4  0  7  0  2  2  8  3]\n",
            " [ 0  0  6  1  1  0  2  3  2  9]]\n"
          ],
          "name": "stdout"
        }
      ]
    },
    {
      "cell_type": "markdown",
      "metadata": {
        "id": "GtAM3IH7gPkz",
        "colab_type": "text"
      },
      "source": [
        "#### Model: Randomize the Dataframe"
      ]
    },
    {
      "cell_type": "code",
      "metadata": {
        "id": "YZbFkeuef86Y",
        "colab_type": "code",
        "colab": {}
      },
      "source": [
        "# randomize the rows\n",
        "from sklearn.utils import shuffle"
      ],
      "execution_count": 0,
      "outputs": []
    },
    {
      "cell_type": "code",
      "metadata": {
        "id": "KbzQFaxtf-bt",
        "colab_type": "code",
        "colab": {
          "base_uri": "https://localhost:8080/",
          "height": 206
        },
        "outputId": "ad9a1789-ce32-4e65-a743-13fd03522614"
      },
      "source": [
        "ran_data = shuffle(data)\n",
        "\n",
        "ran_data.head()"
      ],
      "execution_count": 398,
      "outputs": [
        {
          "output_type": "execute_result",
          "data": {
            "text/html": [
              "<div>\n",
              "<style scoped>\n",
              "    .dataframe tbody tr th:only-of-type {\n",
              "        vertical-align: middle;\n",
              "    }\n",
              "\n",
              "    .dataframe tbody tr th {\n",
              "        vertical-align: top;\n",
              "    }\n",
              "\n",
              "    .dataframe thead th {\n",
              "        text-align: right;\n",
              "    }\n",
              "</style>\n",
              "<table border=\"1\" class=\"dataframe\">\n",
              "  <thead>\n",
              "    <tr style=\"text-align: right;\">\n",
              "      <th></th>\n",
              "      <th>name</th>\n",
              "      <th>chroma</th>\n",
              "      <th>centroid</th>\n",
              "      <th>bandwidth</th>\n",
              "      <th>rolloff</th>\n",
              "      <th>zero-crossing rate</th>\n",
              "      <th>type</th>\n",
              "    </tr>\n",
              "  </thead>\n",
              "  <tbody>\n",
              "    <tr>\n",
              "      <th>923</th>\n",
              "      <td>country.00022.wav</td>\n",
              "      <td>0.321503</td>\n",
              "      <td>1719.309237</td>\n",
              "      <td>2142.286763</td>\n",
              "      <td>3449.400977</td>\n",
              "      <td>0.068057</td>\n",
              "      <td>country</td>\n",
              "    </tr>\n",
              "    <tr>\n",
              "      <th>879</th>\n",
              "      <td>classical.00078.wav</td>\n",
              "      <td>0.225150</td>\n",
              "      <td>715.399707</td>\n",
              "      <td>1030.415264</td>\n",
              "      <td>1037.798803</td>\n",
              "      <td>0.041282</td>\n",
              "      <td>classical</td>\n",
              "    </tr>\n",
              "    <tr>\n",
              "      <th>491</th>\n",
              "      <td>disco.00094.wav</td>\n",
              "      <td>0.416821</td>\n",
              "      <td>2207.386073</td>\n",
              "      <td>2353.334092</td>\n",
              "      <td>5074.017037</td>\n",
              "      <td>0.093556</td>\n",
              "      <td>disco</td>\n",
              "    </tr>\n",
              "    <tr>\n",
              "      <th>746</th>\n",
              "      <td>reggae.00048.wav</td>\n",
              "      <td>0.390177</td>\n",
              "      <td>2672.851913</td>\n",
              "      <td>2549.790518</td>\n",
              "      <td>5607.942217</td>\n",
              "      <td>0.111168</td>\n",
              "      <td>reggae</td>\n",
              "    </tr>\n",
              "    <tr>\n",
              "      <th>594</th>\n",
              "      <td>rock.00094.wav</td>\n",
              "      <td>0.389313</td>\n",
              "      <td>2628.863788</td>\n",
              "      <td>2210.478936</td>\n",
              "      <td>5085.874454</td>\n",
              "      <td>0.146649</td>\n",
              "      <td>rock</td>\n",
              "    </tr>\n",
              "  </tbody>\n",
              "</table>\n",
              "</div>"
            ],
            "text/plain": [
              "                    name    chroma  ...  zero-crossing rate       type\n",
              "923    country.00022.wav  0.321503  ...            0.068057    country\n",
              "879  classical.00078.wav  0.225150  ...            0.041282  classical\n",
              "491      disco.00094.wav  0.416821  ...            0.093556      disco\n",
              "746     reggae.00048.wav  0.390177  ...            0.111168     reggae\n",
              "594       rock.00094.wav  0.389313  ...            0.146649       rock\n",
              "\n",
              "[5 rows x 7 columns]"
            ]
          },
          "metadata": {
            "tags": []
          },
          "execution_count": 398
        }
      ]
    },
    {
      "cell_type": "code",
      "metadata": {
        "colab_type": "code",
        "id": "TSZpxxKIgaXu",
        "colab": {}
      },
      "source": [
        "# encode labels\n",
        "y_ran = ran_data['type']\n",
        "\n",
        "y_ran = le.fit_transform(y_ran)"
      ],
      "execution_count": 0,
      "outputs": []
    },
    {
      "cell_type": "code",
      "metadata": {
        "colab_type": "code",
        "id": "GDOvG4fHgaX-",
        "colab": {}
      },
      "source": [
        "x_ran = ran_data.drop(['name','type'],axis=1)"
      ],
      "execution_count": 0,
      "outputs": []
    },
    {
      "cell_type": "code",
      "metadata": {
        "colab_type": "code",
        "id": "-uj9-f8SgaYH",
        "colab": {}
      },
      "source": [
        "# split \n",
        "X_train_ran, X_test_ran, y_train_ran, y_test_ran = train_test_split(x_ran,y_ran,test_size=0.3,random_state=101)"
      ],
      "execution_count": 0,
      "outputs": []
    },
    {
      "cell_type": "code",
      "metadata": {
        "colab_type": "code",
        "id": "IK5NGm-EgaYY",
        "colab": {}
      },
      "source": [
        "# scale \n",
        "X_train_ran = scaler.fit_transform(X_train_ran)\n",
        "\n",
        "X_test_ran = scaler.transform(X_test_ran)"
      ],
      "execution_count": 0,
      "outputs": []
    },
    {
      "cell_type": "code",
      "metadata": {
        "colab_type": "code",
        "id": "6qojVDnphAD0",
        "colab": {}
      },
      "source": [
        "# build model\n",
        "model = Sequential()\n",
        "\n",
        "model.add(Dense(256, activation='relu', input_shape=(X_train_ran.shape[1],)))\n",
        "model.add(Dropout(0.5))\n",
        "\n",
        "model.add(Dense(256, activation='relu'))\n",
        "model.add(Dropout(0.5))\n",
        "\n",
        "model.add(Dense(128, activation='relu'))\n",
        "model.add(Dropout(0.5))\n",
        "\n",
        "model.add(Dense(64, activation='relu'))\n",
        "model.add(Dropout(0.5))\n",
        "\n",
        "model.add(Dense(10, activation='softmax'))\n",
        "\n",
        "model.compile(loss='sparse_categorical_crossentropy', optimizer='adam', metrics=['accuracy'])"
      ],
      "execution_count": 0,
      "outputs": []
    },
    {
      "cell_type": "code",
      "metadata": {
        "colab_type": "code",
        "id": "12pSMh0GhAEb",
        "colab": {}
      },
      "source": [
        "early_stop = EarlyStopping(monitor='val_loss', mode='min', verbose=1, patience=25)"
      ],
      "execution_count": 0,
      "outputs": []
    },
    {
      "cell_type": "code",
      "metadata": {
        "colab_type": "code",
        "outputId": "799a69a9-4608-42ab-cc2e-f3b148db652d",
        "id": "MRv0Ib55hAEw",
        "colab": {
          "base_uri": "https://localhost:8080/",
          "height": 1000
        }
      },
      "source": [
        "model.fit(x=X_train_ran, \n",
        "          y=y_train_ran, \n",
        "          epochs=500,\n",
        "          batch_size=128,\n",
        "          validation_data=(X_test, y_test), verbose=1,\n",
        "          callbacks=[early_stop]\n",
        "          )"
      ],
      "execution_count": 405,
      "outputs": [
        {
          "output_type": "stream",
          "text": [
            "Epoch 1/500\n",
            "6/6 [==============================] - 0s 25ms/step - loss: 2.3104 - accuracy: 0.1000 - val_loss: 2.2999 - val_accuracy: 0.0833\n",
            "Epoch 2/500\n",
            "6/6 [==============================] - 0s 11ms/step - loss: 2.3008 - accuracy: 0.0743 - val_loss: 2.2964 - val_accuracy: 0.0800\n",
            "Epoch 3/500\n",
            "6/6 [==============================] - 0s 11ms/step - loss: 2.2919 - accuracy: 0.0971 - val_loss: 2.2921 - val_accuracy: 0.0800\n",
            "Epoch 4/500\n",
            "6/6 [==============================] - 0s 11ms/step - loss: 2.2773 - accuracy: 0.1114 - val_loss: 2.2884 - val_accuracy: 0.0800\n",
            "Epoch 5/500\n",
            "6/6 [==============================] - 0s 12ms/step - loss: 2.2718 - accuracy: 0.1157 - val_loss: 2.2841 - val_accuracy: 0.0867\n",
            "Epoch 6/500\n",
            "6/6 [==============================] - 0s 11ms/step - loss: 2.2636 - accuracy: 0.1029 - val_loss: 2.2784 - val_accuracy: 0.0933\n",
            "Epoch 7/500\n",
            "6/6 [==============================] - 0s 11ms/step - loss: 2.2546 - accuracy: 0.1214 - val_loss: 2.2705 - val_accuracy: 0.1000\n",
            "Epoch 8/500\n",
            "6/6 [==============================] - 0s 10ms/step - loss: 2.2374 - accuracy: 0.1229 - val_loss: 2.2604 - val_accuracy: 0.1267\n",
            "Epoch 9/500\n",
            "6/6 [==============================] - 0s 11ms/step - loss: 2.2432 - accuracy: 0.1100 - val_loss: 2.2485 - val_accuracy: 0.1767\n",
            "Epoch 10/500\n",
            "6/6 [==============================] - 0s 12ms/step - loss: 2.2321 - accuracy: 0.1586 - val_loss: 2.2398 - val_accuracy: 0.2167\n",
            "Epoch 11/500\n",
            "6/6 [==============================] - 0s 10ms/step - loss: 2.2147 - accuracy: 0.1829 - val_loss: 2.2297 - val_accuracy: 0.2500\n",
            "Epoch 12/500\n",
            "6/6 [==============================] - 0s 10ms/step - loss: 2.1968 - accuracy: 0.1814 - val_loss: 2.2140 - val_accuracy: 0.2500\n",
            "Epoch 13/500\n",
            "6/6 [==============================] - 0s 11ms/step - loss: 2.1929 - accuracy: 0.2086 - val_loss: 2.2007 - val_accuracy: 0.2333\n",
            "Epoch 14/500\n",
            "6/6 [==============================] - 0s 12ms/step - loss: 2.1664 - accuracy: 0.1957 - val_loss: 2.1875 - val_accuracy: 0.2733\n",
            "Epoch 15/500\n",
            "6/6 [==============================] - 0s 10ms/step - loss: 2.1673 - accuracy: 0.2257 - val_loss: 2.1689 - val_accuracy: 0.2867\n",
            "Epoch 16/500\n",
            "6/6 [==============================] - 0s 10ms/step - loss: 2.1615 - accuracy: 0.2257 - val_loss: 2.1583 - val_accuracy: 0.2867\n",
            "Epoch 17/500\n",
            "6/6 [==============================] - 0s 10ms/step - loss: 2.1229 - accuracy: 0.2500 - val_loss: 2.1385 - val_accuracy: 0.2800\n",
            "Epoch 18/500\n",
            "6/6 [==============================] - 0s 10ms/step - loss: 2.1225 - accuracy: 0.2286 - val_loss: 2.1120 - val_accuracy: 0.2733\n",
            "Epoch 19/500\n",
            "6/6 [==============================] - 0s 11ms/step - loss: 2.1004 - accuracy: 0.2571 - val_loss: 2.0934 - val_accuracy: 0.2667\n",
            "Epoch 20/500\n",
            "6/6 [==============================] - 0s 11ms/step - loss: 2.0607 - accuracy: 0.2814 - val_loss: 2.0512 - val_accuracy: 0.2733\n",
            "Epoch 21/500\n",
            "6/6 [==============================] - 0s 10ms/step - loss: 2.0346 - accuracy: 0.2514 - val_loss: 2.0396 - val_accuracy: 0.2733\n",
            "Epoch 22/500\n",
            "6/6 [==============================] - 0s 11ms/step - loss: 2.0129 - accuracy: 0.2543 - val_loss: 2.0004 - val_accuracy: 0.2667\n",
            "Epoch 23/500\n",
            "6/6 [==============================] - 0s 12ms/step - loss: 1.9983 - accuracy: 0.2786 - val_loss: 1.9705 - val_accuracy: 0.2700\n",
            "Epoch 24/500\n",
            "6/6 [==============================] - 0s 11ms/step - loss: 1.9538 - accuracy: 0.2771 - val_loss: 1.9382 - val_accuracy: 0.2700\n",
            "Epoch 25/500\n",
            "6/6 [==============================] - 0s 10ms/step - loss: 1.9123 - accuracy: 0.2814 - val_loss: 1.9060 - val_accuracy: 0.2867\n",
            "Epoch 26/500\n",
            "6/6 [==============================] - 0s 10ms/step - loss: 1.9915 - accuracy: 0.2843 - val_loss: 1.8894 - val_accuracy: 0.3000\n",
            "Epoch 27/500\n",
            "6/6 [==============================] - 0s 10ms/step - loss: 1.9110 - accuracy: 0.2957 - val_loss: 1.8680 - val_accuracy: 0.2933\n",
            "Epoch 28/500\n",
            "6/6 [==============================] - 0s 10ms/step - loss: 1.8844 - accuracy: 0.3114 - val_loss: 1.8581 - val_accuracy: 0.3033\n",
            "Epoch 29/500\n",
            "6/6 [==============================] - 0s 11ms/step - loss: 1.8700 - accuracy: 0.3186 - val_loss: 1.8333 - val_accuracy: 0.2967\n",
            "Epoch 30/500\n",
            "6/6 [==============================] - 0s 11ms/step - loss: 1.8647 - accuracy: 0.3014 - val_loss: 1.8184 - val_accuracy: 0.2933\n",
            "Epoch 31/500\n",
            "6/6 [==============================] - 0s 11ms/step - loss: 1.8860 - accuracy: 0.2900 - val_loss: 1.8103 - val_accuracy: 0.2933\n",
            "Epoch 32/500\n",
            "6/6 [==============================] - 0s 11ms/step - loss: 1.8333 - accuracy: 0.3186 - val_loss: 1.7986 - val_accuracy: 0.3100\n",
            "Epoch 33/500\n",
            "6/6 [==============================] - 0s 11ms/step - loss: 1.8499 - accuracy: 0.3186 - val_loss: 1.7956 - val_accuracy: 0.3033\n",
            "Epoch 34/500\n",
            "6/6 [==============================] - 0s 11ms/step - loss: 1.8302 - accuracy: 0.3243 - val_loss: 1.7906 - val_accuracy: 0.3133\n",
            "Epoch 35/500\n",
            "6/6 [==============================] - 0s 11ms/step - loss: 1.7999 - accuracy: 0.3229 - val_loss: 1.7811 - val_accuracy: 0.3133\n",
            "Epoch 36/500\n",
            "6/6 [==============================] - 0s 11ms/step - loss: 1.8148 - accuracy: 0.3443 - val_loss: 1.7714 - val_accuracy: 0.3100\n",
            "Epoch 37/500\n",
            "6/6 [==============================] - 0s 13ms/step - loss: 1.7646 - accuracy: 0.3329 - val_loss: 1.7640 - val_accuracy: 0.3233\n",
            "Epoch 38/500\n",
            "6/6 [==============================] - 0s 10ms/step - loss: 1.8034 - accuracy: 0.3400 - val_loss: 1.7463 - val_accuracy: 0.3267\n",
            "Epoch 39/500\n",
            "6/6 [==============================] - 0s 11ms/step - loss: 1.8111 - accuracy: 0.3271 - val_loss: 1.7520 - val_accuracy: 0.3433\n",
            "Epoch 40/500\n",
            "6/6 [==============================] - 0s 10ms/step - loss: 1.7874 - accuracy: 0.3271 - val_loss: 1.7548 - val_accuracy: 0.3300\n",
            "Epoch 41/500\n",
            "6/6 [==============================] - 0s 10ms/step - loss: 1.7890 - accuracy: 0.3257 - val_loss: 1.7525 - val_accuracy: 0.3300\n",
            "Epoch 42/500\n",
            "6/6 [==============================] - 0s 13ms/step - loss: 1.7632 - accuracy: 0.3414 - val_loss: 1.7478 - val_accuracy: 0.3400\n",
            "Epoch 43/500\n",
            "6/6 [==============================] - 0s 11ms/step - loss: 1.7775 - accuracy: 0.3457 - val_loss: 1.7469 - val_accuracy: 0.3533\n",
            "Epoch 44/500\n",
            "6/6 [==============================] - 0s 10ms/step - loss: 1.7391 - accuracy: 0.3414 - val_loss: 1.7330 - val_accuracy: 0.3433\n",
            "Epoch 45/500\n",
            "6/6 [==============================] - 0s 10ms/step - loss: 1.7394 - accuracy: 0.3471 - val_loss: 1.7238 - val_accuracy: 0.3467\n",
            "Epoch 46/500\n",
            "6/6 [==============================] - 0s 11ms/step - loss: 1.7825 - accuracy: 0.3457 - val_loss: 1.7253 - val_accuracy: 0.3500\n",
            "Epoch 47/500\n",
            "6/6 [==============================] - 0s 12ms/step - loss: 1.7644 - accuracy: 0.3600 - val_loss: 1.7207 - val_accuracy: 0.3467\n",
            "Epoch 48/500\n",
            "6/6 [==============================] - 0s 10ms/step - loss: 1.6993 - accuracy: 0.3714 - val_loss: 1.7174 - val_accuracy: 0.3467\n",
            "Epoch 49/500\n",
            "6/6 [==============================] - 0s 11ms/step - loss: 1.7337 - accuracy: 0.3514 - val_loss: 1.7090 - val_accuracy: 0.3400\n",
            "Epoch 50/500\n",
            "6/6 [==============================] - 0s 11ms/step - loss: 1.7098 - accuracy: 0.3571 - val_loss: 1.7025 - val_accuracy: 0.3333\n",
            "Epoch 51/500\n",
            "6/6 [==============================] - 0s 11ms/step - loss: 1.6987 - accuracy: 0.3614 - val_loss: 1.6899 - val_accuracy: 0.3433\n",
            "Epoch 52/500\n",
            "6/6 [==============================] - 0s 12ms/step - loss: 1.7166 - accuracy: 0.3571 - val_loss: 1.6888 - val_accuracy: 0.3633\n",
            "Epoch 53/500\n",
            "6/6 [==============================] - 0s 11ms/step - loss: 1.6975 - accuracy: 0.3771 - val_loss: 1.6833 - val_accuracy: 0.3500\n",
            "Epoch 54/500\n",
            "6/6 [==============================] - 0s 11ms/step - loss: 1.6650 - accuracy: 0.3543 - val_loss: 1.6787 - val_accuracy: 0.3533\n",
            "Epoch 55/500\n",
            "6/6 [==============================] - 0s 10ms/step - loss: 1.6917 - accuracy: 0.3771 - val_loss: 1.6847 - val_accuracy: 0.3600\n",
            "Epoch 56/500\n",
            "6/6 [==============================] - 0s 11ms/step - loss: 1.7056 - accuracy: 0.3700 - val_loss: 1.6749 - val_accuracy: 0.3567\n",
            "Epoch 57/500\n",
            "6/6 [==============================] - 0s 11ms/step - loss: 1.6894 - accuracy: 0.3843 - val_loss: 1.6846 - val_accuracy: 0.3667\n",
            "Epoch 58/500\n",
            "6/6 [==============================] - 0s 10ms/step - loss: 1.6914 - accuracy: 0.3571 - val_loss: 1.6703 - val_accuracy: 0.3467\n",
            "Epoch 59/500\n",
            "6/6 [==============================] - 0s 11ms/step - loss: 1.6811 - accuracy: 0.3929 - val_loss: 1.6730 - val_accuracy: 0.3533\n",
            "Epoch 60/500\n",
            "6/6 [==============================] - 0s 11ms/step - loss: 1.6926 - accuracy: 0.3686 - val_loss: 1.6823 - val_accuracy: 0.3533\n",
            "Epoch 61/500\n",
            "6/6 [==============================] - 0s 12ms/step - loss: 1.7000 - accuracy: 0.3586 - val_loss: 1.6583 - val_accuracy: 0.3433\n",
            "Epoch 62/500\n",
            "6/6 [==============================] - 0s 11ms/step - loss: 1.6600 - accuracy: 0.3957 - val_loss: 1.6584 - val_accuracy: 0.3433\n",
            "Epoch 63/500\n",
            "6/6 [==============================] - 0s 10ms/step - loss: 1.6726 - accuracy: 0.3843 - val_loss: 1.6704 - val_accuracy: 0.3500\n",
            "Epoch 64/500\n",
            "6/6 [==============================] - 0s 11ms/step - loss: 1.6825 - accuracy: 0.3586 - val_loss: 1.6655 - val_accuracy: 0.3467\n",
            "Epoch 65/500\n",
            "6/6 [==============================] - 0s 10ms/step - loss: 1.6597 - accuracy: 0.4029 - val_loss: 1.6529 - val_accuracy: 0.3600\n",
            "Epoch 66/500\n",
            "6/6 [==============================] - 0s 10ms/step - loss: 1.6577 - accuracy: 0.3657 - val_loss: 1.6790 - val_accuracy: 0.3600\n",
            "Epoch 67/500\n",
            "6/6 [==============================] - 0s 10ms/step - loss: 1.6740 - accuracy: 0.3929 - val_loss: 1.6638 - val_accuracy: 0.3600\n",
            "Epoch 68/500\n",
            "6/6 [==============================] - 0s 10ms/step - loss: 1.6790 - accuracy: 0.3971 - val_loss: 1.6548 - val_accuracy: 0.3567\n",
            "Epoch 69/500\n",
            "6/6 [==============================] - 0s 11ms/step - loss: 1.6750 - accuracy: 0.3986 - val_loss: 1.6587 - val_accuracy: 0.3667\n",
            "Epoch 70/500\n",
            "6/6 [==============================] - 0s 11ms/step - loss: 1.6654 - accuracy: 0.3686 - val_loss: 1.6536 - val_accuracy: 0.3567\n",
            "Epoch 71/500\n",
            "6/6 [==============================] - 0s 12ms/step - loss: 1.6931 - accuracy: 0.3800 - val_loss: 1.6541 - val_accuracy: 0.3633\n",
            "Epoch 72/500\n",
            "6/6 [==============================] - 0s 10ms/step - loss: 1.6417 - accuracy: 0.3843 - val_loss: 1.6688 - val_accuracy: 0.3600\n",
            "Epoch 73/500\n",
            "6/6 [==============================] - 0s 11ms/step - loss: 1.6608 - accuracy: 0.3886 - val_loss: 1.6508 - val_accuracy: 0.3600\n",
            "Epoch 74/500\n",
            "6/6 [==============================] - 0s 11ms/step - loss: 1.6380 - accuracy: 0.3957 - val_loss: 1.6606 - val_accuracy: 0.3633\n",
            "Epoch 75/500\n",
            "6/6 [==============================] - 0s 11ms/step - loss: 1.6298 - accuracy: 0.4000 - val_loss: 1.6487 - val_accuracy: 0.3567\n",
            "Epoch 76/500\n",
            "6/6 [==============================] - 0s 10ms/step - loss: 1.6631 - accuracy: 0.3829 - val_loss: 1.6442 - val_accuracy: 0.3733\n",
            "Epoch 77/500\n",
            "6/6 [==============================] - 0s 11ms/step - loss: 1.6403 - accuracy: 0.3957 - val_loss: 1.6458 - val_accuracy: 0.3700\n",
            "Epoch 78/500\n",
            "6/6 [==============================] - 0s 11ms/step - loss: 1.6287 - accuracy: 0.3814 - val_loss: 1.6353 - val_accuracy: 0.3633\n",
            "Epoch 79/500\n",
            "6/6 [==============================] - 0s 12ms/step - loss: 1.6364 - accuracy: 0.3871 - val_loss: 1.6506 - val_accuracy: 0.3533\n",
            "Epoch 80/500\n",
            "6/6 [==============================] - 0s 12ms/step - loss: 1.6192 - accuracy: 0.3957 - val_loss: 1.6547 - val_accuracy: 0.3600\n",
            "Epoch 81/500\n",
            "6/6 [==============================] - 0s 10ms/step - loss: 1.6479 - accuracy: 0.3929 - val_loss: 1.6358 - val_accuracy: 0.3467\n",
            "Epoch 82/500\n",
            "6/6 [==============================] - 0s 10ms/step - loss: 1.6499 - accuracy: 0.3771 - val_loss: 1.6344 - val_accuracy: 0.3600\n",
            "Epoch 83/500\n",
            "6/6 [==============================] - 0s 12ms/step - loss: 1.6202 - accuracy: 0.4000 - val_loss: 1.6316 - val_accuracy: 0.3467\n",
            "Epoch 84/500\n",
            "6/6 [==============================] - 0s 10ms/step - loss: 1.6452 - accuracy: 0.3971 - val_loss: 1.6412 - val_accuracy: 0.3667\n",
            "Epoch 85/500\n",
            "6/6 [==============================] - 0s 10ms/step - loss: 1.6408 - accuracy: 0.4000 - val_loss: 1.6447 - val_accuracy: 0.3667\n",
            "Epoch 86/500\n",
            "6/6 [==============================] - 0s 10ms/step - loss: 1.6069 - accuracy: 0.4043 - val_loss: 1.6320 - val_accuracy: 0.3600\n",
            "Epoch 87/500\n",
            "6/6 [==============================] - 0s 11ms/step - loss: 1.6132 - accuracy: 0.3714 - val_loss: 1.6299 - val_accuracy: 0.3800\n",
            "Epoch 88/500\n",
            "6/6 [==============================] - 0s 11ms/step - loss: 1.6676 - accuracy: 0.3657 - val_loss: 1.6345 - val_accuracy: 0.3800\n",
            "Epoch 89/500\n",
            "6/6 [==============================] - 0s 10ms/step - loss: 1.6347 - accuracy: 0.4129 - val_loss: 1.6233 - val_accuracy: 0.3733\n",
            "Epoch 90/500\n",
            "6/6 [==============================] - 0s 18ms/step - loss: 1.5815 - accuracy: 0.4129 - val_loss: 1.6224 - val_accuracy: 0.3667\n",
            "Epoch 91/500\n",
            "6/6 [==============================] - 0s 11ms/step - loss: 1.6158 - accuracy: 0.3871 - val_loss: 1.6418 - val_accuracy: 0.3600\n",
            "Epoch 92/500\n",
            "6/6 [==============================] - 0s 10ms/step - loss: 1.6152 - accuracy: 0.4143 - val_loss: 1.6197 - val_accuracy: 0.3700\n",
            "Epoch 93/500\n",
            "6/6 [==============================] - 0s 10ms/step - loss: 1.6177 - accuracy: 0.4271 - val_loss: 1.6201 - val_accuracy: 0.3767\n",
            "Epoch 94/500\n",
            "6/6 [==============================] - 0s 10ms/step - loss: 1.5749 - accuracy: 0.4143 - val_loss: 1.6160 - val_accuracy: 0.3700\n",
            "Epoch 95/500\n",
            "6/6 [==============================] - 0s 10ms/step - loss: 1.6153 - accuracy: 0.3914 - val_loss: 1.6156 - val_accuracy: 0.3633\n",
            "Epoch 96/500\n",
            "6/6 [==============================] - 0s 11ms/step - loss: 1.5820 - accuracy: 0.4029 - val_loss: 1.6209 - val_accuracy: 0.3833\n",
            "Epoch 97/500\n",
            "6/6 [==============================] - 0s 10ms/step - loss: 1.6035 - accuracy: 0.4200 - val_loss: 1.6051 - val_accuracy: 0.3600\n",
            "Epoch 98/500\n",
            "6/6 [==============================] - 0s 10ms/step - loss: 1.6237 - accuracy: 0.3943 - val_loss: 1.6170 - val_accuracy: 0.3567\n",
            "Epoch 99/500\n",
            "6/6 [==============================] - 0s 12ms/step - loss: 1.5584 - accuracy: 0.4129 - val_loss: 1.6222 - val_accuracy: 0.3767\n",
            "Epoch 100/500\n",
            "6/6 [==============================] - 0s 11ms/step - loss: 1.6146 - accuracy: 0.4014 - val_loss: 1.6163 - val_accuracy: 0.3700\n",
            "Epoch 101/500\n",
            "6/6 [==============================] - 0s 11ms/step - loss: 1.6200 - accuracy: 0.4071 - val_loss: 1.6154 - val_accuracy: 0.3567\n",
            "Epoch 102/500\n",
            "6/6 [==============================] - 0s 11ms/step - loss: 1.5621 - accuracy: 0.4229 - val_loss: 1.6080 - val_accuracy: 0.3500\n",
            "Epoch 103/500\n",
            "6/6 [==============================] - 0s 11ms/step - loss: 1.6206 - accuracy: 0.4286 - val_loss: 1.6162 - val_accuracy: 0.3900\n",
            "Epoch 104/500\n",
            "6/6 [==============================] - 0s 11ms/step - loss: 1.6122 - accuracy: 0.4000 - val_loss: 1.6114 - val_accuracy: 0.3767\n",
            "Epoch 105/500\n",
            "6/6 [==============================] - 0s 10ms/step - loss: 1.5862 - accuracy: 0.4000 - val_loss: 1.6148 - val_accuracy: 0.3667\n",
            "Epoch 106/500\n",
            "6/6 [==============================] - 0s 13ms/step - loss: 1.6077 - accuracy: 0.4214 - val_loss: 1.6053 - val_accuracy: 0.3867\n",
            "Epoch 107/500\n",
            "6/6 [==============================] - 0s 11ms/step - loss: 1.5626 - accuracy: 0.4229 - val_loss: 1.6129 - val_accuracy: 0.3700\n",
            "Epoch 108/500\n",
            "6/6 [==============================] - 0s 12ms/step - loss: 1.6264 - accuracy: 0.4186 - val_loss: 1.6093 - val_accuracy: 0.3700\n",
            "Epoch 109/500\n",
            "6/6 [==============================] - 0s 10ms/step - loss: 1.5651 - accuracy: 0.4400 - val_loss: 1.5968 - val_accuracy: 0.3733\n",
            "Epoch 110/500\n",
            "6/6 [==============================] - 0s 11ms/step - loss: 1.6021 - accuracy: 0.4057 - val_loss: 1.5969 - val_accuracy: 0.3800\n",
            "Epoch 111/500\n",
            "6/6 [==============================] - 0s 13ms/step - loss: 1.5686 - accuracy: 0.4071 - val_loss: 1.5936 - val_accuracy: 0.3633\n",
            "Epoch 112/500\n",
            "6/6 [==============================] - 0s 11ms/step - loss: 1.5851 - accuracy: 0.4071 - val_loss: 1.5837 - val_accuracy: 0.3733\n",
            "Epoch 113/500\n",
            "6/6 [==============================] - 0s 11ms/step - loss: 1.5578 - accuracy: 0.4086 - val_loss: 1.5876 - val_accuracy: 0.3567\n",
            "Epoch 114/500\n",
            "6/6 [==============================] - 0s 11ms/step - loss: 1.5924 - accuracy: 0.4143 - val_loss: 1.5867 - val_accuracy: 0.3667\n",
            "Epoch 115/500\n",
            "6/6 [==============================] - 0s 12ms/step - loss: 1.5903 - accuracy: 0.4243 - val_loss: 1.5876 - val_accuracy: 0.3733\n",
            "Epoch 116/500\n",
            "6/6 [==============================] - 0s 11ms/step - loss: 1.5676 - accuracy: 0.4086 - val_loss: 1.5979 - val_accuracy: 0.3700\n",
            "Epoch 117/500\n",
            "6/6 [==============================] - 0s 11ms/step - loss: 1.6061 - accuracy: 0.4243 - val_loss: 1.5901 - val_accuracy: 0.3667\n",
            "Epoch 118/500\n",
            "6/6 [==============================] - 0s 12ms/step - loss: 1.5500 - accuracy: 0.4200 - val_loss: 1.6033 - val_accuracy: 0.3700\n",
            "Epoch 119/500\n",
            "6/6 [==============================] - 0s 11ms/step - loss: 1.6051 - accuracy: 0.3914 - val_loss: 1.5936 - val_accuracy: 0.3733\n",
            "Epoch 120/500\n",
            "6/6 [==============================] - 0s 11ms/step - loss: 1.5980 - accuracy: 0.4029 - val_loss: 1.5844 - val_accuracy: 0.3733\n",
            "Epoch 121/500\n",
            "6/6 [==============================] - 0s 10ms/step - loss: 1.5879 - accuracy: 0.4100 - val_loss: 1.6008 - val_accuracy: 0.3767\n",
            "Epoch 122/500\n",
            "6/6 [==============================] - 0s 11ms/step - loss: 1.5384 - accuracy: 0.4029 - val_loss: 1.5861 - val_accuracy: 0.3933\n",
            "Epoch 123/500\n",
            "6/6 [==============================] - 0s 10ms/step - loss: 1.5820 - accuracy: 0.4071 - val_loss: 1.5789 - val_accuracy: 0.3700\n",
            "Epoch 124/500\n",
            "6/6 [==============================] - 0s 11ms/step - loss: 1.5337 - accuracy: 0.4157 - val_loss: 1.6177 - val_accuracy: 0.3567\n",
            "Epoch 125/500\n",
            "6/6 [==============================] - 0s 10ms/step - loss: 1.5579 - accuracy: 0.4086 - val_loss: 1.5854 - val_accuracy: 0.3700\n",
            "Epoch 126/500\n",
            "6/6 [==============================] - 0s 11ms/step - loss: 1.5619 - accuracy: 0.4243 - val_loss: 1.5843 - val_accuracy: 0.3633\n",
            "Epoch 127/500\n",
            "6/6 [==============================] - 0s 12ms/step - loss: 1.5683 - accuracy: 0.4171 - val_loss: 1.5951 - val_accuracy: 0.3700\n",
            "Epoch 128/500\n",
            "6/6 [==============================] - 0s 10ms/step - loss: 1.5815 - accuracy: 0.4443 - val_loss: 1.5808 - val_accuracy: 0.3800\n",
            "Epoch 129/500\n",
            "6/6 [==============================] - 0s 10ms/step - loss: 1.5456 - accuracy: 0.4186 - val_loss: 1.5812 - val_accuracy: 0.3633\n",
            "Epoch 130/500\n",
            "6/6 [==============================] - 0s 12ms/step - loss: 1.5312 - accuracy: 0.4271 - val_loss: 1.5841 - val_accuracy: 0.3800\n",
            "Epoch 131/500\n",
            "6/6 [==============================] - 0s 11ms/step - loss: 1.5680 - accuracy: 0.4086 - val_loss: 1.5766 - val_accuracy: 0.3900\n",
            "Epoch 132/500\n",
            "6/6 [==============================] - 0s 10ms/step - loss: 1.5568 - accuracy: 0.4186 - val_loss: 1.5709 - val_accuracy: 0.3833\n",
            "Epoch 133/500\n",
            "6/6 [==============================] - 0s 10ms/step - loss: 1.5956 - accuracy: 0.4271 - val_loss: 1.5749 - val_accuracy: 0.3867\n",
            "Epoch 134/500\n",
            "6/6 [==============================] - 0s 10ms/step - loss: 1.5576 - accuracy: 0.4043 - val_loss: 1.5708 - val_accuracy: 0.3700\n",
            "Epoch 135/500\n",
            "6/6 [==============================] - 0s 10ms/step - loss: 1.5663 - accuracy: 0.4243 - val_loss: 1.5778 - val_accuracy: 0.3733\n",
            "Epoch 136/500\n",
            "6/6 [==============================] - 0s 12ms/step - loss: 1.6066 - accuracy: 0.4057 - val_loss: 1.5904 - val_accuracy: 0.3800\n",
            "Epoch 137/500\n",
            "6/6 [==============================] - 0s 12ms/step - loss: 1.5521 - accuracy: 0.4300 - val_loss: 1.5719 - val_accuracy: 0.3733\n",
            "Epoch 138/500\n",
            "6/6 [==============================] - 0s 11ms/step - loss: 1.5215 - accuracy: 0.4129 - val_loss: 1.5724 - val_accuracy: 0.3833\n",
            "Epoch 139/500\n",
            "6/6 [==============================] - 0s 11ms/step - loss: 1.5596 - accuracy: 0.4429 - val_loss: 1.5764 - val_accuracy: 0.3733\n",
            "Epoch 140/500\n",
            "6/6 [==============================] - 0s 11ms/step - loss: 1.5247 - accuracy: 0.4286 - val_loss: 1.5799 - val_accuracy: 0.3900\n",
            "Epoch 141/500\n",
            "6/6 [==============================] - 0s 11ms/step - loss: 1.5320 - accuracy: 0.4400 - val_loss: 1.5748 - val_accuracy: 0.3833\n",
            "Epoch 142/500\n",
            "6/6 [==============================] - 0s 10ms/step - loss: 1.5286 - accuracy: 0.4271 - val_loss: 1.5810 - val_accuracy: 0.3833\n",
            "Epoch 143/500\n",
            "6/6 [==============================] - 0s 11ms/step - loss: 1.5541 - accuracy: 0.4014 - val_loss: 1.5691 - val_accuracy: 0.3667\n",
            "Epoch 144/500\n",
            "6/6 [==============================] - 0s 10ms/step - loss: 1.5692 - accuracy: 0.4043 - val_loss: 1.5692 - val_accuracy: 0.3833\n",
            "Epoch 145/500\n",
            "6/6 [==============================] - 0s 12ms/step - loss: 1.5528 - accuracy: 0.4329 - val_loss: 1.5665 - val_accuracy: 0.3833\n",
            "Epoch 146/500\n",
            "6/6 [==============================] - 0s 12ms/step - loss: 1.6248 - accuracy: 0.4071 - val_loss: 1.5842 - val_accuracy: 0.3867\n",
            "Epoch 147/500\n",
            "6/6 [==============================] - 0s 10ms/step - loss: 1.5218 - accuracy: 0.4229 - val_loss: 1.5644 - val_accuracy: 0.3933\n",
            "Epoch 148/500\n",
            "6/6 [==============================] - 0s 11ms/step - loss: 1.5676 - accuracy: 0.4286 - val_loss: 1.5591 - val_accuracy: 0.3867\n",
            "Epoch 149/500\n",
            "6/6 [==============================] - 0s 11ms/step - loss: 1.5235 - accuracy: 0.4243 - val_loss: 1.5632 - val_accuracy: 0.3633\n",
            "Epoch 150/500\n",
            "6/6 [==============================] - 0s 11ms/step - loss: 1.5312 - accuracy: 0.4414 - val_loss: 1.5759 - val_accuracy: 0.3733\n",
            "Epoch 151/500\n",
            "6/6 [==============================] - 0s 11ms/step - loss: 1.5438 - accuracy: 0.4371 - val_loss: 1.5720 - val_accuracy: 0.3733\n",
            "Epoch 152/500\n",
            "6/6 [==============================] - 0s 11ms/step - loss: 1.5460 - accuracy: 0.4043 - val_loss: 1.5603 - val_accuracy: 0.3600\n",
            "Epoch 153/500\n",
            "6/6 [==============================] - 0s 11ms/step - loss: 1.5233 - accuracy: 0.4471 - val_loss: 1.5633 - val_accuracy: 0.3867\n",
            "Epoch 154/500\n",
            "6/6 [==============================] - 0s 10ms/step - loss: 1.5295 - accuracy: 0.4386 - val_loss: 1.5636 - val_accuracy: 0.3800\n",
            "Epoch 155/500\n",
            "6/6 [==============================] - 0s 11ms/step - loss: 1.5174 - accuracy: 0.4214 - val_loss: 1.5506 - val_accuracy: 0.3800\n",
            "Epoch 156/500\n",
            "6/6 [==============================] - 0s 13ms/step - loss: 1.5553 - accuracy: 0.4243 - val_loss: 1.5629 - val_accuracy: 0.3800\n",
            "Epoch 157/500\n",
            "6/6 [==============================] - 0s 10ms/step - loss: 1.5167 - accuracy: 0.4271 - val_loss: 1.5523 - val_accuracy: 0.3767\n",
            "Epoch 158/500\n",
            "6/6 [==============================] - 0s 11ms/step - loss: 1.5494 - accuracy: 0.4071 - val_loss: 1.5450 - val_accuracy: 0.3933\n",
            "Epoch 159/500\n",
            "6/6 [==============================] - 0s 10ms/step - loss: 1.5435 - accuracy: 0.4157 - val_loss: 1.5544 - val_accuracy: 0.3800\n",
            "Epoch 160/500\n",
            "6/6 [==============================] - 0s 11ms/step - loss: 1.5367 - accuracy: 0.4457 - val_loss: 1.5555 - val_accuracy: 0.3900\n",
            "Epoch 161/500\n",
            "6/6 [==============================] - 0s 11ms/step - loss: 1.5167 - accuracy: 0.4129 - val_loss: 1.5533 - val_accuracy: 0.3767\n",
            "Epoch 162/500\n",
            "6/6 [==============================] - 0s 10ms/step - loss: 1.5207 - accuracy: 0.4357 - val_loss: 1.5390 - val_accuracy: 0.3667\n",
            "Epoch 163/500\n",
            "6/6 [==============================] - 0s 10ms/step - loss: 1.5197 - accuracy: 0.4314 - val_loss: 1.5465 - val_accuracy: 0.3933\n",
            "Epoch 164/500\n",
            "6/6 [==============================] - 0s 10ms/step - loss: 1.5096 - accuracy: 0.4271 - val_loss: 1.5329 - val_accuracy: 0.3933\n",
            "Epoch 165/500\n",
            "6/6 [==============================] - 0s 13ms/step - loss: 1.4923 - accuracy: 0.4114 - val_loss: 1.5510 - val_accuracy: 0.3900\n",
            "Epoch 166/500\n",
            "6/6 [==============================] - 0s 10ms/step - loss: 1.5236 - accuracy: 0.4371 - val_loss: 1.5452 - val_accuracy: 0.3867\n",
            "Epoch 167/500\n",
            "6/6 [==============================] - 0s 11ms/step - loss: 1.5056 - accuracy: 0.4486 - val_loss: 1.5458 - val_accuracy: 0.3900\n",
            "Epoch 168/500\n",
            "6/6 [==============================] - 0s 10ms/step - loss: 1.4856 - accuracy: 0.4371 - val_loss: 1.5540 - val_accuracy: 0.3967\n",
            "Epoch 169/500\n",
            "6/6 [==============================] - 0s 11ms/step - loss: 1.5367 - accuracy: 0.4500 - val_loss: 1.5448 - val_accuracy: 0.3833\n",
            "Epoch 170/500\n",
            "6/6 [==============================] - 0s 12ms/step - loss: 1.5327 - accuracy: 0.4329 - val_loss: 1.5465 - val_accuracy: 0.3967\n",
            "Epoch 171/500\n",
            "6/6 [==============================] - 0s 11ms/step - loss: 1.5350 - accuracy: 0.4157 - val_loss: 1.5423 - val_accuracy: 0.3867\n",
            "Epoch 172/500\n",
            "6/6 [==============================] - 0s 11ms/step - loss: 1.5261 - accuracy: 0.4286 - val_loss: 1.5463 - val_accuracy: 0.3867\n",
            "Epoch 173/500\n",
            "6/6 [==============================] - 0s 11ms/step - loss: 1.5184 - accuracy: 0.4471 - val_loss: 1.5533 - val_accuracy: 0.3800\n",
            "Epoch 174/500\n",
            "6/6 [==============================] - 0s 10ms/step - loss: 1.5276 - accuracy: 0.4400 - val_loss: 1.5352 - val_accuracy: 0.3800\n",
            "Epoch 175/500\n",
            "6/6 [==============================] - 0s 12ms/step - loss: 1.4682 - accuracy: 0.4500 - val_loss: 1.5459 - val_accuracy: 0.3900\n",
            "Epoch 176/500\n",
            "6/6 [==============================] - 0s 10ms/step - loss: 1.5163 - accuracy: 0.4129 - val_loss: 1.5475 - val_accuracy: 0.4000\n",
            "Epoch 177/500\n",
            "6/6 [==============================] - 0s 10ms/step - loss: 1.5645 - accuracy: 0.4014 - val_loss: 1.5371 - val_accuracy: 0.3867\n",
            "Epoch 178/500\n",
            "6/6 [==============================] - 0s 12ms/step - loss: 1.5130 - accuracy: 0.4514 - val_loss: 1.5371 - val_accuracy: 0.3800\n",
            "Epoch 179/500\n",
            "6/6 [==============================] - 0s 11ms/step - loss: 1.5282 - accuracy: 0.4500 - val_loss: 1.5300 - val_accuracy: 0.3833\n",
            "Epoch 180/500\n",
            "6/6 [==============================] - 0s 11ms/step - loss: 1.5249 - accuracy: 0.4429 - val_loss: 1.5372 - val_accuracy: 0.3900\n",
            "Epoch 181/500\n",
            "6/6 [==============================] - 0s 11ms/step - loss: 1.4905 - accuracy: 0.4314 - val_loss: 1.5346 - val_accuracy: 0.4000\n",
            "Epoch 182/500\n",
            "6/6 [==============================] - 0s 10ms/step - loss: 1.5105 - accuracy: 0.4586 - val_loss: 1.5325 - val_accuracy: 0.3867\n",
            "Epoch 183/500\n",
            "6/6 [==============================] - 0s 12ms/step - loss: 1.4689 - accuracy: 0.4471 - val_loss: 1.5296 - val_accuracy: 0.3933\n",
            "Epoch 184/500\n",
            "6/6 [==============================] - 0s 12ms/step - loss: 1.5052 - accuracy: 0.4629 - val_loss: 1.5437 - val_accuracy: 0.4067\n",
            "Epoch 185/500\n",
            "6/6 [==============================] - 0s 10ms/step - loss: 1.5141 - accuracy: 0.4586 - val_loss: 1.5272 - val_accuracy: 0.4033\n",
            "Epoch 186/500\n",
            "6/6 [==============================] - 0s 10ms/step - loss: 1.5564 - accuracy: 0.4414 - val_loss: 1.5275 - val_accuracy: 0.3933\n",
            "Epoch 187/500\n",
            "6/6 [==============================] - 0s 11ms/step - loss: 1.4587 - accuracy: 0.4629 - val_loss: 1.5434 - val_accuracy: 0.4100\n",
            "Epoch 188/500\n",
            "6/6 [==============================] - 0s 11ms/step - loss: 1.4982 - accuracy: 0.4700 - val_loss: 1.5342 - val_accuracy: 0.4000\n",
            "Epoch 189/500\n",
            "6/6 [==============================] - 0s 11ms/step - loss: 1.5160 - accuracy: 0.4329 - val_loss: 1.5301 - val_accuracy: 0.3900\n",
            "Epoch 190/500\n",
            "6/6 [==============================] - 0s 10ms/step - loss: 1.5334 - accuracy: 0.4271 - val_loss: 1.5325 - val_accuracy: 0.3933\n",
            "Epoch 191/500\n",
            "6/6 [==============================] - 0s 11ms/step - loss: 1.4649 - accuracy: 0.4414 - val_loss: 1.5310 - val_accuracy: 0.3900\n",
            "Epoch 192/500\n",
            "6/6 [==============================] - 0s 12ms/step - loss: 1.5081 - accuracy: 0.4343 - val_loss: 1.5277 - val_accuracy: 0.3933\n",
            "Epoch 193/500\n",
            "6/6 [==============================] - 0s 11ms/step - loss: 1.5091 - accuracy: 0.4657 - val_loss: 1.5285 - val_accuracy: 0.4100\n",
            "Epoch 194/500\n",
            "6/6 [==============================] - 0s 12ms/step - loss: 1.5142 - accuracy: 0.4314 - val_loss: 1.5317 - val_accuracy: 0.3867\n",
            "Epoch 195/500\n",
            "6/6 [==============================] - 0s 11ms/step - loss: 1.5219 - accuracy: 0.4286 - val_loss: 1.5325 - val_accuracy: 0.3933\n",
            "Epoch 196/500\n",
            "6/6 [==============================] - 0s 11ms/step - loss: 1.5375 - accuracy: 0.4414 - val_loss: 1.5299 - val_accuracy: 0.3967\n",
            "Epoch 197/500\n",
            "6/6 [==============================] - 0s 10ms/step - loss: 1.5141 - accuracy: 0.4357 - val_loss: 1.5281 - val_accuracy: 0.3867\n",
            "Epoch 198/500\n",
            "6/6 [==============================] - 0s 11ms/step - loss: 1.5216 - accuracy: 0.4300 - val_loss: 1.5208 - val_accuracy: 0.4000\n",
            "Epoch 199/500\n",
            "6/6 [==============================] - 0s 10ms/step - loss: 1.4755 - accuracy: 0.4371 - val_loss: 1.5198 - val_accuracy: 0.4067\n",
            "Epoch 200/500\n",
            "6/6 [==============================] - 0s 10ms/step - loss: 1.5185 - accuracy: 0.4600 - val_loss: 1.5291 - val_accuracy: 0.4067\n",
            "Epoch 201/500\n",
            "6/6 [==============================] - 0s 11ms/step - loss: 1.5257 - accuracy: 0.4429 - val_loss: 1.5364 - val_accuracy: 0.4067\n",
            "Epoch 202/500\n",
            "6/6 [==============================] - 0s 11ms/step - loss: 1.4808 - accuracy: 0.4214 - val_loss: 1.5172 - val_accuracy: 0.4200\n",
            "Epoch 203/500\n",
            "6/6 [==============================] - 0s 12ms/step - loss: 1.5104 - accuracy: 0.4329 - val_loss: 1.5256 - val_accuracy: 0.4067\n",
            "Epoch 204/500\n",
            "6/6 [==============================] - 0s 11ms/step - loss: 1.5343 - accuracy: 0.4471 - val_loss: 1.5233 - val_accuracy: 0.3867\n",
            "Epoch 205/500\n",
            "6/6 [==============================] - 0s 11ms/step - loss: 1.4803 - accuracy: 0.4543 - val_loss: 1.5291 - val_accuracy: 0.4033\n",
            "Epoch 206/500\n",
            "6/6 [==============================] - 0s 11ms/step - loss: 1.4801 - accuracy: 0.4414 - val_loss: 1.5275 - val_accuracy: 0.4167\n",
            "Epoch 207/500\n",
            "6/6 [==============================] - 0s 11ms/step - loss: 1.5158 - accuracy: 0.4429 - val_loss: 1.5132 - val_accuracy: 0.4100\n",
            "Epoch 208/500\n",
            "6/6 [==============================] - 0s 10ms/step - loss: 1.4847 - accuracy: 0.4343 - val_loss: 1.5059 - val_accuracy: 0.4233\n",
            "Epoch 209/500\n",
            "6/6 [==============================] - 0s 10ms/step - loss: 1.4945 - accuracy: 0.4629 - val_loss: 1.5102 - val_accuracy: 0.4200\n",
            "Epoch 210/500\n",
            "6/6 [==============================] - 0s 12ms/step - loss: 1.4604 - accuracy: 0.4571 - val_loss: 1.5060 - val_accuracy: 0.4067\n",
            "Epoch 211/500\n",
            "6/6 [==============================] - 0s 11ms/step - loss: 1.4891 - accuracy: 0.4443 - val_loss: 1.5129 - val_accuracy: 0.3967\n",
            "Epoch 212/500\n",
            "6/6 [==============================] - 0s 10ms/step - loss: 1.4947 - accuracy: 0.4514 - val_loss: 1.5084 - val_accuracy: 0.4167\n",
            "Epoch 213/500\n",
            "6/6 [==============================] - 0s 12ms/step - loss: 1.5160 - accuracy: 0.4571 - val_loss: 1.5075 - val_accuracy: 0.4033\n",
            "Epoch 214/500\n",
            "6/6 [==============================] - 0s 10ms/step - loss: 1.4829 - accuracy: 0.4357 - val_loss: 1.5093 - val_accuracy: 0.3967\n",
            "Epoch 215/500\n",
            "6/6 [==============================] - 0s 10ms/step - loss: 1.4676 - accuracy: 0.4600 - val_loss: 1.5091 - val_accuracy: 0.3967\n",
            "Epoch 216/500\n",
            "6/6 [==============================] - 0s 10ms/step - loss: 1.4898 - accuracy: 0.4557 - val_loss: 1.5114 - val_accuracy: 0.4067\n",
            "Epoch 217/500\n",
            "6/6 [==============================] - 0s 11ms/step - loss: 1.4680 - accuracy: 0.4514 - val_loss: 1.5058 - val_accuracy: 0.4067\n",
            "Epoch 218/500\n",
            "6/6 [==============================] - 0s 11ms/step - loss: 1.4963 - accuracy: 0.4386 - val_loss: 1.5033 - val_accuracy: 0.4000\n",
            "Epoch 219/500\n",
            "6/6 [==============================] - 0s 10ms/step - loss: 1.4758 - accuracy: 0.4429 - val_loss: 1.4989 - val_accuracy: 0.4000\n",
            "Epoch 220/500\n",
            "6/6 [==============================] - 0s 12ms/step - loss: 1.5037 - accuracy: 0.4343 - val_loss: 1.5021 - val_accuracy: 0.4000\n",
            "Epoch 221/500\n",
            "6/6 [==============================] - 0s 11ms/step - loss: 1.4849 - accuracy: 0.4471 - val_loss: 1.5110 - val_accuracy: 0.3967\n",
            "Epoch 222/500\n",
            "6/6 [==============================] - 0s 12ms/step - loss: 1.4619 - accuracy: 0.4571 - val_loss: 1.5074 - val_accuracy: 0.3867\n",
            "Epoch 223/500\n",
            "6/6 [==============================] - 0s 12ms/step - loss: 1.4646 - accuracy: 0.4500 - val_loss: 1.4982 - val_accuracy: 0.3967\n",
            "Epoch 224/500\n",
            "6/6 [==============================] - 0s 11ms/step - loss: 1.5142 - accuracy: 0.4500 - val_loss: 1.4938 - val_accuracy: 0.4033\n",
            "Epoch 225/500\n",
            "6/6 [==============================] - 0s 10ms/step - loss: 1.4869 - accuracy: 0.4529 - val_loss: 1.5039 - val_accuracy: 0.3900\n",
            "Epoch 226/500\n",
            "6/6 [==============================] - 0s 11ms/step - loss: 1.4990 - accuracy: 0.4586 - val_loss: 1.5146 - val_accuracy: 0.3933\n",
            "Epoch 227/500\n",
            "6/6 [==============================] - 0s 13ms/step - loss: 1.4705 - accuracy: 0.4429 - val_loss: 1.5059 - val_accuracy: 0.3967\n",
            "Epoch 228/500\n",
            "6/6 [==============================] - 0s 11ms/step - loss: 1.4760 - accuracy: 0.4414 - val_loss: 1.5066 - val_accuracy: 0.3967\n",
            "Epoch 229/500\n",
            "6/6 [==============================] - 0s 11ms/step - loss: 1.4601 - accuracy: 0.4543 - val_loss: 1.5100 - val_accuracy: 0.4067\n",
            "Epoch 230/500\n",
            "6/6 [==============================] - 0s 10ms/step - loss: 1.4909 - accuracy: 0.4429 - val_loss: 1.5108 - val_accuracy: 0.4100\n",
            "Epoch 231/500\n",
            "6/6 [==============================] - 0s 10ms/step - loss: 1.4750 - accuracy: 0.4557 - val_loss: 1.5158 - val_accuracy: 0.4000\n",
            "Epoch 232/500\n",
            "6/6 [==============================] - 0s 12ms/step - loss: 1.4630 - accuracy: 0.4429 - val_loss: 1.5009 - val_accuracy: 0.4100\n",
            "Epoch 233/500\n",
            "6/6 [==============================] - 0s 10ms/step - loss: 1.4888 - accuracy: 0.4371 - val_loss: 1.4923 - val_accuracy: 0.4100\n",
            "Epoch 234/500\n",
            "6/6 [==============================] - 0s 10ms/step - loss: 1.5048 - accuracy: 0.4414 - val_loss: 1.5096 - val_accuracy: 0.4133\n",
            "Epoch 235/500\n",
            "6/6 [==============================] - 0s 11ms/step - loss: 1.4994 - accuracy: 0.4657 - val_loss: 1.4934 - val_accuracy: 0.4100\n",
            "Epoch 236/500\n",
            "6/6 [==============================] - 0s 10ms/step - loss: 1.5151 - accuracy: 0.4443 - val_loss: 1.4944 - val_accuracy: 0.3967\n",
            "Epoch 237/500\n",
            "6/6 [==============================] - 0s 11ms/step - loss: 1.4735 - accuracy: 0.4529 - val_loss: 1.4999 - val_accuracy: 0.4033\n",
            "Epoch 238/500\n",
            "6/6 [==============================] - 0s 10ms/step - loss: 1.4988 - accuracy: 0.4543 - val_loss: 1.5093 - val_accuracy: 0.3967\n",
            "Epoch 239/500\n",
            "6/6 [==============================] - 0s 10ms/step - loss: 1.4689 - accuracy: 0.4400 - val_loss: 1.5022 - val_accuracy: 0.3933\n",
            "Epoch 240/500\n",
            "6/6 [==============================] - 0s 12ms/step - loss: 1.4937 - accuracy: 0.4386 - val_loss: 1.4854 - val_accuracy: 0.4267\n",
            "Epoch 241/500\n",
            "6/6 [==============================] - 0s 12ms/step - loss: 1.4419 - accuracy: 0.4843 - val_loss: 1.4950 - val_accuracy: 0.4000\n",
            "Epoch 242/500\n",
            "6/6 [==============================] - 0s 10ms/step - loss: 1.4902 - accuracy: 0.4471 - val_loss: 1.4980 - val_accuracy: 0.4033\n",
            "Epoch 243/500\n",
            "6/6 [==============================] - 0s 11ms/step - loss: 1.4407 - accuracy: 0.4557 - val_loss: 1.5091 - val_accuracy: 0.4133\n",
            "Epoch 244/500\n",
            "6/6 [==============================] - 0s 11ms/step - loss: 1.4596 - accuracy: 0.4443 - val_loss: 1.5015 - val_accuracy: 0.4000\n",
            "Epoch 245/500\n",
            "6/6 [==============================] - 0s 11ms/step - loss: 1.4859 - accuracy: 0.4286 - val_loss: 1.5114 - val_accuracy: 0.4000\n",
            "Epoch 246/500\n",
            "6/6 [==============================] - 0s 11ms/step - loss: 1.4966 - accuracy: 0.4414 - val_loss: 1.5024 - val_accuracy: 0.4033\n",
            "Epoch 247/500\n",
            "6/6 [==============================] - 0s 10ms/step - loss: 1.4768 - accuracy: 0.4543 - val_loss: 1.4874 - val_accuracy: 0.4100\n",
            "Epoch 248/500\n",
            "6/6 [==============================] - 0s 10ms/step - loss: 1.4847 - accuracy: 0.4486 - val_loss: 1.4785 - val_accuracy: 0.4033\n",
            "Epoch 249/500\n",
            "6/6 [==============================] - 0s 10ms/step - loss: 1.4652 - accuracy: 0.4586 - val_loss: 1.4908 - val_accuracy: 0.4233\n",
            "Epoch 250/500\n",
            "6/6 [==============================] - 0s 11ms/step - loss: 1.4450 - accuracy: 0.4629 - val_loss: 1.4938 - val_accuracy: 0.4167\n",
            "Epoch 251/500\n",
            "6/6 [==============================] - 0s 12ms/step - loss: 1.4755 - accuracy: 0.4629 - val_loss: 1.4908 - val_accuracy: 0.4100\n",
            "Epoch 252/500\n",
            "6/6 [==============================] - 0s 11ms/step - loss: 1.4744 - accuracy: 0.4586 - val_loss: 1.4887 - val_accuracy: 0.4167\n",
            "Epoch 253/500\n",
            "6/6 [==============================] - 0s 11ms/step - loss: 1.4360 - accuracy: 0.4557 - val_loss: 1.4856 - val_accuracy: 0.4133\n",
            "Epoch 254/500\n",
            "6/6 [==============================] - 0s 11ms/step - loss: 1.4806 - accuracy: 0.4600 - val_loss: 1.4981 - val_accuracy: 0.4100\n",
            "Epoch 255/500\n",
            "6/6 [==============================] - 0s 10ms/step - loss: 1.4527 - accuracy: 0.4457 - val_loss: 1.4823 - val_accuracy: 0.4300\n",
            "Epoch 256/500\n",
            "6/6 [==============================] - 0s 12ms/step - loss: 1.4998 - accuracy: 0.4557 - val_loss: 1.4865 - val_accuracy: 0.4133\n",
            "Epoch 257/500\n",
            "6/6 [==============================] - 0s 11ms/step - loss: 1.5007 - accuracy: 0.4514 - val_loss: 1.4881 - val_accuracy: 0.4067\n",
            "Epoch 258/500\n",
            "6/6 [==============================] - 0s 10ms/step - loss: 1.4859 - accuracy: 0.4871 - val_loss: 1.4794 - val_accuracy: 0.4133\n",
            "Epoch 259/500\n",
            "6/6 [==============================] - 0s 10ms/step - loss: 1.4695 - accuracy: 0.4614 - val_loss: 1.4901 - val_accuracy: 0.4233\n",
            "Epoch 260/500\n",
            "6/6 [==============================] - 0s 12ms/step - loss: 1.4617 - accuracy: 0.4471 - val_loss: 1.4742 - val_accuracy: 0.4067\n",
            "Epoch 261/500\n",
            "6/6 [==============================] - 0s 11ms/step - loss: 1.4379 - accuracy: 0.4671 - val_loss: 1.4752 - val_accuracy: 0.4133\n",
            "Epoch 262/500\n",
            "6/6 [==============================] - 0s 10ms/step - loss: 1.5012 - accuracy: 0.4443 - val_loss: 1.4936 - val_accuracy: 0.4300\n",
            "Epoch 263/500\n",
            "6/6 [==============================] - 0s 10ms/step - loss: 1.4450 - accuracy: 0.4686 - val_loss: 1.4840 - val_accuracy: 0.4200\n",
            "Epoch 264/500\n",
            "6/6 [==============================] - 0s 11ms/step - loss: 1.4076 - accuracy: 0.4557 - val_loss: 1.4751 - val_accuracy: 0.4200\n",
            "Epoch 265/500\n",
            "6/6 [==============================] - 0s 11ms/step - loss: 1.4788 - accuracy: 0.4371 - val_loss: 1.4910 - val_accuracy: 0.4033\n",
            "Epoch 266/500\n",
            "6/6 [==============================] - 0s 10ms/step - loss: 1.4436 - accuracy: 0.4529 - val_loss: 1.4769 - val_accuracy: 0.4400\n",
            "Epoch 267/500\n",
            "6/6 [==============================] - 0s 10ms/step - loss: 1.4911 - accuracy: 0.4429 - val_loss: 1.4739 - val_accuracy: 0.4233\n",
            "Epoch 268/500\n",
            "6/6 [==============================] - 0s 10ms/step - loss: 1.4846 - accuracy: 0.4686 - val_loss: 1.4822 - val_accuracy: 0.4100\n",
            "Epoch 269/500\n",
            "6/6 [==============================] - 0s 10ms/step - loss: 1.4940 - accuracy: 0.4471 - val_loss: 1.4587 - val_accuracy: 0.4533\n",
            "Epoch 270/500\n",
            "6/6 [==============================] - 0s 12ms/step - loss: 1.4710 - accuracy: 0.4600 - val_loss: 1.4818 - val_accuracy: 0.4400\n",
            "Epoch 271/500\n",
            "6/6 [==============================] - 0s 12ms/step - loss: 1.4558 - accuracy: 0.4557 - val_loss: 1.4752 - val_accuracy: 0.4167\n",
            "Epoch 272/500\n",
            "6/6 [==============================] - 0s 10ms/step - loss: 1.4686 - accuracy: 0.4657 - val_loss: 1.4702 - val_accuracy: 0.4167\n",
            "Epoch 273/500\n",
            "6/6 [==============================] - 0s 11ms/step - loss: 1.4543 - accuracy: 0.4486 - val_loss: 1.4813 - val_accuracy: 0.4100\n",
            "Epoch 274/500\n",
            "6/6 [==============================] - 0s 11ms/step - loss: 1.4706 - accuracy: 0.4386 - val_loss: 1.4667 - val_accuracy: 0.4200\n",
            "Epoch 275/500\n",
            "6/6 [==============================] - 0s 10ms/step - loss: 1.4740 - accuracy: 0.4371 - val_loss: 1.4739 - val_accuracy: 0.4233\n",
            "Epoch 276/500\n",
            "6/6 [==============================] - 0s 10ms/step - loss: 1.4361 - accuracy: 0.4643 - val_loss: 1.4612 - val_accuracy: 0.4033\n",
            "Epoch 277/500\n",
            "6/6 [==============================] - 0s 12ms/step - loss: 1.4808 - accuracy: 0.4671 - val_loss: 1.4622 - val_accuracy: 0.4267\n",
            "Epoch 278/500\n",
            "6/6 [==============================] - 0s 10ms/step - loss: 1.4535 - accuracy: 0.4800 - val_loss: 1.4726 - val_accuracy: 0.4133\n",
            "Epoch 279/500\n",
            "6/6 [==============================] - 0s 12ms/step - loss: 1.4999 - accuracy: 0.4329 - val_loss: 1.4740 - val_accuracy: 0.4100\n",
            "Epoch 280/500\n",
            "6/6 [==============================] - 0s 12ms/step - loss: 1.4679 - accuracy: 0.4600 - val_loss: 1.4549 - val_accuracy: 0.4133\n",
            "Epoch 281/500\n",
            "6/6 [==============================] - 0s 11ms/step - loss: 1.4411 - accuracy: 0.4471 - val_loss: 1.4730 - val_accuracy: 0.4267\n",
            "Epoch 282/500\n",
            "6/6 [==============================] - 0s 10ms/step - loss: 1.4850 - accuracy: 0.4600 - val_loss: 1.4590 - val_accuracy: 0.4233\n",
            "Epoch 283/500\n",
            "6/6 [==============================] - 0s 12ms/step - loss: 1.4607 - accuracy: 0.4400 - val_loss: 1.4567 - val_accuracy: 0.4367\n",
            "Epoch 284/500\n",
            "6/6 [==============================] - 0s 11ms/step - loss: 1.4261 - accuracy: 0.4571 - val_loss: 1.4658 - val_accuracy: 0.4067\n",
            "Epoch 285/500\n",
            "6/6 [==============================] - 0s 10ms/step - loss: 1.4905 - accuracy: 0.4600 - val_loss: 1.4781 - val_accuracy: 0.4000\n",
            "Epoch 286/500\n",
            "6/6 [==============================] - 0s 11ms/step - loss: 1.4552 - accuracy: 0.4486 - val_loss: 1.4569 - val_accuracy: 0.4100\n",
            "Epoch 287/500\n",
            "6/6 [==============================] - 0s 10ms/step - loss: 1.4778 - accuracy: 0.4500 - val_loss: 1.4694 - val_accuracy: 0.4233\n",
            "Epoch 288/500\n",
            "6/6 [==============================] - 0s 11ms/step - loss: 1.4459 - accuracy: 0.4457 - val_loss: 1.4659 - val_accuracy: 0.4167\n",
            "Epoch 289/500\n",
            "6/6 [==============================] - 0s 12ms/step - loss: 1.4645 - accuracy: 0.4671 - val_loss: 1.4540 - val_accuracy: 0.4467\n",
            "Epoch 290/500\n",
            "6/6 [==============================] - 0s 11ms/step - loss: 1.4260 - accuracy: 0.4514 - val_loss: 1.4639 - val_accuracy: 0.4267\n",
            "Epoch 291/500\n",
            "6/6 [==============================] - 0s 11ms/step - loss: 1.4772 - accuracy: 0.4514 - val_loss: 1.4736 - val_accuracy: 0.4233\n",
            "Epoch 292/500\n",
            "6/6 [==============================] - 0s 11ms/step - loss: 1.4226 - accuracy: 0.4386 - val_loss: 1.4508 - val_accuracy: 0.4267\n",
            "Epoch 293/500\n",
            "6/6 [==============================] - 0s 11ms/step - loss: 1.4748 - accuracy: 0.4571 - val_loss: 1.4555 - val_accuracy: 0.4200\n",
            "Epoch 294/500\n",
            "6/6 [==============================] - 0s 10ms/step - loss: 1.4804 - accuracy: 0.4814 - val_loss: 1.4633 - val_accuracy: 0.4167\n",
            "Epoch 295/500\n",
            "6/6 [==============================] - 0s 11ms/step - loss: 1.4372 - accuracy: 0.4557 - val_loss: 1.4677 - val_accuracy: 0.4200\n",
            "Epoch 296/500\n",
            "6/6 [==============================] - 0s 11ms/step - loss: 1.4505 - accuracy: 0.4700 - val_loss: 1.4866 - val_accuracy: 0.4200\n",
            "Epoch 297/500\n",
            "6/6 [==============================] - 0s 10ms/step - loss: 1.4281 - accuracy: 0.4557 - val_loss: 1.4712 - val_accuracy: 0.4067\n",
            "Epoch 298/500\n",
            "6/6 [==============================] - 0s 12ms/step - loss: 1.4602 - accuracy: 0.4529 - val_loss: 1.4542 - val_accuracy: 0.4433\n",
            "Epoch 299/500\n",
            "6/6 [==============================] - 0s 11ms/step - loss: 1.4481 - accuracy: 0.4586 - val_loss: 1.4516 - val_accuracy: 0.4433\n",
            "Epoch 300/500\n",
            "6/6 [==============================] - 0s 11ms/step - loss: 1.4429 - accuracy: 0.4500 - val_loss: 1.4805 - val_accuracy: 0.4333\n",
            "Epoch 301/500\n",
            "6/6 [==============================] - 0s 11ms/step - loss: 1.4451 - accuracy: 0.4429 - val_loss: 1.4628 - val_accuracy: 0.4367\n",
            "Epoch 302/500\n",
            "6/6 [==============================] - 0s 10ms/step - loss: 1.4477 - accuracy: 0.4471 - val_loss: 1.4627 - val_accuracy: 0.4133\n",
            "Epoch 303/500\n",
            "6/6 [==============================] - 0s 10ms/step - loss: 1.4618 - accuracy: 0.4529 - val_loss: 1.4860 - val_accuracy: 0.4000\n",
            "Epoch 304/500\n",
            "6/6 [==============================] - 0s 12ms/step - loss: 1.4649 - accuracy: 0.4686 - val_loss: 1.4549 - val_accuracy: 0.4100\n",
            "Epoch 305/500\n",
            "6/6 [==============================] - 0s 12ms/step - loss: 1.4623 - accuracy: 0.4714 - val_loss: 1.4699 - val_accuracy: 0.4333\n",
            "Epoch 306/500\n",
            "6/6 [==============================] - 0s 10ms/step - loss: 1.4395 - accuracy: 0.4414 - val_loss: 1.4819 - val_accuracy: 0.4233\n",
            "Epoch 307/500\n",
            "6/6 [==============================] - 0s 10ms/step - loss: 1.4728 - accuracy: 0.4429 - val_loss: 1.4669 - val_accuracy: 0.4367\n",
            "Epoch 308/500\n",
            "6/6 [==============================] - 0s 12ms/step - loss: 1.4287 - accuracy: 0.4557 - val_loss: 1.4687 - val_accuracy: 0.4267\n",
            "Epoch 309/500\n",
            "6/6 [==============================] - 0s 11ms/step - loss: 1.4398 - accuracy: 0.4743 - val_loss: 1.4661 - val_accuracy: 0.4200\n",
            "Epoch 310/500\n",
            "6/6 [==============================] - 0s 10ms/step - loss: 1.4292 - accuracy: 0.4614 - val_loss: 1.4637 - val_accuracy: 0.4200\n",
            "Epoch 311/500\n",
            "6/6 [==============================] - 0s 10ms/step - loss: 1.4701 - accuracy: 0.4543 - val_loss: 1.4632 - val_accuracy: 0.4300\n",
            "Epoch 312/500\n",
            "6/6 [==============================] - 0s 10ms/step - loss: 1.4255 - accuracy: 0.4786 - val_loss: 1.4459 - val_accuracy: 0.4600\n",
            "Epoch 313/500\n",
            "6/6 [==============================] - 0s 10ms/step - loss: 1.4413 - accuracy: 0.4600 - val_loss: 1.4610 - val_accuracy: 0.4367\n",
            "Epoch 314/500\n",
            "6/6 [==============================] - 0s 11ms/step - loss: 1.4401 - accuracy: 0.4629 - val_loss: 1.4721 - val_accuracy: 0.4433\n",
            "Epoch 315/500\n",
            "6/6 [==============================] - 0s 11ms/step - loss: 1.4299 - accuracy: 0.4529 - val_loss: 1.4738 - val_accuracy: 0.4167\n",
            "Epoch 316/500\n",
            "6/6 [==============================] - 0s 10ms/step - loss: 1.4288 - accuracy: 0.4529 - val_loss: 1.4573 - val_accuracy: 0.4333\n",
            "Epoch 317/500\n",
            "6/6 [==============================] - 0s 13ms/step - loss: 1.4064 - accuracy: 0.4771 - val_loss: 1.4520 - val_accuracy: 0.4500\n",
            "Epoch 318/500\n",
            "6/6 [==============================] - 0s 11ms/step - loss: 1.4282 - accuracy: 0.4500 - val_loss: 1.4643 - val_accuracy: 0.4333\n",
            "Epoch 319/500\n",
            "6/6 [==============================] - 0s 11ms/step - loss: 1.4336 - accuracy: 0.4543 - val_loss: 1.4664 - val_accuracy: 0.4300\n",
            "Epoch 320/500\n",
            "6/6 [==============================] - 0s 10ms/step - loss: 1.4590 - accuracy: 0.4686 - val_loss: 1.4658 - val_accuracy: 0.4400\n",
            "Epoch 321/500\n",
            "6/6 [==============================] - 0s 10ms/step - loss: 1.3980 - accuracy: 0.4700 - val_loss: 1.4628 - val_accuracy: 0.4433\n",
            "Epoch 322/500\n",
            "6/6 [==============================] - 0s 10ms/step - loss: 1.4041 - accuracy: 0.4871 - val_loss: 1.4759 - val_accuracy: 0.4233\n",
            "Epoch 323/500\n",
            "6/6 [==============================] - 0s 11ms/step - loss: 1.4248 - accuracy: 0.4757 - val_loss: 1.4575 - val_accuracy: 0.4233\n",
            "Epoch 324/500\n",
            "6/6 [==============================] - 0s 11ms/step - loss: 1.4279 - accuracy: 0.4771 - val_loss: 1.4684 - val_accuracy: 0.4167\n",
            "Epoch 325/500\n",
            "6/6 [==============================] - 0s 11ms/step - loss: 1.4017 - accuracy: 0.4600 - val_loss: 1.4834 - val_accuracy: 0.4267\n",
            "Epoch 326/500\n",
            "6/6 [==============================] - 0s 11ms/step - loss: 1.4339 - accuracy: 0.4557 - val_loss: 1.4619 - val_accuracy: 0.4300\n",
            "Epoch 327/500\n",
            "6/6 [==============================] - 0s 12ms/step - loss: 1.4048 - accuracy: 0.4729 - val_loss: 1.4649 - val_accuracy: 0.4267\n",
            "Epoch 328/500\n",
            "6/6 [==============================] - 0s 11ms/step - loss: 1.4431 - accuracy: 0.4614 - val_loss: 1.4585 - val_accuracy: 0.4133\n",
            "Epoch 329/500\n",
            "6/6 [==============================] - 0s 11ms/step - loss: 1.4281 - accuracy: 0.4600 - val_loss: 1.4567 - val_accuracy: 0.4300\n",
            "Epoch 330/500\n",
            "6/6 [==============================] - 0s 10ms/step - loss: 1.4087 - accuracy: 0.4643 - val_loss: 1.4655 - val_accuracy: 0.4267\n",
            "Epoch 331/500\n",
            "6/6 [==============================] - 0s 10ms/step - loss: 1.4622 - accuracy: 0.4571 - val_loss: 1.4295 - val_accuracy: 0.4433\n",
            "Epoch 332/500\n",
            "6/6 [==============================] - 0s 10ms/step - loss: 1.4178 - accuracy: 0.4786 - val_loss: 1.4490 - val_accuracy: 0.4400\n",
            "Epoch 333/500\n",
            "6/6 [==============================] - 0s 12ms/step - loss: 1.4208 - accuracy: 0.4957 - val_loss: 1.4523 - val_accuracy: 0.4300\n",
            "Epoch 334/500\n",
            "6/6 [==============================] - 0s 10ms/step - loss: 1.4438 - accuracy: 0.4671 - val_loss: 1.4496 - val_accuracy: 0.4300\n",
            "Epoch 335/500\n",
            "6/6 [==============================] - 0s 10ms/step - loss: 1.4062 - accuracy: 0.4571 - val_loss: 1.4385 - val_accuracy: 0.4400\n",
            "Epoch 336/500\n",
            "6/6 [==============================] - 0s 12ms/step - loss: 1.4636 - accuracy: 0.4671 - val_loss: 1.4471 - val_accuracy: 0.4400\n",
            "Epoch 337/500\n",
            "6/6 [==============================] - 0s 11ms/step - loss: 1.3980 - accuracy: 0.4757 - val_loss: 1.4602 - val_accuracy: 0.4333\n",
            "Epoch 338/500\n",
            "6/6 [==============================] - 0s 11ms/step - loss: 1.4329 - accuracy: 0.4571 - val_loss: 1.4559 - val_accuracy: 0.4200\n",
            "Epoch 339/500\n",
            "6/6 [==============================] - 0s 10ms/step - loss: 1.4479 - accuracy: 0.4657 - val_loss: 1.4399 - val_accuracy: 0.4333\n",
            "Epoch 340/500\n",
            "6/6 [==============================] - 0s 10ms/step - loss: 1.4232 - accuracy: 0.4614 - val_loss: 1.4458 - val_accuracy: 0.4500\n",
            "Epoch 341/500\n",
            "6/6 [==============================] - 0s 10ms/step - loss: 1.4198 - accuracy: 0.4657 - val_loss: 1.4689 - val_accuracy: 0.4300\n",
            "Epoch 342/500\n",
            "6/6 [==============================] - 0s 10ms/step - loss: 1.4448 - accuracy: 0.4743 - val_loss: 1.4557 - val_accuracy: 0.4100\n",
            "Epoch 343/500\n",
            "6/6 [==============================] - 0s 11ms/step - loss: 1.4472 - accuracy: 0.4686 - val_loss: 1.4528 - val_accuracy: 0.4233\n",
            "Epoch 344/500\n",
            "6/6 [==============================] - 0s 11ms/step - loss: 1.4520 - accuracy: 0.4843 - val_loss: 1.4782 - val_accuracy: 0.4100\n",
            "Epoch 345/500\n",
            "6/6 [==============================] - 0s 10ms/step - loss: 1.4516 - accuracy: 0.4457 - val_loss: 1.4574 - val_accuracy: 0.4233\n",
            "Epoch 346/500\n",
            "6/6 [==============================] - 0s 12ms/step - loss: 1.4286 - accuracy: 0.4557 - val_loss: 1.4491 - val_accuracy: 0.4433\n",
            "Epoch 347/500\n",
            "6/6 [==============================] - 0s 10ms/step - loss: 1.4569 - accuracy: 0.4686 - val_loss: 1.4485 - val_accuracy: 0.4433\n",
            "Epoch 348/500\n",
            "6/6 [==============================] - 0s 10ms/step - loss: 1.4247 - accuracy: 0.4700 - val_loss: 1.4677 - val_accuracy: 0.4233\n",
            "Epoch 349/500\n",
            "6/6 [==============================] - 0s 10ms/step - loss: 1.4408 - accuracy: 0.4786 - val_loss: 1.4585 - val_accuracy: 0.4300\n",
            "Epoch 350/500\n",
            "6/6 [==============================] - 0s 11ms/step - loss: 1.4131 - accuracy: 0.4629 - val_loss: 1.4676 - val_accuracy: 0.4367\n",
            "Epoch 351/500\n",
            "6/6 [==============================] - 0s 11ms/step - loss: 1.4665 - accuracy: 0.4371 - val_loss: 1.4551 - val_accuracy: 0.4400\n",
            "Epoch 352/500\n",
            "6/6 [==============================] - 0s 11ms/step - loss: 1.4333 - accuracy: 0.4729 - val_loss: 1.4452 - val_accuracy: 0.4333\n",
            "Epoch 353/500\n",
            "6/6 [==============================] - 0s 11ms/step - loss: 1.4270 - accuracy: 0.4729 - val_loss: 1.4627 - val_accuracy: 0.4367\n",
            "Epoch 354/500\n",
            "6/6 [==============================] - 0s 10ms/step - loss: 1.4366 - accuracy: 0.4629 - val_loss: 1.4708 - val_accuracy: 0.4567\n",
            "Epoch 355/500\n",
            "6/6 [==============================] - 0s 12ms/step - loss: 1.4483 - accuracy: 0.4671 - val_loss: 1.4384 - val_accuracy: 0.4567\n",
            "Epoch 356/500\n",
            "6/6 [==============================] - 0s 11ms/step - loss: 1.4495 - accuracy: 0.4714 - val_loss: 1.4630 - val_accuracy: 0.4300\n",
            "Epoch 00356: early stopping\n"
          ],
          "name": "stdout"
        },
        {
          "output_type": "execute_result",
          "data": {
            "text/plain": [
              "<tensorflow.python.keras.callbacks.History at 0x7f70f1105208>"
            ]
          },
          "metadata": {
            "tags": []
          },
          "execution_count": 405
        }
      ]
    },
    {
      "cell_type": "code",
      "metadata": {
        "colab_type": "code",
        "outputId": "e492ceff-a1b6-4865-fc10-ace39d47edfc",
        "id": "zES_5y5hhAE9",
        "colab": {
          "base_uri": "https://localhost:8080/",
          "height": 283
        }
      },
      "source": [
        "# evaluate\n",
        "model_loss = pd.DataFrame(model.history.history)\n",
        "\n",
        "model_loss.plot()"
      ],
      "execution_count": 406,
      "outputs": [
        {
          "output_type": "execute_result",
          "data": {
            "text/plain": [
              "<matplotlib.axes._subplots.AxesSubplot at 0x7f710058a4a8>"
            ]
          },
          "metadata": {
            "tags": []
          },
          "execution_count": 406
        },
        {
          "output_type": "display_data",
          "data": {
            "image/png": "[encoded data removed]",
            "text/plain": [
              "<Figure size 432x288 with 1 Axes>"
            ]
          },
          "metadata": {
            "tags": [],
            "needs_background": "light"
          }
        }
      ]
    },
    {
      "cell_type": "code",
      "metadata": {
        "colab_type": "code",
        "id": "u1NGQWB0hAFF",
        "colab": {}
      },
      "source": [
        "# predict\n",
        "predictions = model.predict_classes(X_test_ran)"
      ],
      "execution_count": 0,
      "outputs": []
    },
    {
      "cell_type": "code",
      "metadata": {
        "colab_type": "code",
        "outputId": "032dfc67-391a-428a-c9b9-8fd86585fdd6",
        "id": "zCpYuelfhAFR",
        "colab": {
          "base_uri": "https://localhost:8080/",
          "height": 329
        }
      },
      "source": [
        "print(classification_report(y_test_ran,predictions))"
      ],
      "execution_count": 408,
      "outputs": [
        {
          "output_type": "stream",
          "text": [
            "              precision    recall  f1-score   support\n",
            "\n",
            "           0       0.50      0.29      0.37        34\n",
            "           1       0.65      0.91      0.76        33\n",
            "           2       0.36      0.27      0.31        33\n",
            "           3       0.31      0.43      0.36        21\n",
            "           4       0.52      0.38      0.44        32\n",
            "           5       0.46      0.42      0.44        38\n",
            "           6       0.63      0.63      0.63        27\n",
            "           7       0.36      0.69      0.47        26\n",
            "           8       0.38      0.32      0.35        28\n",
            "           9       0.43      0.32      0.37        28\n",
            "\n",
            "    accuracy                           0.46       300\n",
            "   macro avg       0.46      0.47      0.45       300\n",
            "weighted avg       0.47      0.46      0.45       300\n",
            "\n"
          ],
          "name": "stdout"
        }
      ]
    },
    {
      "cell_type": "code",
      "metadata": {
        "id": "Xhxp5DtHgy3Y",
        "colab_type": "code",
        "colab": {
          "base_uri": "https://localhost:8080/",
          "height": 201
        },
        "outputId": "877a727b-08bc-46ca-f882-9d88c89a8483"
      },
      "source": [
        "print(confusion_matrix(y_test_ran,predictions))"
      ],
      "execution_count": 409,
      "outputs": [
        {
          "output_type": "stream",
          "text": [
            "[[10  3  6  4  0  4  2  0  2  3]\n",
            " [ 1 30  1  1  0  0  0  0  0  0]\n",
            " [ 3  3  9  1  0  8  0  6  1  2]\n",
            " [ 0  0  1  9  2  0  3  3  1  2]\n",
            " [ 0  1  0  3 12  0  2  6  7  1]\n",
            " [ 5  7  2  0  0 16  0  8  0  0]\n",
            " [ 0  0  1  3  4  0 17  0  0  2]\n",
            " [ 0  0  0  1  0  5  0 18  2  0]\n",
            " [ 1  2  2  1  4  0  2  5  9  2]\n",
            " [ 0  0  3  6  1  2  1  4  2  9]]\n"
          ],
          "name": "stdout"
        }
      ]
    },
    {
      "cell_type": "markdown",
      "metadata": {
        "id": "sFFGJ4ZJ2zx0",
        "colab_type": "text"
      },
      "source": [
        "#### Model: KNN"
      ]
    },
    {
      "cell_type": "code",
      "metadata": {
        "id": "pZvRHf9l07u2",
        "colab_type": "code",
        "colab": {}
      },
      "source": [
        "from sklearn.neighbors import KNeighborsClassifier"
      ],
      "execution_count": 0,
      "outputs": []
    },
    {
      "cell_type": "code",
      "metadata": {
        "id": "ZtGNnt2B25IF",
        "colab_type": "code",
        "colab": {}
      },
      "source": [
        "knn = KNeighborsClassifier(n_neighbors=1)"
      ],
      "execution_count": 0,
      "outputs": []
    },
    {
      "cell_type": "code",
      "metadata": {
        "id": "hPjWXUQI3AA3",
        "colab_type": "code",
        "outputId": "ed78d43b-eb58-4626-9218-216dea3f69e5",
        "colab": {
          "base_uri": "https://localhost:8080/",
          "height": 72
        }
      },
      "source": [
        "knn.fit(X_train,y_train)"
      ],
      "execution_count": 412,
      "outputs": [
        {
          "output_type": "execute_result",
          "data": {
            "text/plain": [
              "KNeighborsClassifier(algorithm='auto', leaf_size=30, metric='minkowski',\n",
              "                     metric_params=None, n_jobs=None, n_neighbors=1, p=2,\n",
              "                     weights='uniform')"
            ]
          },
          "metadata": {
            "tags": []
          },
          "execution_count": 412
        }
      ]
    },
    {
      "cell_type": "code",
      "metadata": {
        "id": "EJllgKG13B6V",
        "colab_type": "code",
        "colab": {}
      },
      "source": [
        "pred = knn.predict(X_test)"
      ],
      "execution_count": 0,
      "outputs": []
    },
    {
      "cell_type": "code",
      "metadata": {
        "id": "-ZgRzot43MhQ",
        "colab_type": "code",
        "outputId": "997ca139-a8b3-4db6-f847-e282d104c587",
        "colab": {
          "base_uri": "https://localhost:8080/",
          "height": 329
        }
      },
      "source": [
        "print(classification_report(y_test,pred))"
      ],
      "execution_count": 414,
      "outputs": [
        {
          "output_type": "stream",
          "text": [
            "              precision    recall  f1-score   support\n",
            "\n",
            "           0       0.44      0.35      0.39        40\n",
            "           1       0.77      0.73      0.75        37\n",
            "           2       0.20      0.17      0.18        30\n",
            "           3       0.19      0.13      0.16        30\n",
            "           4       0.27      0.24      0.25        29\n",
            "           5       0.49      0.53      0.51        32\n",
            "           6       0.54      0.54      0.54        28\n",
            "           7       0.56      0.42      0.48        24\n",
            "           8       0.28      0.42      0.34        26\n",
            "           9       0.12      0.21      0.15        24\n",
            "\n",
            "    accuracy                           0.38       300\n",
            "   macro avg       0.38      0.37      0.37       300\n",
            "weighted avg       0.40      0.38      0.39       300\n",
            "\n"
          ],
          "name": "stdout"
        }
      ]
    },
    {
      "cell_type": "code",
      "metadata": {
        "id": "LUj06pLF3QMY",
        "colab_type": "code",
        "outputId": "d29be947-51e3-45be-90c5-b2ad939b429f",
        "colab": {
          "base_uri": "https://localhost:8080/",
          "height": 201
        }
      },
      "source": [
        "print(confusion_matrix(y_test,pred))"
      ],
      "execution_count": 415,
      "outputs": [
        {
          "output_type": "stream",
          "text": [
            "[[14  3  5  4  0  4  0  0  3  7]\n",
            " [ 3 27  3  0  0  2  0  0  0  2]\n",
            " [ 2  2  5  2  1  8  0  1  5  4]\n",
            " [ 4  0  5  4  4  0  6  1  0  6]\n",
            " [ 1  0  0  4  7  0  3  2  6  6]\n",
            " [ 1  2  0  0  0 17  1  1  6  4]\n",
            " [ 1  0  0  2  6  0 15  0  2  2]\n",
            " [ 0  0  4  1  3  0  0 10  4  2]\n",
            " [ 2  0  0  1  4  2  2  1 11  3]\n",
            " [ 4  1  3  3  1  2  1  2  2  5]]\n"
          ],
          "name": "stdout"
        }
      ]
    },
    {
      "cell_type": "code",
      "metadata": {
        "id": "4JFaU7eO3TNV",
        "colab_type": "code",
        "colab": {}
      },
      "source": [
        "error_rate = []\n",
        "\n",
        "# Will take some time\n",
        "for i in range(1,40):\n",
        "    \n",
        "    knn = KNeighborsClassifier(n_neighbors=i)\n",
        "    knn.fit(X_train,y_train)\n",
        "    pred_i = knn.predict(X_test)\n",
        "    error_rate.append(np.mean(pred_i != y_test))"
      ],
      "execution_count": 0,
      "outputs": []
    },
    {
      "cell_type": "code",
      "metadata": {
        "id": "4HY896Ah3WO9",
        "colab_type": "code",
        "outputId": "b63d8f09-c3af-4100-8ab1-449341eea1b6",
        "colab": {
          "base_uri": "https://localhost:8080/",
          "height": 422
        }
      },
      "source": [
        "plt.figure(figsize=(10,6))\n",
        "plt.plot(range(1,40),error_rate,color='blue', linestyle='dashed', marker='o',\n",
        "         markerfacecolor='red', markersize=10)\n",
        "plt.title('Error Rate vs. K Value')\n",
        "plt.xlabel('K')\n",
        "plt.ylabel('Error Rate')"
      ],
      "execution_count": 417,
      "outputs": [
        {
          "output_type": "execute_result",
          "data": {
            "text/plain": [
              "Text(0, 0.5, 'Error Rate')"
            ]
          },
          "metadata": {
            "tags": []
          },
          "execution_count": 417
        },
        {
          "output_type": "display_data",
          "data": {
            "image/png": "[encoded data removed]",
            "text/plain": [
              "<Figure size 720x432 with 1 Axes>"
            ]
          },
          "metadata": {
            "tags": [],
            "needs_background": "light"
          }
        }
      ]
    },
    {
      "cell_type": "code",
      "metadata": {
        "id": "GObBvb7f3Yhe",
        "colab_type": "code",
        "outputId": "24e15489-2c97-4629-92e3-7a0c067b4d03",
        "colab": {
          "base_uri": "https://localhost:8080/",
          "height": 605
        }
      },
      "source": [
        "# NOW WITH K=6\n",
        "knn = KNeighborsClassifier(n_neighbors=6)\n",
        "\n",
        "knn.fit(X_train,y_train)\n",
        "pred = knn.predict(X_test)\n",
        "\n",
        "print('WITH K=6')\n",
        "print('\\n')\n",
        "print(confusion_matrix(y_test,pred))\n",
        "print('\\n')\n",
        "print(classification_report(y_test,pred))"
      ],
      "execution_count": 418,
      "outputs": [
        {
          "output_type": "stream",
          "text": [
            "WITH K=6\n",
            "\n",
            "\n",
            "[[18  3  7  0  1  2  0  0  5  4]\n",
            " [ 4 28  1  0  0  3  0  0  1  0]\n",
            " [ 3  1  7  2  2 12  0  1  2  0]\n",
            " [ 2  0  4 10  3  0  5  2  1  3]\n",
            " [ 1  0  3  3  8  1  4  3  4  2]\n",
            " [ 3  7  5  1  0 10  1  4  1  0]\n",
            " [ 0  0  3  3  3  0 16  0  1  2]\n",
            " [ 0  0  3  2  3  1  0 11  3  1]\n",
            " [ 0  0  3  0  7  0  1  0 12  3]\n",
            " [ 3  0  3  4  2  2  1  2  2  5]]\n",
            "\n",
            "\n",
            "              precision    recall  f1-score   support\n",
            "\n",
            "           0       0.53      0.45      0.49        40\n",
            "           1       0.72      0.76      0.74        37\n",
            "           2       0.18      0.23      0.20        30\n",
            "           3       0.40      0.33      0.36        30\n",
            "           4       0.28      0.28      0.28        29\n",
            "           5       0.32      0.31      0.32        32\n",
            "           6       0.57      0.57      0.57        28\n",
            "           7       0.48      0.46      0.47        24\n",
            "           8       0.38      0.46      0.41        26\n",
            "           9       0.25      0.21      0.23        24\n",
            "\n",
            "    accuracy                           0.42       300\n",
            "   macro avg       0.41      0.41      0.41       300\n",
            "weighted avg       0.42      0.42      0.42       300\n",
            "\n"
          ],
          "name": "stdout"
        }
      ]
    },
    {
      "cell_type": "markdown",
      "metadata": {
        "id": "ilMzcNyY0VdK",
        "colab_type": "text"
      },
      "source": [
        "#### Model: SVM"
      ]
    },
    {
      "cell_type": "code",
      "metadata": {
        "id": "ZJY73i3R3q00",
        "colab_type": "code",
        "colab": {}
      },
      "source": [
        "from sklearn.svm import SVC"
      ],
      "execution_count": 0,
      "outputs": []
    },
    {
      "cell_type": "code",
      "metadata": {
        "id": "9FyFp3cR0myb",
        "colab_type": "code",
        "colab": {}
      },
      "source": [
        "svm = SVC()"
      ],
      "execution_count": 0,
      "outputs": []
    },
    {
      "cell_type": "code",
      "metadata": {
        "id": "s7-5tBAI0v_T",
        "colab_type": "code",
        "outputId": "0f0b9be2-e94e-430b-921a-bb5ae183f607",
        "colab": {
          "base_uri": "https://localhost:8080/",
          "height": 90
        }
      },
      "source": [
        "svm.fit(X_train,y_train)"
      ],
      "execution_count": 421,
      "outputs": [
        {
          "output_type": "execute_result",
          "data": {
            "text/plain": [
              "SVC(C=1.0, break_ties=False, cache_size=200, class_weight=None, coef0=0.0,\n",
              "    decision_function_shape='ovr', degree=3, gamma='scale', kernel='rbf',\n",
              "    max_iter=-1, probability=False, random_state=None, shrinking=True,\n",
              "    tol=0.001, verbose=False)"
            ]
          },
          "metadata": {
            "tags": []
          },
          "execution_count": 421
        }
      ]
    },
    {
      "cell_type": "code",
      "metadata": {
        "id": "LRILjbc51BWr",
        "colab_type": "code",
        "colab": {}
      },
      "source": [
        "pred = svm.predict(X_test)"
      ],
      "execution_count": 0,
      "outputs": []
    },
    {
      "cell_type": "code",
      "metadata": {
        "id": "YXSgQxbY1Lg1",
        "colab_type": "code",
        "outputId": "0557d87c-760a-4119-bce4-dc929ee88e69",
        "colab": {
          "base_uri": "https://localhost:8080/",
          "height": 329
        }
      },
      "source": [
        "print(classification_report(y_test,pred))"
      ],
      "execution_count": 423,
      "outputs": [
        {
          "output_type": "stream",
          "text": [
            "              precision    recall  f1-score   support\n",
            "\n",
            "           0       0.80      0.10      0.18        40\n",
            "           1       0.68      0.81      0.74        37\n",
            "           2       0.24      0.30      0.27        30\n",
            "           3       0.36      0.17      0.23        30\n",
            "           4       0.22      0.14      0.17        29\n",
            "           5       0.34      0.34      0.34        32\n",
            "           6       0.56      0.68      0.61        28\n",
            "           7       0.38      0.62      0.47        24\n",
            "           8       0.32      0.58      0.41        26\n",
            "           9       0.14      0.17      0.15        24\n",
            "\n",
            "    accuracy                           0.39       300\n",
            "   macro avg       0.40      0.39      0.36       300\n",
            "weighted avg       0.43      0.39      0.36       300\n",
            "\n"
          ],
          "name": "stdout"
        }
      ]
    },
    {
      "cell_type": "code",
      "metadata": {
        "id": "LDsZq2O-1gaR",
        "colab_type": "code",
        "colab": {
          "base_uri": "https://localhost:8080/",
          "height": 201
        },
        "outputId": "e7778fe7-6455-4daa-ccf5-b01ba3798709"
      },
      "source": [
        "print(confusion_matrix(y_test,pred))"
      ],
      "execution_count": 424,
      "outputs": [
        {
          "output_type": "stream",
          "text": [
            "[[ 4  5  7  0  1  9  0  0  5  9]\n",
            " [ 1 30  4  0  0  2  0  0  0  0]\n",
            " [ 0  1  9  1  0  8  0  5  4  2]\n",
            " [ 0  0  0  5  3  0  6  4  3  9]\n",
            " [ 0  0  0  1  4  0  6  6 11  1]\n",
            " [ 0  8  6  0  0 11  1  6  0  0]\n",
            " [ 0  0  0  1  3  0 19  0  2  3]\n",
            " [ 0  0  1  1  2  2  0 15  3  0]\n",
            " [ 0  0  3  1  4  0  1  1 15  1]\n",
            " [ 0  0  7  4  1  0  1  3  4  4]]\n"
          ],
          "name": "stdout"
        }
      ]
    },
    {
      "cell_type": "code",
      "metadata": {
        "id": "UU0HZLEKohwG",
        "colab_type": "code",
        "colab": {}
      },
      "source": [
        ""
      ],
      "execution_count": 0,
      "outputs": []
    }
  ]
}