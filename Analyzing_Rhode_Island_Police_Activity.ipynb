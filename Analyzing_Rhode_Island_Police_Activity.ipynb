{
  "nbformat": 4,
  "nbformat_minor": 0,
  "metadata": {
    "colab": {
      "name": "Analyzing Police Activity.ipynb",
      "provenance": [],
      "collapsed_sections": []
    },
    "kernelspec": {
      "name": "python3",
      "display_name": "Python 3"
    }
  },
  "cells": [
    {
      "cell_type": "code",
      "metadata": {
        "id": "wQuAkAqpPkcO",
        "colab_type": "code",
        "colab": {
          "base_uri": "https://localhost:8080/",
          "height": 74
        },
        "outputId": "9d6ad7e0-c6b4-4549-fbef-a4a93ef53a72"
      },
      "source": [
        "import numpy as np\n",
        "import pandas as pd\n",
        "import seaborn as sns\n",
        "import matplotlib.pyplot as plt\n",
        "\n",
        "%matplotlib inline"
      ],
      "execution_count": 1,
      "outputs": [
        {
          "output_type": "stream",
          "text": [
            "/usr/local/lib/python3.6/dist-packages/statsmodels/tools/_testing.py:19: FutureWarning: pandas.util.testing is deprecated. Use the functions in the public API at pandas.testing instead.\n",
            "  import pandas.util.testing as tm\n"
          ],
          "name": "stderr"
        }
      ]
    },
    {
      "cell_type": "code",
      "metadata": {
        "id": "G58vs5WoPodG",
        "colab_type": "code",
        "colab": {}
      },
      "source": [
        "data = pd.read_csv('https://assets.datacamp.com/production/repositories/1497/datasets/62bd9feef451860db02d26553613a299721882e8/police.csv')"
      ],
      "execution_count": 0,
      "outputs": []
    },
    {
      "cell_type": "code",
      "metadata": {
        "id": "1OTWNgtiPu4g",
        "colab_type": "code",
        "outputId": "9cdb40b3-6d48-4f80-d902-f88daa1a435b",
        "colab": {
          "base_uri": "https://localhost:8080/",
          "height": 244
        }
      },
      "source": [
        "data.head()"
      ],
      "execution_count": 3,
      "outputs": [
        {
          "output_type": "execute_result",
          "data": {
            "text/html": [
              "<div>\n",
              "<style scoped>\n",
              "    .dataframe tbody tr th:only-of-type {\n",
              "        vertical-align: middle;\n",
              "    }\n",
              "\n",
              "    .dataframe tbody tr th {\n",
              "        vertical-align: top;\n",
              "    }\n",
              "\n",
              "    .dataframe thead th {\n",
              "        text-align: right;\n",
              "    }\n",
              "</style>\n",
              "<table border=\"1\" class=\"dataframe\">\n",
              "  <thead>\n",
              "    <tr style=\"text-align: right;\">\n",
              "      <th></th>\n",
              "      <th>state</th>\n",
              "      <th>stop_date</th>\n",
              "      <th>stop_time</th>\n",
              "      <th>county_name</th>\n",
              "      <th>driver_gender</th>\n",
              "      <th>driver_race</th>\n",
              "      <th>violation_raw</th>\n",
              "      <th>violation</th>\n",
              "      <th>search_conducted</th>\n",
              "      <th>search_type</th>\n",
              "      <th>stop_outcome</th>\n",
              "      <th>is_arrested</th>\n",
              "      <th>stop_duration</th>\n",
              "      <th>drugs_related_stop</th>\n",
              "      <th>district</th>\n",
              "    </tr>\n",
              "  </thead>\n",
              "  <tbody>\n",
              "    <tr>\n",
              "      <th>0</th>\n",
              "      <td>RI</td>\n",
              "      <td>2005-01-04</td>\n",
              "      <td>12:55</td>\n",
              "      <td>NaN</td>\n",
              "      <td>M</td>\n",
              "      <td>White</td>\n",
              "      <td>Equipment/Inspection Violation</td>\n",
              "      <td>Equipment</td>\n",
              "      <td>False</td>\n",
              "      <td>NaN</td>\n",
              "      <td>Citation</td>\n",
              "      <td>False</td>\n",
              "      <td>0-15 Min</td>\n",
              "      <td>False</td>\n",
              "      <td>Zone X4</td>\n",
              "    </tr>\n",
              "    <tr>\n",
              "      <th>1</th>\n",
              "      <td>RI</td>\n",
              "      <td>2005-01-23</td>\n",
              "      <td>23:15</td>\n",
              "      <td>NaN</td>\n",
              "      <td>M</td>\n",
              "      <td>White</td>\n",
              "      <td>Speeding</td>\n",
              "      <td>Speeding</td>\n",
              "      <td>False</td>\n",
              "      <td>NaN</td>\n",
              "      <td>Citation</td>\n",
              "      <td>False</td>\n",
              "      <td>0-15 Min</td>\n",
              "      <td>False</td>\n",
              "      <td>Zone K3</td>\n",
              "    </tr>\n",
              "    <tr>\n",
              "      <th>2</th>\n",
              "      <td>RI</td>\n",
              "      <td>2005-02-17</td>\n",
              "      <td>04:15</td>\n",
              "      <td>NaN</td>\n",
              "      <td>M</td>\n",
              "      <td>White</td>\n",
              "      <td>Speeding</td>\n",
              "      <td>Speeding</td>\n",
              "      <td>False</td>\n",
              "      <td>NaN</td>\n",
              "      <td>Citation</td>\n",
              "      <td>False</td>\n",
              "      <td>0-15 Min</td>\n",
              "      <td>False</td>\n",
              "      <td>Zone X4</td>\n",
              "    </tr>\n",
              "    <tr>\n",
              "      <th>3</th>\n",
              "      <td>RI</td>\n",
              "      <td>2005-02-20</td>\n",
              "      <td>17:15</td>\n",
              "      <td>NaN</td>\n",
              "      <td>M</td>\n",
              "      <td>White</td>\n",
              "      <td>Call for Service</td>\n",
              "      <td>Other</td>\n",
              "      <td>False</td>\n",
              "      <td>NaN</td>\n",
              "      <td>Arrest Driver</td>\n",
              "      <td>True</td>\n",
              "      <td>16-30 Min</td>\n",
              "      <td>False</td>\n",
              "      <td>Zone X1</td>\n",
              "    </tr>\n",
              "    <tr>\n",
              "      <th>4</th>\n",
              "      <td>RI</td>\n",
              "      <td>2005-02-24</td>\n",
              "      <td>01:20</td>\n",
              "      <td>NaN</td>\n",
              "      <td>F</td>\n",
              "      <td>White</td>\n",
              "      <td>Speeding</td>\n",
              "      <td>Speeding</td>\n",
              "      <td>False</td>\n",
              "      <td>NaN</td>\n",
              "      <td>Citation</td>\n",
              "      <td>False</td>\n",
              "      <td>0-15 Min</td>\n",
              "      <td>False</td>\n",
              "      <td>Zone X3</td>\n",
              "    </tr>\n",
              "  </tbody>\n",
              "</table>\n",
              "</div>"
            ],
            "text/plain": [
              "  state   stop_date stop_time  ...  stop_duration drugs_related_stop district\n",
              "0    RI  2005-01-04     12:55  ...       0-15 Min              False  Zone X4\n",
              "1    RI  2005-01-23     23:15  ...       0-15 Min              False  Zone K3\n",
              "2    RI  2005-02-17     04:15  ...       0-15 Min              False  Zone X4\n",
              "3    RI  2005-02-20     17:15  ...      16-30 Min              False  Zone X1\n",
              "4    RI  2005-02-24     01:20  ...       0-15 Min              False  Zone X3\n",
              "\n",
              "[5 rows x 15 columns]"
            ]
          },
          "metadata": {
            "tags": []
          },
          "execution_count": 3
        }
      ]
    },
    {
      "cell_type": "code",
      "metadata": {
        "id": "JMYt4Gw3Pw4C",
        "colab_type": "code",
        "outputId": "c103fa31-8692-4552-fa9b-167b5984bb74",
        "colab": {
          "base_uri": "https://localhost:8080/",
          "height": 421
        }
      },
      "source": [
        "data.info()"
      ],
      "execution_count": 4,
      "outputs": [
        {
          "output_type": "stream",
          "text": [
            "<class 'pandas.core.frame.DataFrame'>\n",
            "RangeIndex: 91741 entries, 0 to 91740\n",
            "Data columns (total 15 columns):\n",
            " #   Column              Non-Null Count  Dtype  \n",
            "---  ------              --------------  -----  \n",
            " 0   state               91741 non-null  object \n",
            " 1   stop_date           91741 non-null  object \n",
            " 2   stop_time           91741 non-null  object \n",
            " 3   county_name         0 non-null      float64\n",
            " 4   driver_gender       86536 non-null  object \n",
            " 5   driver_race         86539 non-null  object \n",
            " 6   violation_raw       86539 non-null  object \n",
            " 7   violation           86539 non-null  object \n",
            " 8   search_conducted    91741 non-null  bool   \n",
            " 9   search_type         3307 non-null   object \n",
            " 10  stop_outcome        86539 non-null  object \n",
            " 11  is_arrested         86539 non-null  object \n",
            " 12  stop_duration       86539 non-null  object \n",
            " 13  drugs_related_stop  91741 non-null  bool   \n",
            " 14  district            91741 non-null  object \n",
            "dtypes: bool(2), float64(1), object(12)\n",
            "memory usage: 9.3+ MB\n"
          ],
          "name": "stdout"
        }
      ]
    },
    {
      "cell_type": "code",
      "metadata": {
        "id": "wLxJuKZgQODx",
        "colab_type": "code",
        "outputId": "3b4ff1a5-7d5d-4bad-f6e1-b072caa7fb3e",
        "colab": {
          "base_uri": "https://localhost:8080/",
          "height": 300
        }
      },
      "source": [
        "data.describe()"
      ],
      "execution_count": 5,
      "outputs": [
        {
          "output_type": "execute_result",
          "data": {
            "text/html": [
              "<div>\n",
              "<style scoped>\n",
              "    .dataframe tbody tr th:only-of-type {\n",
              "        vertical-align: middle;\n",
              "    }\n",
              "\n",
              "    .dataframe tbody tr th {\n",
              "        vertical-align: top;\n",
              "    }\n",
              "\n",
              "    .dataframe thead th {\n",
              "        text-align: right;\n",
              "    }\n",
              "</style>\n",
              "<table border=\"1\" class=\"dataframe\">\n",
              "  <thead>\n",
              "    <tr style=\"text-align: right;\">\n",
              "      <th></th>\n",
              "      <th>county_name</th>\n",
              "    </tr>\n",
              "  </thead>\n",
              "  <tbody>\n",
              "    <tr>\n",
              "      <th>count</th>\n",
              "      <td>0.0</td>\n",
              "    </tr>\n",
              "    <tr>\n",
              "      <th>mean</th>\n",
              "      <td>NaN</td>\n",
              "    </tr>\n",
              "    <tr>\n",
              "      <th>std</th>\n",
              "      <td>NaN</td>\n",
              "    </tr>\n",
              "    <tr>\n",
              "      <th>min</th>\n",
              "      <td>NaN</td>\n",
              "    </tr>\n",
              "    <tr>\n",
              "      <th>25%</th>\n",
              "      <td>NaN</td>\n",
              "    </tr>\n",
              "    <tr>\n",
              "      <th>50%</th>\n",
              "      <td>NaN</td>\n",
              "    </tr>\n",
              "    <tr>\n",
              "      <th>75%</th>\n",
              "      <td>NaN</td>\n",
              "    </tr>\n",
              "    <tr>\n",
              "      <th>max</th>\n",
              "      <td>NaN</td>\n",
              "    </tr>\n",
              "  </tbody>\n",
              "</table>\n",
              "</div>"
            ],
            "text/plain": [
              "       county_name\n",
              "count          0.0\n",
              "mean           NaN\n",
              "std            NaN\n",
              "min            NaN\n",
              "25%            NaN\n",
              "50%            NaN\n",
              "75%            NaN\n",
              "max            NaN"
            ]
          },
          "metadata": {
            "tags": []
          },
          "execution_count": 5
        }
      ]
    },
    {
      "cell_type": "markdown",
      "metadata": {
        "id": "JhLFElp9Qmmg",
        "colab_type": "text"
      },
      "source": [
        "## Data preprocessing"
      ]
    },
    {
      "cell_type": "code",
      "metadata": {
        "id": "4phpvrKnQPKf",
        "colab_type": "code",
        "outputId": "c9716485-aa37-4121-eb87-6f4cd8a2b767",
        "colab": {
          "base_uri": "https://localhost:8080/",
          "height": 109
        }
      },
      "source": [
        "data.columns"
      ],
      "execution_count": 6,
      "outputs": [
        {
          "output_type": "execute_result",
          "data": {
            "text/plain": [
              "Index(['state', 'stop_date', 'stop_time', 'county_name', 'driver_gender',\n",
              "       'driver_race', 'violation_raw', 'violation', 'search_conducted',\n",
              "       'search_type', 'stop_outcome', 'is_arrested', 'stop_duration',\n",
              "       'drugs_related_stop', 'district'],\n",
              "      dtype='object')"
            ]
          },
          "metadata": {
            "tags": []
          },
          "execution_count": 6
        }
      ]
    },
    {
      "cell_type": "code",
      "metadata": {
        "id": "K-3NUvuiQqu0",
        "colab_type": "code",
        "outputId": "85f7d724-5ca4-406c-d424-1b36a01f55a0",
        "colab": {
          "base_uri": "https://localhost:8080/",
          "height": 35
        }
      },
      "source": [
        "# check data type of 'county_name'\n",
        "data['county_name'].dtype"
      ],
      "execution_count": 7,
      "outputs": [
        {
          "output_type": "execute_result",
          "data": {
            "text/plain": [
              "dtype('float64')"
            ]
          },
          "metadata": {
            "tags": []
          },
          "execution_count": 7
        }
      ]
    },
    {
      "cell_type": "code",
      "metadata": {
        "id": "dwGFM5NHQ_On",
        "colab_type": "code",
        "outputId": "ec325ef0-ced8-43c6-ab5f-6d72aa3d4cb2",
        "colab": {
          "base_uri": "https://localhost:8080/",
          "height": 127
        }
      },
      "source": [
        "data['county_name'].head()"
      ],
      "execution_count": 8,
      "outputs": [
        {
          "output_type": "execute_result",
          "data": {
            "text/plain": [
              "0   NaN\n",
              "1   NaN\n",
              "2   NaN\n",
              "3   NaN\n",
              "4   NaN\n",
              "Name: county_name, dtype: float64"
            ]
          },
          "metadata": {
            "tags": []
          },
          "execution_count": 8
        }
      ]
    },
    {
      "cell_type": "code",
      "metadata": {
        "id": "WG76FOIVRBai",
        "colab_type": "code",
        "outputId": "3b2d4b87-efaf-4474-c5c1-d63aef7ac44a",
        "colab": {
          "base_uri": "https://localhost:8080/",
          "height": 35
        }
      },
      "source": [
        "data['county_name'].unique()\n",
        "\n",
        "# 'county_name' all values are missing"
      ],
      "execution_count": 9,
      "outputs": [
        {
          "output_type": "execute_result",
          "data": {
            "text/plain": [
              "array([nan])"
            ]
          },
          "metadata": {
            "tags": []
          },
          "execution_count": 9
        }
      ]
    },
    {
      "cell_type": "code",
      "metadata": {
        "id": "POEcZpDbRHbW",
        "colab_type": "code",
        "outputId": "71a20006-f034-49c8-f84c-2623e84aac37",
        "colab": {
          "base_uri": "https://localhost:8080/",
          "height": 35
        }
      },
      "source": [
        "# check data type of 'search_conducted'\n",
        "data['search_conducted'].dtype"
      ],
      "execution_count": 10,
      "outputs": [
        {
          "output_type": "execute_result",
          "data": {
            "text/plain": [
              "dtype('bool')"
            ]
          },
          "metadata": {
            "tags": []
          },
          "execution_count": 10
        }
      ]
    },
    {
      "cell_type": "code",
      "metadata": {
        "id": "WCqWBUyRRaaI",
        "colab_type": "code",
        "outputId": "c973bcf8-4896-4564-a11e-02f6911d1844",
        "colab": {
          "base_uri": "https://localhost:8080/",
          "height": 127
        }
      },
      "source": [
        "data['search_conducted'].head()"
      ],
      "execution_count": 11,
      "outputs": [
        {
          "output_type": "execute_result",
          "data": {
            "text/plain": [
              "0    False\n",
              "1    False\n",
              "2    False\n",
              "3    False\n",
              "4    False\n",
              "Name: search_conducted, dtype: bool"
            ]
          },
          "metadata": {
            "tags": []
          },
          "execution_count": 11
        }
      ]
    },
    {
      "cell_type": "code",
      "metadata": {
        "id": "FUMrxygzReoP",
        "colab_type": "code",
        "outputId": "445646a7-4909-4ef3-8191-732bdd69b8da",
        "colab": {
          "base_uri": "https://localhost:8080/",
          "height": 35
        }
      },
      "source": [
        "data['search_conducted'].unique()\n",
        "\n",
        "# contains true and false values only"
      ],
      "execution_count": 12,
      "outputs": [
        {
          "output_type": "execute_result",
          "data": {
            "text/plain": [
              "array([False,  True])"
            ]
          },
          "metadata": {
            "tags": []
          },
          "execution_count": 12
        }
      ]
    },
    {
      "cell_type": "code",
      "metadata": {
        "id": "Ely6h9TKRgsn",
        "colab_type": "code",
        "outputId": "59b043df-c972-4c0e-f441-6a45372d8bac",
        "colab": {
          "base_uri": "https://localhost:8080/",
          "height": 35
        }
      },
      "source": [
        "# check data type of 'drugs_related_stop'\n",
        "data['drugs_related_stop'].dtype"
      ],
      "execution_count": 13,
      "outputs": [
        {
          "output_type": "execute_result",
          "data": {
            "text/plain": [
              "dtype('bool')"
            ]
          },
          "metadata": {
            "tags": []
          },
          "execution_count": 13
        }
      ]
    },
    {
      "cell_type": "code",
      "metadata": {
        "id": "RpUZ3ONoRu95",
        "colab_type": "code",
        "outputId": "67c5b13c-e3dd-48a6-8e85-a789ede4365e",
        "colab": {
          "base_uri": "https://localhost:8080/",
          "height": 127
        }
      },
      "source": [
        "data['drugs_related_stop'].head()"
      ],
      "execution_count": 14,
      "outputs": [
        {
          "output_type": "execute_result",
          "data": {
            "text/plain": [
              "0    False\n",
              "1    False\n",
              "2    False\n",
              "3    False\n",
              "4    False\n",
              "Name: drugs_related_stop, dtype: bool"
            ]
          },
          "metadata": {
            "tags": []
          },
          "execution_count": 14
        }
      ]
    },
    {
      "cell_type": "code",
      "metadata": {
        "id": "HW5vo792RwX4",
        "colab_type": "code",
        "outputId": "6d1085d7-7cdb-4086-ef6e-0963e05bcc7d",
        "colab": {
          "base_uri": "https://localhost:8080/",
          "height": 35
        }
      },
      "source": [
        "data['drugs_related_stop'].unique()\n",
        "\n",
        "# contains true and false values only"
      ],
      "execution_count": 15,
      "outputs": [
        {
          "output_type": "execute_result",
          "data": {
            "text/plain": [
              "array([False,  True])"
            ]
          },
          "metadata": {
            "tags": []
          },
          "execution_count": 15
        }
      ]
    },
    {
      "cell_type": "code",
      "metadata": {
        "id": "Cm8XrPvARyuT",
        "colab_type": "code",
        "outputId": "2d5d49a5-0f5b-49e4-959b-7efd59240fe3",
        "colab": {
          "base_uri": "https://localhost:8080/",
          "height": 72
        }
      },
      "source": [
        "# 'stop_date' and 'stop_time' are date time related values but are in string format\n",
        "\n",
        "# check 'stop_date' values\n",
        "print(data['stop_date'].unique())\n",
        "\n",
        "# check 'stop_time' values\n",
        "print(data['stop_time'].unique())"
      ],
      "execution_count": 16,
      "outputs": [
        {
          "output_type": "stream",
          "text": [
            "['2005-01-04' '2005-01-23' '2005-02-17' ... '2015-12-29' '2015-12-30'\n",
            " '2015-12-31']\n",
            "['12:55' '23:15' '04:15' ... '05:22' '04:56' '05:38']\n"
          ],
          "name": "stdout"
        }
      ]
    },
    {
      "cell_type": "code",
      "metadata": {
        "id": "WdFph7AMI6RI",
        "colab_type": "code",
        "colab": {}
      },
      "source": [
        "# concatenate date time data\n",
        "combine_time = data['stop_date'].str.cat(data['stop_time'], sep=' ')"
      ],
      "execution_count": 0,
      "outputs": []
    },
    {
      "cell_type": "code",
      "metadata": {
        "id": "ADrfPXiPMCCH",
        "colab_type": "code",
        "colab": {}
      },
      "source": [
        "# create new dataframe for the combine date time data\n",
        "data['combine_time'] = pd.to_datetime(combine_time)"
      ],
      "execution_count": 0,
      "outputs": []
    },
    {
      "cell_type": "code",
      "metadata": {
        "id": "Te0OJ8OxCAf0",
        "colab_type": "code",
        "outputId": "6e67abef-7604-434b-b6f9-6f359abb444e",
        "colab": {
          "base_uri": "https://localhost:8080/",
          "height": 617
        }
      },
      "source": [
        "# check for unessary duplicated values\n",
        "duplicate = data.duplicated(subset=data.columns, keep=False)\n",
        "\n",
        "data[duplicate]"
      ],
      "execution_count": 19,
      "outputs": [
        {
          "output_type": "execute_result",
          "data": {
            "text/html": [
              "<div>\n",
              "<style scoped>\n",
              "    .dataframe tbody tr th:only-of-type {\n",
              "        vertical-align: middle;\n",
              "    }\n",
              "\n",
              "    .dataframe tbody tr th {\n",
              "        vertical-align: top;\n",
              "    }\n",
              "\n",
              "    .dataframe thead th {\n",
              "        text-align: right;\n",
              "    }\n",
              "</style>\n",
              "<table border=\"1\" class=\"dataframe\">\n",
              "  <thead>\n",
              "    <tr style=\"text-align: right;\">\n",
              "      <th></th>\n",
              "      <th>state</th>\n",
              "      <th>stop_date</th>\n",
              "      <th>stop_time</th>\n",
              "      <th>county_name</th>\n",
              "      <th>driver_gender</th>\n",
              "      <th>driver_race</th>\n",
              "      <th>violation_raw</th>\n",
              "      <th>violation</th>\n",
              "      <th>search_conducted</th>\n",
              "      <th>search_type</th>\n",
              "      <th>stop_outcome</th>\n",
              "      <th>is_arrested</th>\n",
              "      <th>stop_duration</th>\n",
              "      <th>drugs_related_stop</th>\n",
              "      <th>district</th>\n",
              "      <th>combine_time</th>\n",
              "    </tr>\n",
              "  </thead>\n",
              "  <tbody>\n",
              "    <tr>\n",
              "      <th>47</th>\n",
              "      <td>RI</td>\n",
              "      <td>2005-10-01</td>\n",
              "      <td>22:40</td>\n",
              "      <td>NaN</td>\n",
              "      <td>M</td>\n",
              "      <td>White</td>\n",
              "      <td>Speeding</td>\n",
              "      <td>Speeding</td>\n",
              "      <td>False</td>\n",
              "      <td>NaN</td>\n",
              "      <td>Citation</td>\n",
              "      <td>False</td>\n",
              "      <td>16-30 Min</td>\n",
              "      <td>False</td>\n",
              "      <td>Zone K2</td>\n",
              "      <td>2005-10-01 22:40:00</td>\n",
              "    </tr>\n",
              "    <tr>\n",
              "      <th>48</th>\n",
              "      <td>RI</td>\n",
              "      <td>2005-10-01</td>\n",
              "      <td>22:40</td>\n",
              "      <td>NaN</td>\n",
              "      <td>M</td>\n",
              "      <td>White</td>\n",
              "      <td>Speeding</td>\n",
              "      <td>Speeding</td>\n",
              "      <td>False</td>\n",
              "      <td>NaN</td>\n",
              "      <td>Citation</td>\n",
              "      <td>False</td>\n",
              "      <td>16-30 Min</td>\n",
              "      <td>False</td>\n",
              "      <td>Zone K2</td>\n",
              "      <td>2005-10-01 22:40:00</td>\n",
              "    </tr>\n",
              "    <tr>\n",
              "      <th>202</th>\n",
              "      <td>RI</td>\n",
              "      <td>2005-10-08</td>\n",
              "      <td>09:25</td>\n",
              "      <td>NaN</td>\n",
              "      <td>M</td>\n",
              "      <td>White</td>\n",
              "      <td>Speeding</td>\n",
              "      <td>Speeding</td>\n",
              "      <td>False</td>\n",
              "      <td>NaN</td>\n",
              "      <td>Citation</td>\n",
              "      <td>False</td>\n",
              "      <td>0-15 Min</td>\n",
              "      <td>False</td>\n",
              "      <td>Zone K2</td>\n",
              "      <td>2005-10-08 09:25:00</td>\n",
              "    </tr>\n",
              "    <tr>\n",
              "      <th>203</th>\n",
              "      <td>RI</td>\n",
              "      <td>2005-10-08</td>\n",
              "      <td>09:25</td>\n",
              "      <td>NaN</td>\n",
              "      <td>M</td>\n",
              "      <td>White</td>\n",
              "      <td>Speeding</td>\n",
              "      <td>Speeding</td>\n",
              "      <td>False</td>\n",
              "      <td>NaN</td>\n",
              "      <td>Citation</td>\n",
              "      <td>False</td>\n",
              "      <td>0-15 Min</td>\n",
              "      <td>False</td>\n",
              "      <td>Zone K2</td>\n",
              "      <td>2005-10-08 09:25:00</td>\n",
              "    </tr>\n",
              "    <tr>\n",
              "      <th>213</th>\n",
              "      <td>RI</td>\n",
              "      <td>2005-10-08</td>\n",
              "      <td>12:20</td>\n",
              "      <td>NaN</td>\n",
              "      <td>F</td>\n",
              "      <td>White</td>\n",
              "      <td>Equipment/Inspection Violation</td>\n",
              "      <td>Equipment</td>\n",
              "      <td>False</td>\n",
              "      <td>NaN</td>\n",
              "      <td>Citation</td>\n",
              "      <td>False</td>\n",
              "      <td>0-15 Min</td>\n",
              "      <td>False</td>\n",
              "      <td>Zone X3</td>\n",
              "      <td>2005-10-08 12:20:00</td>\n",
              "    </tr>\n",
              "    <tr>\n",
              "      <th>...</th>\n",
              "      <td>...</td>\n",
              "      <td>...</td>\n",
              "      <td>...</td>\n",
              "      <td>...</td>\n",
              "      <td>...</td>\n",
              "      <td>...</td>\n",
              "      <td>...</td>\n",
              "      <td>...</td>\n",
              "      <td>...</td>\n",
              "      <td>...</td>\n",
              "      <td>...</td>\n",
              "      <td>...</td>\n",
              "      <td>...</td>\n",
              "      <td>...</td>\n",
              "      <td>...</td>\n",
              "      <td>...</td>\n",
              "    </tr>\n",
              "    <tr>\n",
              "      <th>90629</th>\n",
              "      <td>RI</td>\n",
              "      <td>2015-11-06</td>\n",
              "      <td>07:30</td>\n",
              "      <td>NaN</td>\n",
              "      <td>M</td>\n",
              "      <td>White</td>\n",
              "      <td>Speeding</td>\n",
              "      <td>Speeding</td>\n",
              "      <td>False</td>\n",
              "      <td>NaN</td>\n",
              "      <td>Citation</td>\n",
              "      <td>False</td>\n",
              "      <td>0-15 Min</td>\n",
              "      <td>False</td>\n",
              "      <td>Zone K2</td>\n",
              "      <td>2015-11-06 07:30:00</td>\n",
              "    </tr>\n",
              "    <tr>\n",
              "      <th>90639</th>\n",
              "      <td>RI</td>\n",
              "      <td>2015-11-06</td>\n",
              "      <td>22:19</td>\n",
              "      <td>NaN</td>\n",
              "      <td>NaN</td>\n",
              "      <td>NaN</td>\n",
              "      <td>NaN</td>\n",
              "      <td>NaN</td>\n",
              "      <td>False</td>\n",
              "      <td>NaN</td>\n",
              "      <td>NaN</td>\n",
              "      <td>NaN</td>\n",
              "      <td>NaN</td>\n",
              "      <td>False</td>\n",
              "      <td>Zone X4</td>\n",
              "      <td>2015-11-06 22:19:00</td>\n",
              "    </tr>\n",
              "    <tr>\n",
              "      <th>90640</th>\n",
              "      <td>RI</td>\n",
              "      <td>2015-11-06</td>\n",
              "      <td>22:19</td>\n",
              "      <td>NaN</td>\n",
              "      <td>NaN</td>\n",
              "      <td>NaN</td>\n",
              "      <td>NaN</td>\n",
              "      <td>NaN</td>\n",
              "      <td>False</td>\n",
              "      <td>NaN</td>\n",
              "      <td>NaN</td>\n",
              "      <td>NaN</td>\n",
              "      <td>NaN</td>\n",
              "      <td>False</td>\n",
              "      <td>Zone X4</td>\n",
              "      <td>2015-11-06 22:19:00</td>\n",
              "    </tr>\n",
              "    <tr>\n",
              "      <th>91596</th>\n",
              "      <td>RI</td>\n",
              "      <td>2015-12-22</td>\n",
              "      <td>23:31</td>\n",
              "      <td>NaN</td>\n",
              "      <td>M</td>\n",
              "      <td>White</td>\n",
              "      <td>Registration Violation</td>\n",
              "      <td>Registration/plates</td>\n",
              "      <td>False</td>\n",
              "      <td>NaN</td>\n",
              "      <td>Citation</td>\n",
              "      <td>False</td>\n",
              "      <td>0-15 Min</td>\n",
              "      <td>False</td>\n",
              "      <td>Zone K2</td>\n",
              "      <td>2015-12-22 23:31:00</td>\n",
              "    </tr>\n",
              "    <tr>\n",
              "      <th>91597</th>\n",
              "      <td>RI</td>\n",
              "      <td>2015-12-22</td>\n",
              "      <td>23:31</td>\n",
              "      <td>NaN</td>\n",
              "      <td>M</td>\n",
              "      <td>White</td>\n",
              "      <td>Registration Violation</td>\n",
              "      <td>Registration/plates</td>\n",
              "      <td>False</td>\n",
              "      <td>NaN</td>\n",
              "      <td>Citation</td>\n",
              "      <td>False</td>\n",
              "      <td>0-15 Min</td>\n",
              "      <td>False</td>\n",
              "      <td>Zone K2</td>\n",
              "      <td>2015-12-22 23:31:00</td>\n",
              "    </tr>\n",
              "  </tbody>\n",
              "</table>\n",
              "<p>1017 rows × 16 columns</p>\n",
              "</div>"
            ],
            "text/plain": [
              "      state   stop_date  ... district        combine_time\n",
              "47       RI  2005-10-01  ...  Zone K2 2005-10-01 22:40:00\n",
              "48       RI  2005-10-01  ...  Zone K2 2005-10-01 22:40:00\n",
              "202      RI  2005-10-08  ...  Zone K2 2005-10-08 09:25:00\n",
              "203      RI  2005-10-08  ...  Zone K2 2005-10-08 09:25:00\n",
              "213      RI  2005-10-08  ...  Zone X3 2005-10-08 12:20:00\n",
              "...     ...         ...  ...      ...                 ...\n",
              "90629    RI  2015-11-06  ...  Zone K2 2015-11-06 07:30:00\n",
              "90639    RI  2015-11-06  ...  Zone X4 2015-11-06 22:19:00\n",
              "90640    RI  2015-11-06  ...  Zone X4 2015-11-06 22:19:00\n",
              "91596    RI  2015-12-22  ...  Zone K2 2015-12-22 23:31:00\n",
              "91597    RI  2015-12-22  ...  Zone K2 2015-12-22 23:31:00\n",
              "\n",
              "[1017 rows x 16 columns]"
            ]
          },
          "metadata": {
            "tags": []
          },
          "execution_count": 19
        }
      ]
    },
    {
      "cell_type": "code",
      "metadata": {
        "id": "0xp-kTVtOney",
        "colab_type": "code",
        "colab": {}
      },
      "source": [
        "# drop duplicated data\n",
        "data.drop_duplicates(subset=data.columns, keep=False, inplace=True)"
      ],
      "execution_count": 0,
      "outputs": []
    },
    {
      "cell_type": "code",
      "metadata": {
        "id": "30La7ImwTlaT",
        "colab_type": "code",
        "outputId": "2eb94606-e351-4c56-e154-952cc9858079",
        "colab": {
          "base_uri": "https://localhost:8080/",
          "height": 106
        }
      },
      "source": [
        "# check if the duplicated data have been dropped\n",
        "data[duplicate]"
      ],
      "execution_count": 21,
      "outputs": [
        {
          "output_type": "stream",
          "text": [
            "/usr/local/lib/python3.6/dist-packages/ipykernel_launcher.py:2: UserWarning: Boolean Series key will be reindexed to match DataFrame index.\n",
            "  \n"
          ],
          "name": "stderr"
        },
        {
          "output_type": "execute_result",
          "data": {
            "text/html": [
              "<div>\n",
              "<style scoped>\n",
              "    .dataframe tbody tr th:only-of-type {\n",
              "        vertical-align: middle;\n",
              "    }\n",
              "\n",
              "    .dataframe tbody tr th {\n",
              "        vertical-align: top;\n",
              "    }\n",
              "\n",
              "    .dataframe thead th {\n",
              "        text-align: right;\n",
              "    }\n",
              "</style>\n",
              "<table border=\"1\" class=\"dataframe\">\n",
              "  <thead>\n",
              "    <tr style=\"text-align: right;\">\n",
              "      <th></th>\n",
              "      <th>state</th>\n",
              "      <th>stop_date</th>\n",
              "      <th>stop_time</th>\n",
              "      <th>county_name</th>\n",
              "      <th>driver_gender</th>\n",
              "      <th>driver_race</th>\n",
              "      <th>violation_raw</th>\n",
              "      <th>violation</th>\n",
              "      <th>search_conducted</th>\n",
              "      <th>search_type</th>\n",
              "      <th>stop_outcome</th>\n",
              "      <th>is_arrested</th>\n",
              "      <th>stop_duration</th>\n",
              "      <th>drugs_related_stop</th>\n",
              "      <th>district</th>\n",
              "      <th>combine_time</th>\n",
              "    </tr>\n",
              "  </thead>\n",
              "  <tbody>\n",
              "  </tbody>\n",
              "</table>\n",
              "</div>"
            ],
            "text/plain": [
              "Empty DataFrame\n",
              "Columns: [state, stop_date, stop_time, county_name, driver_gender, driver_race, violation_raw, violation, search_conducted, search_type, stop_outcome, is_arrested, stop_duration, drugs_related_stop, district, combine_time]\n",
              "Index: []"
            ]
          },
          "metadata": {
            "tags": []
          },
          "execution_count": 21
        }
      ]
    },
    {
      "cell_type": "code",
      "metadata": {
        "id": "D_dqY8G4Vekw",
        "colab_type": "code",
        "outputId": "f8f2b5ee-83f6-4221-c3ad-0d94ba2cf5e0",
        "colab": {
          "base_uri": "https://localhost:8080/",
          "height": 369
        }
      },
      "source": [
        "# check for missing data\n",
        "sns.heatmap(data.isnull(),yticklabels=False,cbar=False)"
      ],
      "execution_count": 22,
      "outputs": [
        {
          "output_type": "execute_result",
          "data": {
            "text/plain": [
              "<matplotlib.axes._subplots.AxesSubplot at 0x7f6c970676d8>"
            ]
          },
          "metadata": {
            "tags": []
          },
          "execution_count": 22
        },
        {
          "output_type": "display_data",
          "data": {
            "image/png": "[encoded data removed]",
            "text/plain": [
              "<Figure size 432x288 with 1 Axes>"
            ]
          },
          "metadata": {
            "tags": [],
            "needs_background": "light"
          }
        }
      ]
    },
    {
      "cell_type": "code",
      "metadata": {
        "id": "oC_TDd6PV4bZ",
        "colab_type": "code",
        "outputId": "dff621d4-9542-487e-a2f5-2f100c99ef76",
        "colab": {
          "base_uri": "https://localhost:8080/",
          "height": 329
        }
      },
      "source": [
        "data.isnull().mean().sort_values(ascending=False)*100"
      ],
      "execution_count": 23,
      "outputs": [
        {
          "output_type": "execute_result",
          "data": {
            "text/plain": [
              "county_name           100.000000\n",
              "search_type            96.379128\n",
              "driver_gender           5.399894\n",
              "stop_duration           5.396587\n",
              "is_arrested             5.396587\n",
              "stop_outcome            5.396587\n",
              "violation               5.396587\n",
              "violation_raw           5.396587\n",
              "driver_race             5.396587\n",
              "combine_time            0.000000\n",
              "district                0.000000\n",
              "drugs_related_stop      0.000000\n",
              "search_conducted        0.000000\n",
              "stop_time               0.000000\n",
              "stop_date               0.000000\n",
              "state                   0.000000\n",
              "dtype: float64"
            ]
          },
          "metadata": {
            "tags": []
          },
          "execution_count": 23
        }
      ]
    },
    {
      "cell_type": "code",
      "metadata": {
        "id": "f_3nhWP2W7nb",
        "colab_type": "code",
        "colab": {}
      },
      "source": [
        "# drop county_name\n",
        "data.drop('county_name',axis=1,inplace=True)"
      ],
      "execution_count": 0,
      "outputs": []
    },
    {
      "cell_type": "code",
      "metadata": {
        "id": "_XD3kYkaYOZg",
        "colab_type": "code",
        "outputId": "9b645959-b464-447b-bf52-7590041865ed",
        "colab": {
          "base_uri": "https://localhost:8080/",
          "height": 384
        }
      },
      "source": [
        "# check search_type\n",
        "data['search_type'].unique()"
      ],
      "execution_count": 25,
      "outputs": [
        {
          "output_type": "execute_result",
          "data": {
            "text/plain": [
              "array([nan, 'Probable Cause', 'Incident to Arrest',\n",
              "       'Incident to Arrest,Probable Cause', 'Protective Frisk',\n",
              "       'Probable Cause,Protective Frisk,Reasonable Suspicion',\n",
              "       'Reasonable Suspicion', 'Incident to Arrest,Protective Frisk',\n",
              "       'Inventory,Protective Frisk', 'Inventory',\n",
              "       'Inventory,Probable Cause', 'Incident to Arrest,Inventory',\n",
              "       'Protective Frisk,Reasonable Suspicion',\n",
              "       'Probable Cause,Reasonable Suspicion',\n",
              "       'Incident to Arrest,Inventory,Protective Frisk',\n",
              "       'Probable Cause,Protective Frisk',\n",
              "       'Incident to Arrest,Probable Cause,Protective Frisk',\n",
              "       'Incident to Arrest,Inventory,Probable Cause',\n",
              "       'Incident to Arrest,Inventory,Reasonable Suspicion',\n",
              "       'Incident to Arrest,Reasonable Suspicion',\n",
              "       'Incident to Arrest,Protective Frisk,Reasonable Suspicion',\n",
              "       'Inventory,Protective Frisk,Reasonable Suspicion',\n",
              "       'Incident to Arrest,Probable Cause,Reasonable Suspicion',\n",
              "       'Inventory,Probable Cause,Reasonable Suspicion',\n",
              "       'Inventory,Probable Cause,Protective Frisk',\n",
              "       'Inventory,Reasonable Suspicion'], dtype=object)"
            ]
          },
          "metadata": {
            "tags": []
          },
          "execution_count": 25
        }
      ]
    },
    {
      "cell_type": "code",
      "metadata": {
        "id": "7DVr8ffzYdhg",
        "colab_type": "code",
        "outputId": "ecf37737-3062-4e18-fc42-a47c8b2ee3e6",
        "colab": {
          "base_uri": "https://localhost:8080/",
          "height": 495
        }
      },
      "source": [
        "data['search_type'].value_counts()"
      ],
      "execution_count": 26,
      "outputs": [
        {
          "output_type": "execute_result",
          "data": {
            "text/plain": [
              "Incident to Arrest                                          1276\n",
              "Probable Cause                                               920\n",
              "Inventory                                                    219\n",
              "Reasonable Suspicion                                         214\n",
              "Protective Frisk                                             164\n",
              "Incident to Arrest,Inventory                                 121\n",
              "Incident to Arrest,Probable Cause                             98\n",
              "Probable Cause,Reasonable Suspicion                           54\n",
              "Probable Cause,Protective Frisk                               35\n",
              "Incident to Arrest,Inventory,Probable Cause                   35\n",
              "Incident to Arrest,Protective Frisk                           33\n",
              "Inventory,Probable Cause                                      25\n",
              "Protective Frisk,Reasonable Suspicion                         19\n",
              "Incident to Arrest,Inventory,Protective Frisk                 18\n",
              "Incident to Arrest,Probable Cause,Protective Frisk            13\n",
              "Inventory,Protective Frisk                                    12\n",
              "Incident to Arrest,Reasonable Suspicion                        8\n",
              "Probable Cause,Protective Frisk,Reasonable Suspicion           5\n",
              "Incident to Arrest,Probable Cause,Reasonable Suspicion         5\n",
              "Incident to Arrest,Inventory,Reasonable Suspicion              4\n",
              "Inventory,Reasonable Suspicion                                 2\n",
              "Incident to Arrest,Protective Frisk,Reasonable Suspicion       2\n",
              "Inventory,Probable Cause,Protective Frisk                      1\n",
              "Inventory,Probable Cause,Reasonable Suspicion                  1\n",
              "Inventory,Protective Frisk,Reasonable Suspicion                1\n",
              "Name: search_type, dtype: int64"
            ]
          },
          "metadata": {
            "tags": []
          },
          "execution_count": 26
        }
      ]
    },
    {
      "cell_type": "code",
      "metadata": {
        "id": "nOrFXySnYpO4",
        "colab_type": "code",
        "outputId": "6fdd8c78-4593-4305-a138-255b833745e0",
        "colab": {
          "base_uri": "https://localhost:8080/",
          "height": 617
        }
      },
      "source": [
        "data[data['search_type'].isnull()]"
      ],
      "execution_count": 27,
      "outputs": [
        {
          "output_type": "execute_result",
          "data": {
            "text/html": [
              "<div>\n",
              "<style scoped>\n",
              "    .dataframe tbody tr th:only-of-type {\n",
              "        vertical-align: middle;\n",
              "    }\n",
              "\n",
              "    .dataframe tbody tr th {\n",
              "        vertical-align: top;\n",
              "    }\n",
              "\n",
              "    .dataframe thead th {\n",
              "        text-align: right;\n",
              "    }\n",
              "</style>\n",
              "<table border=\"1\" class=\"dataframe\">\n",
              "  <thead>\n",
              "    <tr style=\"text-align: right;\">\n",
              "      <th></th>\n",
              "      <th>state</th>\n",
              "      <th>stop_date</th>\n",
              "      <th>stop_time</th>\n",
              "      <th>driver_gender</th>\n",
              "      <th>driver_race</th>\n",
              "      <th>violation_raw</th>\n",
              "      <th>violation</th>\n",
              "      <th>search_conducted</th>\n",
              "      <th>search_type</th>\n",
              "      <th>stop_outcome</th>\n",
              "      <th>is_arrested</th>\n",
              "      <th>stop_duration</th>\n",
              "      <th>drugs_related_stop</th>\n",
              "      <th>district</th>\n",
              "      <th>combine_time</th>\n",
              "    </tr>\n",
              "  </thead>\n",
              "  <tbody>\n",
              "    <tr>\n",
              "      <th>0</th>\n",
              "      <td>RI</td>\n",
              "      <td>2005-01-04</td>\n",
              "      <td>12:55</td>\n",
              "      <td>M</td>\n",
              "      <td>White</td>\n",
              "      <td>Equipment/Inspection Violation</td>\n",
              "      <td>Equipment</td>\n",
              "      <td>False</td>\n",
              "      <td>NaN</td>\n",
              "      <td>Citation</td>\n",
              "      <td>False</td>\n",
              "      <td>0-15 Min</td>\n",
              "      <td>False</td>\n",
              "      <td>Zone X4</td>\n",
              "      <td>2005-01-04 12:55:00</td>\n",
              "    </tr>\n",
              "    <tr>\n",
              "      <th>1</th>\n",
              "      <td>RI</td>\n",
              "      <td>2005-01-23</td>\n",
              "      <td>23:15</td>\n",
              "      <td>M</td>\n",
              "      <td>White</td>\n",
              "      <td>Speeding</td>\n",
              "      <td>Speeding</td>\n",
              "      <td>False</td>\n",
              "      <td>NaN</td>\n",
              "      <td>Citation</td>\n",
              "      <td>False</td>\n",
              "      <td>0-15 Min</td>\n",
              "      <td>False</td>\n",
              "      <td>Zone K3</td>\n",
              "      <td>2005-01-23 23:15:00</td>\n",
              "    </tr>\n",
              "    <tr>\n",
              "      <th>2</th>\n",
              "      <td>RI</td>\n",
              "      <td>2005-02-17</td>\n",
              "      <td>04:15</td>\n",
              "      <td>M</td>\n",
              "      <td>White</td>\n",
              "      <td>Speeding</td>\n",
              "      <td>Speeding</td>\n",
              "      <td>False</td>\n",
              "      <td>NaN</td>\n",
              "      <td>Citation</td>\n",
              "      <td>False</td>\n",
              "      <td>0-15 Min</td>\n",
              "      <td>False</td>\n",
              "      <td>Zone X4</td>\n",
              "      <td>2005-02-17 04:15:00</td>\n",
              "    </tr>\n",
              "    <tr>\n",
              "      <th>3</th>\n",
              "      <td>RI</td>\n",
              "      <td>2005-02-20</td>\n",
              "      <td>17:15</td>\n",
              "      <td>M</td>\n",
              "      <td>White</td>\n",
              "      <td>Call for Service</td>\n",
              "      <td>Other</td>\n",
              "      <td>False</td>\n",
              "      <td>NaN</td>\n",
              "      <td>Arrest Driver</td>\n",
              "      <td>True</td>\n",
              "      <td>16-30 Min</td>\n",
              "      <td>False</td>\n",
              "      <td>Zone X1</td>\n",
              "      <td>2005-02-20 17:15:00</td>\n",
              "    </tr>\n",
              "    <tr>\n",
              "      <th>4</th>\n",
              "      <td>RI</td>\n",
              "      <td>2005-02-24</td>\n",
              "      <td>01:20</td>\n",
              "      <td>F</td>\n",
              "      <td>White</td>\n",
              "      <td>Speeding</td>\n",
              "      <td>Speeding</td>\n",
              "      <td>False</td>\n",
              "      <td>NaN</td>\n",
              "      <td>Citation</td>\n",
              "      <td>False</td>\n",
              "      <td>0-15 Min</td>\n",
              "      <td>False</td>\n",
              "      <td>Zone X3</td>\n",
              "      <td>2005-02-24 01:20:00</td>\n",
              "    </tr>\n",
              "    <tr>\n",
              "      <th>...</th>\n",
              "      <td>...</td>\n",
              "      <td>...</td>\n",
              "      <td>...</td>\n",
              "      <td>...</td>\n",
              "      <td>...</td>\n",
              "      <td>...</td>\n",
              "      <td>...</td>\n",
              "      <td>...</td>\n",
              "      <td>...</td>\n",
              "      <td>...</td>\n",
              "      <td>...</td>\n",
              "      <td>...</td>\n",
              "      <td>...</td>\n",
              "      <td>...</td>\n",
              "      <td>...</td>\n",
              "    </tr>\n",
              "    <tr>\n",
              "      <th>91736</th>\n",
              "      <td>RI</td>\n",
              "      <td>2015-12-31</td>\n",
              "      <td>21:21</td>\n",
              "      <td>F</td>\n",
              "      <td>Black</td>\n",
              "      <td>Other Traffic Violation</td>\n",
              "      <td>Moving violation</td>\n",
              "      <td>False</td>\n",
              "      <td>NaN</td>\n",
              "      <td>Citation</td>\n",
              "      <td>False</td>\n",
              "      <td>0-15 Min</td>\n",
              "      <td>False</td>\n",
              "      <td>Zone K2</td>\n",
              "      <td>2015-12-31 21:21:00</td>\n",
              "    </tr>\n",
              "    <tr>\n",
              "      <th>91737</th>\n",
              "      <td>RI</td>\n",
              "      <td>2015-12-31</td>\n",
              "      <td>21:59</td>\n",
              "      <td>F</td>\n",
              "      <td>White</td>\n",
              "      <td>Speeding</td>\n",
              "      <td>Speeding</td>\n",
              "      <td>False</td>\n",
              "      <td>NaN</td>\n",
              "      <td>Citation</td>\n",
              "      <td>False</td>\n",
              "      <td>0-15 Min</td>\n",
              "      <td>False</td>\n",
              "      <td>Zone K3</td>\n",
              "      <td>2015-12-31 21:59:00</td>\n",
              "    </tr>\n",
              "    <tr>\n",
              "      <th>91738</th>\n",
              "      <td>RI</td>\n",
              "      <td>2015-12-31</td>\n",
              "      <td>22:04</td>\n",
              "      <td>M</td>\n",
              "      <td>White</td>\n",
              "      <td>Other Traffic Violation</td>\n",
              "      <td>Moving violation</td>\n",
              "      <td>False</td>\n",
              "      <td>NaN</td>\n",
              "      <td>Citation</td>\n",
              "      <td>False</td>\n",
              "      <td>0-15 Min</td>\n",
              "      <td>False</td>\n",
              "      <td>Zone X3</td>\n",
              "      <td>2015-12-31 22:04:00</td>\n",
              "    </tr>\n",
              "    <tr>\n",
              "      <th>91739</th>\n",
              "      <td>RI</td>\n",
              "      <td>2015-12-31</td>\n",
              "      <td>22:09</td>\n",
              "      <td>F</td>\n",
              "      <td>Hispanic</td>\n",
              "      <td>Equipment/Inspection Violation</td>\n",
              "      <td>Equipment</td>\n",
              "      <td>False</td>\n",
              "      <td>NaN</td>\n",
              "      <td>Warning</td>\n",
              "      <td>False</td>\n",
              "      <td>0-15 Min</td>\n",
              "      <td>False</td>\n",
              "      <td>Zone K3</td>\n",
              "      <td>2015-12-31 22:09:00</td>\n",
              "    </tr>\n",
              "    <tr>\n",
              "      <th>91740</th>\n",
              "      <td>RI</td>\n",
              "      <td>2015-12-31</td>\n",
              "      <td>22:47</td>\n",
              "      <td>M</td>\n",
              "      <td>White</td>\n",
              "      <td>Registration Violation</td>\n",
              "      <td>Registration/plates</td>\n",
              "      <td>False</td>\n",
              "      <td>NaN</td>\n",
              "      <td>Citation</td>\n",
              "      <td>False</td>\n",
              "      <td>0-15 Min</td>\n",
              "      <td>False</td>\n",
              "      <td>Zone X4</td>\n",
              "      <td>2015-12-31 22:47:00</td>\n",
              "    </tr>\n",
              "  </tbody>\n",
              "</table>\n",
              "<p>87439 rows × 15 columns</p>\n",
              "</div>"
            ],
            "text/plain": [
              "      state   stop_date  ... district        combine_time\n",
              "0        RI  2005-01-04  ...  Zone X4 2005-01-04 12:55:00\n",
              "1        RI  2005-01-23  ...  Zone K3 2005-01-23 23:15:00\n",
              "2        RI  2005-02-17  ...  Zone X4 2005-02-17 04:15:00\n",
              "3        RI  2005-02-20  ...  Zone X1 2005-02-20 17:15:00\n",
              "4        RI  2005-02-24  ...  Zone X3 2005-02-24 01:20:00\n",
              "...     ...         ...  ...      ...                 ...\n",
              "91736    RI  2015-12-31  ...  Zone K2 2015-12-31 21:21:00\n",
              "91737    RI  2015-12-31  ...  Zone K3 2015-12-31 21:59:00\n",
              "91738    RI  2015-12-31  ...  Zone X3 2015-12-31 22:04:00\n",
              "91739    RI  2015-12-31  ...  Zone K3 2015-12-31 22:09:00\n",
              "91740    RI  2015-12-31  ...  Zone X4 2015-12-31 22:47:00\n",
              "\n",
              "[87439 rows x 15 columns]"
            ]
          },
          "metadata": {
            "tags": []
          },
          "execution_count": 27
        }
      ]
    },
    {
      "cell_type": "code",
      "metadata": {
        "id": "zk2a16H-ZBby",
        "colab_type": "code",
        "colab": {}
      },
      "source": [
        "# replace the missing values in 'search_type' to unknown\n",
        "data = data.fillna({'search_type': 'Unknown'})"
      ],
      "execution_count": 0,
      "outputs": []
    },
    {
      "cell_type": "code",
      "metadata": {
        "id": "eH_tplpwipjX",
        "colab_type": "code",
        "colab": {}
      },
      "source": [
        "# given the remaining data missing only contains around 5% of the dataset, it can be drop\n",
        "data.dropna(inplace=True)"
      ],
      "execution_count": 0,
      "outputs": []
    },
    {
      "cell_type": "code",
      "metadata": {
        "id": "nYSt0h6fmVoF",
        "colab_type": "code",
        "colab": {}
      },
      "source": [
        "# given that it's only one state, the 'state' column can be drop\n",
        "data.drop('state', axis=1, inplace=True)"
      ],
      "execution_count": 0,
      "outputs": []
    },
    {
      "cell_type": "code",
      "metadata": {
        "id": "Pp8MeF0xjYFI",
        "colab_type": "code",
        "outputId": "bceeae1a-685e-43b6-81df-e83c77f5b784",
        "colab": {
          "base_uri": "https://localhost:8080/",
          "height": 293
        }
      },
      "source": [
        "data.isnull().mean()"
      ],
      "execution_count": 31,
      "outputs": [
        {
          "output_type": "execute_result",
          "data": {
            "text/plain": [
              "stop_date             0.0\n",
              "stop_time             0.0\n",
              "driver_gender         0.0\n",
              "driver_race           0.0\n",
              "violation_raw         0.0\n",
              "violation             0.0\n",
              "search_conducted      0.0\n",
              "search_type           0.0\n",
              "stop_outcome          0.0\n",
              "is_arrested           0.0\n",
              "stop_duration         0.0\n",
              "drugs_related_stop    0.0\n",
              "district              0.0\n",
              "combine_time          0.0\n",
              "dtype: float64"
            ]
          },
          "metadata": {
            "tags": []
          },
          "execution_count": 31
        }
      ]
    },
    {
      "cell_type": "markdown",
      "metadata": {
        "id": "exket6EpmKbb",
        "colab_type": "text"
      },
      "source": [
        "## EDA"
      ]
    },
    {
      "cell_type": "code",
      "metadata": {
        "id": "_erulOmcmS8q",
        "colab_type": "code",
        "outputId": "fe986715-5746-43be-966b-36d391132630",
        "colab": {
          "base_uri": "https://localhost:8080/",
          "height": 314
        }
      },
      "source": [
        "sns.countplot(data['driver_gender'])\n",
        "\n",
        "plt.title('Gender of Drivers')"
      ],
      "execution_count": 114,
      "outputs": [
        {
          "output_type": "execute_result",
          "data": {
            "text/plain": [
              "Text(0.5, 1.0, 'Gender of Drivers')"
            ]
          },
          "metadata": {
            "tags": []
          },
          "execution_count": 114
        },
        {
          "output_type": "display_data",
          "data": {
            "image/png": "[encoded data removed]",
            "text/plain": [
              "<Figure size 432x288 with 1 Axes>"
            ]
          },
          "metadata": {
            "tags": [],
            "needs_background": "light"
          }
        }
      ]
    },
    {
      "cell_type": "code",
      "metadata": {
        "id": "dDu9usdvnvHQ",
        "colab_type": "code",
        "outputId": "423fe77a-5aca-47ca-9710-4974edb1a8db",
        "colab": {
          "base_uri": "https://localhost:8080/",
          "height": 314
        }
      },
      "source": [
        "sns.countplot(data['driver_race'])\n",
        "\n",
        "plt.title('Race of Drivers')"
      ],
      "execution_count": 115,
      "outputs": [
        {
          "output_type": "execute_result",
          "data": {
            "text/plain": [
              "Text(0.5, 1.0, 'Race of Drivers')"
            ]
          },
          "metadata": {
            "tags": []
          },
          "execution_count": 115
        },
        {
          "output_type": "display_data",
          "data": {
            "image/png": "[encoded data removed]",
            "text/plain": [
              "<Figure size 432x288 with 1 Axes>"
            ]
          },
          "metadata": {
            "tags": [],
            "needs_background": "light"
          }
        }
      ]
    },
    {
      "cell_type": "code",
      "metadata": {
        "id": "Fv9GDe5vn25A",
        "colab_type": "code",
        "outputId": "9eb7f203-15a9-444e-8d5a-543cb2b4dcce",
        "colab": {
          "base_uri": "https://localhost:8080/",
          "height": 352
        }
      },
      "source": [
        "plt.figure(figsize=(15,5))\n",
        "\n",
        "sns.countplot(y=data['violation_raw'],\n",
        "              order=data['violation_raw'].value_counts().index)"
      ],
      "execution_count": 35,
      "outputs": [
        {
          "output_type": "execute_result",
          "data": {
            "text/plain": [
              "<matplotlib.axes._subplots.AxesSubplot at 0x7f6c92bfe6a0>"
            ]
          },
          "metadata": {
            "tags": []
          },
          "execution_count": 35
        },
        {
          "output_type": "display_data",
          "data": {
            "image/png": "[encoded data removed]",
            "text/plain": [
              "<Figure size 1080x360 with 1 Axes>"
            ]
          },
          "metadata": {
            "tags": [],
            "needs_background": "light"
          }
        }
      ]
    },
    {
      "cell_type": "code",
      "metadata": {
        "id": "rtGLJkTcoABp",
        "colab_type": "code",
        "outputId": "a12bb9a3-21cd-42b5-d7d5-fa5e3516d8ad",
        "colab": {
          "base_uri": "https://localhost:8080/",
          "height": 368
        }
      },
      "source": [
        "plt.figure(figsize=(15,5))\n",
        "\n",
        "sns.countplot(y=data['violation'],\n",
        "              order=data['violation'].value_counts().index)\n",
        "\n",
        "plt.title('Types of Violation')"
      ],
      "execution_count": 117,
      "outputs": [
        {
          "output_type": "execute_result",
          "data": {
            "text/plain": [
              "Text(0.5, 1.0, 'Types of Violation')"
            ]
          },
          "metadata": {
            "tags": []
          },
          "execution_count": 117
        },
        {
          "output_type": "display_data",
          "data": {
            "image/png": "[encoded data removed]",
            "text/plain": [
              "<Figure size 1080x360 with 1 Axes>"
            ]
          },
          "metadata": {
            "tags": [],
            "needs_background": "light"
          }
        }
      ]
    },
    {
      "cell_type": "code",
      "metadata": {
        "id": "k759hK4ApT8i",
        "colab_type": "code",
        "outputId": "1178dfe1-b504-4ae0-bdf3-88817ea12b53",
        "colab": {
          "base_uri": "https://localhost:8080/",
          "height": 368
        }
      },
      "source": [
        "plt.figure(figsize=(15,5))\n",
        "\n",
        "sns.countplot(y=data['stop_outcome'],\n",
        "              order=data['stop_outcome'].value_counts().index)\n",
        "\n",
        "plt.title('Types of Citation')"
      ],
      "execution_count": 118,
      "outputs": [
        {
          "output_type": "execute_result",
          "data": {
            "text/plain": [
              "Text(0.5, 1.0, 'Types of Citation')"
            ]
          },
          "metadata": {
            "tags": []
          },
          "execution_count": 118
        },
        {
          "output_type": "display_data",
          "data": {
            "image/png": "[encoded data removed]",
            "text/plain": [
              "<Figure size 1080x360 with 1 Axes>"
            ]
          },
          "metadata": {
            "tags": [],
            "needs_background": "light"
          }
        }
      ]
    },
    {
      "cell_type": "code",
      "metadata": {
        "id": "PzMD6kyDrmHG",
        "colab_type": "code",
        "outputId": "9ae178ce-e844-4f2d-bc35-03c349460295",
        "colab": {
          "base_uri": "https://localhost:8080/",
          "height": 319
        }
      },
      "source": [
        "plt.figure(figsize=(15,5))\n",
        "\n",
        "plt.pie(x = data['drugs_related_stop'].value_counts().values,\n",
        "        explode = (0.1,0),\n",
        "        autopct='%1.0f%%',\n",
        "        labels = data['drugs_related_stop'].value_counts().index)\n",
        "\n",
        "plt.title('Drugs Related Stop')\n",
        "\n",
        "plt.show()"
      ],
      "execution_count": 38,
      "outputs": [
        {
          "output_type": "display_data",
          "data": {
            "image/png": "[encoded data removed]",
            "text/plain": [
              "<Figure size 1080x360 with 1 Axes>"
            ]
          },
          "metadata": {
            "tags": []
          }
        }
      ]
    },
    {
      "cell_type": "code",
      "metadata": {
        "id": "i6t1j5llp2Yu",
        "colab_type": "code",
        "outputId": "3d635fab-b5b6-4a7b-9d4b-fad5660ee508",
        "colab": {
          "base_uri": "https://localhost:8080/",
          "height": 297
        }
      },
      "source": [
        "sns.countplot(data['district'])"
      ],
      "execution_count": 39,
      "outputs": [
        {
          "output_type": "execute_result",
          "data": {
            "text/plain": [
              "<matplotlib.axes._subplots.AxesSubplot at 0x7f6c92a84e48>"
            ]
          },
          "metadata": {
            "tags": []
          },
          "execution_count": 39
        },
        {
          "output_type": "display_data",
          "data": {
            "image/png": "[encoded data removed]",
            "text/plain": [
              "<Figure size 432x288 with 1 Axes>"
            ]
          },
          "metadata": {
            "tags": [],
            "needs_background": "light"
          }
        }
      ]
    },
    {
      "cell_type": "markdown",
      "metadata": {
        "id": "vzKURulTv7ac",
        "colab_type": "text"
      },
      "source": [
        "#### Relationships"
      ]
    },
    {
      "cell_type": "code",
      "metadata": {
        "id": "qx99KIPuvZvM",
        "colab_type": "code",
        "outputId": "50ca9d2c-d6c9-4111-a62e-903fa5536621",
        "colab": {
          "base_uri": "https://localhost:8080/",
          "height": 314
        }
      },
      "source": [
        "sns.countplot(x=data['driver_gender'], hue=data['driver_race'])\n",
        "\n",
        "plt.title('Driver gender and race')"
      ],
      "execution_count": 40,
      "outputs": [
        {
          "output_type": "execute_result",
          "data": {
            "text/plain": [
              "Text(0.5, 1.0, 'Driver gender and race')"
            ]
          },
          "metadata": {
            "tags": []
          },
          "execution_count": 40
        },
        {
          "output_type": "display_data",
          "data": {
            "image/png": "[encoded data removed]",
            "text/plain": [
              "<Figure size 432x288 with 1 Axes>"
            ]
          },
          "metadata": {
            "tags": [],
            "needs_background": "light"
          }
        }
      ]
    },
    {
      "cell_type": "code",
      "metadata": {
        "id": "j6uaGSZ_waXC",
        "colab_type": "code",
        "outputId": "075ccbf0-6be8-4b68-9ff4-f3fdeb0e1948",
        "colab": {
          "base_uri": "https://localhost:8080/",
          "height": 314
        }
      },
      "source": [
        "sns.countplot(x=data['search_conducted'], hue=data['driver_gender'])\n",
        "\n",
        "plt.title('Search conducted based on the gender')"
      ],
      "execution_count": 119,
      "outputs": [
        {
          "output_type": "execute_result",
          "data": {
            "text/plain": [
              "Text(0.5, 1.0, 'Search conducted based on the gender')"
            ]
          },
          "metadata": {
            "tags": []
          },
          "execution_count": 119
        },
        {
          "output_type": "display_data",
          "data": {
            "image/png": "[encoded data removed]",
            "text/plain": [
              "<Figure size 432x288 with 1 Axes>"
            ]
          },
          "metadata": {
            "tags": [],
            "needs_background": "light"
          }
        }
      ]
    },
    {
      "cell_type": "code",
      "metadata": {
        "id": "PRvOCjcCzayl",
        "colab_type": "code",
        "outputId": "09183177-614f-47e5-bd67-87ee8659fca7",
        "colab": {
          "base_uri": "https://localhost:8080/",
          "height": 90
        }
      },
      "source": [
        "# search conducted based on the gender\n",
        "data.groupby('driver_gender').search_conducted.sum()"
      ],
      "execution_count": 121,
      "outputs": [
        {
          "output_type": "execute_result",
          "data": {
            "text/plain": [
              "driver_gender\n",
              "F     454.0\n",
              "M    2831.0\n",
              "Name: search_conducted, dtype: float64"
            ]
          },
          "metadata": {
            "tags": []
          },
          "execution_count": 121
        }
      ]
    },
    {
      "cell_type": "code",
      "metadata": {
        "id": "6k53dtlv2hPu",
        "colab_type": "code",
        "outputId": "9bf15a0d-7780-4d10-a529-ca3c50f0f286",
        "colab": {
          "base_uri": "https://localhost:8080/",
          "height": 422
        }
      },
      "source": [
        "plt.figure(figsize=(12,6))\n",
        "\n",
        "sns.countplot(data['violation'],hue=data['driver_gender'])\n",
        "\n",
        "plt.title('Violation based on gender')"
      ],
      "execution_count": 43,
      "outputs": [
        {
          "output_type": "execute_result",
          "data": {
            "text/plain": [
              "Text(0.5, 1.0, 'Violation based on gender')"
            ]
          },
          "metadata": {
            "tags": []
          },
          "execution_count": 43
        },
        {
          "output_type": "display_data",
          "data": {
            "image/png": "[encoded data removed]",
            "text/plain": [
              "<Figure size 864x432 with 1 Axes>"
            ]
          },
          "metadata": {
            "tags": [],
            "needs_background": "light"
          }
        }
      ]
    },
    {
      "cell_type": "code",
      "metadata": {
        "id": "ZDXZspjv23mk",
        "colab_type": "code",
        "outputId": "a3e68692-eb74-443f-9c72-71f971c0ba0d",
        "colab": {
          "base_uri": "https://localhost:8080/",
          "height": 422
        }
      },
      "source": [
        "plt.figure(figsize=(12,6))\n",
        "\n",
        "sns.countplot(data['violation'],hue=data['driver_race'],\n",
        "              order=data['violation'].value_counts().index)\n",
        "\n",
        "plt.title('Violation based on race')"
      ],
      "execution_count": 44,
      "outputs": [
        {
          "output_type": "execute_result",
          "data": {
            "text/plain": [
              "Text(0.5, 1.0, 'Violation based on race')"
            ]
          },
          "metadata": {
            "tags": []
          },
          "execution_count": 44
        },
        {
          "output_type": "display_data",
          "data": {
            "image/png": "[encoded data removed]",
            "text/plain": [
              "<Figure size 864x432 with 1 Axes>"
            ]
          },
          "metadata": {
            "tags": [],
            "needs_background": "light"
          }
        }
      ]
    },
    {
      "cell_type": "code",
      "metadata": {
        "id": "9TH0jVLh6gmT",
        "colab_type": "code",
        "outputId": "15d69b10-a59e-4293-aeb3-40e6348f1ead",
        "colab": {
          "base_uri": "https://localhost:8080/",
          "height": 314
        }
      },
      "source": [
        "sns.countplot(data['is_arrested'],hue=data['driver_gender'])\n",
        "\n",
        "plt.title('Arrested by gender')"
      ],
      "execution_count": 45,
      "outputs": [
        {
          "output_type": "execute_result",
          "data": {
            "text/plain": [
              "Text(0.5, 1.0, 'Arrested by gender')"
            ]
          },
          "metadata": {
            "tags": []
          },
          "execution_count": 45
        },
        {
          "output_type": "display_data",
          "data": {
            "image/png": "[encoded data removed]",
            "text/plain": [
              "<Figure size 432x288 with 1 Axes>"
            ]
          },
          "metadata": {
            "tags": [],
            "needs_background": "light"
          }
        }
      ]
    },
    {
      "cell_type": "code",
      "metadata": {
        "id": "AxnEGa7H6z65",
        "colab_type": "code",
        "outputId": "72dfd48d-bd98-49c2-e455-877985ff304a",
        "colab": {
          "base_uri": "https://localhost:8080/",
          "height": 314
        }
      },
      "source": [
        "sns.countplot(data['is_arrested'],hue=data['driver_race'])\n",
        "\n",
        "plt.title('Arrested by race')"
      ],
      "execution_count": 46,
      "outputs": [
        {
          "output_type": "execute_result",
          "data": {
            "text/plain": [
              "Text(0.5, 1.0, 'Arrested by race')"
            ]
          },
          "metadata": {
            "tags": []
          },
          "execution_count": 46
        },
        {
          "output_type": "display_data",
          "data": {
            "image/png": "[encoded data removed]",
            "text/plain": [
              "<Figure size 432x288 with 1 Axes>"
            ]
          },
          "metadata": {
            "tags": [],
            "needs_background": "light"
          }
        }
      ]
    },
    {
      "cell_type": "code",
      "metadata": {
        "id": "8PRSJvoo7JE9",
        "colab_type": "code",
        "outputId": "faf0e3e5-d1b2-43cd-f2e8-ef47810d06b8",
        "colab": {
          "base_uri": "https://localhost:8080/",
          "height": 146
        }
      },
      "source": [
        "# arreseted based on race\n",
        "data.groupby('driver_race')['is_arrested'].sum()"
      ],
      "execution_count": 47,
      "outputs": [
        {
          "output_type": "execute_result",
          "data": {
            "text/plain": [
              "driver_race\n",
              "Asian         42\n",
              "Black        753\n",
              "Hispanic     597\n",
              "Other          2\n",
              "White       1616\n",
              "Name: is_arrested, dtype: int64"
            ]
          },
          "metadata": {
            "tags": []
          },
          "execution_count": 47
        }
      ]
    },
    {
      "cell_type": "code",
      "metadata": {
        "id": "d3hI8qoUGKGV",
        "colab_type": "code",
        "outputId": "2a1ffc78-2868-4677-e57e-e1b091474aa1",
        "colab": {
          "base_uri": "https://localhost:8080/",
          "height": 526
        }
      },
      "source": [
        "plt.figure(figsize=(12,5))\n",
        "\n",
        "sns.countplot(data['violation'],hue=data['district'])\n",
        "\n",
        "plt.tile('Types of violation based on district')"
      ],
      "execution_count": 122,
      "outputs": [
        {
          "output_type": "error",
          "ename": "AttributeError",
          "evalue": "ignored",
          "traceback": [
            "\u001b[0;31m---------------------------------------------------------------------------\u001b[0m",
            "\u001b[0;31mAttributeError\u001b[0m                            Traceback (most recent call last)",
            "\u001b[0;32m<ipython-input-122-4e2a12da233a>\u001b[0m in \u001b[0;36m<module>\u001b[0;34m()\u001b[0m\n\u001b[1;32m      3\u001b[0m \u001b[0msns\u001b[0m\u001b[0;34m.\u001b[0m\u001b[0mcountplot\u001b[0m\u001b[0;34m(\u001b[0m\u001b[0mdata\u001b[0m\u001b[0;34m[\u001b[0m\u001b[0;34m'violation'\u001b[0m\u001b[0;34m]\u001b[0m\u001b[0;34m,\u001b[0m\u001b[0mhue\u001b[0m\u001b[0;34m=\u001b[0m\u001b[0mdata\u001b[0m\u001b[0;34m[\u001b[0m\u001b[0;34m'district'\u001b[0m\u001b[0;34m]\u001b[0m\u001b[0;34m)\u001b[0m\u001b[0;34m\u001b[0m\u001b[0;34m\u001b[0m\u001b[0m\n\u001b[1;32m      4\u001b[0m \u001b[0;34m\u001b[0m\u001b[0m\n\u001b[0;32m----> 5\u001b[0;31m \u001b[0mplt\u001b[0m\u001b[0;34m.\u001b[0m\u001b[0mtile\u001b[0m\u001b[0;34m(\u001b[0m\u001b[0;34m'Types of violation based on district'\u001b[0m\u001b[0;34m)\u001b[0m\u001b[0;34m\u001b[0m\u001b[0;34m\u001b[0m\u001b[0m\n\u001b[0m",
            "\u001b[0;31mAttributeError\u001b[0m: module 'matplotlib.pyplot' has no attribute 'tile'"
          ]
        },
        {
          "output_type": "display_data",
          "data": {
            "image/png": "[encoded data removed]",
            "text/plain": [
              "<Figure size 864x360 with 1 Axes>"
            ]
          },
          "metadata": {
            "tags": [],
            "needs_background": "light"
          }
        }
      ]
    },
    {
      "cell_type": "code",
      "metadata": {
        "id": "675nKokAHodG",
        "colab_type": "code",
        "outputId": "8c1ea41e-ac1e-4be7-b550-cd4d90050816",
        "colab": {
          "base_uri": "https://localhost:8080/",
          "height": 368
        }
      },
      "source": [
        "plt.figure(figsize=(12,5))\n",
        "\n",
        "sns.countplot(data['violation'],hue=data['stop_duration'])\n",
        "\n",
        "plt.title('Types of violation based on the stop duration')"
      ],
      "execution_count": 123,
      "outputs": [
        {
          "output_type": "execute_result",
          "data": {
            "text/plain": [
              "Text(0.5, 1.0, 'Types of violation based on the stop duration')"
            ]
          },
          "metadata": {
            "tags": []
          },
          "execution_count": 123
        },
        {
          "output_type": "display_data",
          "data": {
            "image/png": "[encoded data removed]",
            "text/plain": [
              "<Figure size 864x360 with 1 Axes>"
            ]
          },
          "metadata": {
            "tags": [],
            "needs_background": "light"
          }
        }
      ]
    },
    {
      "cell_type": "markdown",
      "metadata": {
        "id": "vbtQMj3M5BXY",
        "colab_type": "text"
      },
      "source": [
        "Since speeding is the most being violated based on gender and race, the focus will be on that"
      ]
    },
    {
      "cell_type": "code",
      "metadata": {
        "id": "KmwSbgf34Oy5",
        "colab_type": "code",
        "colab": {}
      },
      "source": [
        "# create a dataframe for males that were stopped by speeding\n",
        "male_speeding = data[(data['driver_gender']=='M') &(data['violation']=='Speeding')]\n",
        "\n",
        "# create a dataframe for females that were stopped by speeding\n",
        "female_speeding = data[(data['driver_gender']=='F') &(data['violation']=='Speeding')]"
      ],
      "execution_count": 0,
      "outputs": []
    },
    {
      "cell_type": "code",
      "metadata": {
        "id": "NA2l_bJ55wJj",
        "colab_type": "code",
        "outputId": "fa0a9507-9343-415d-fe9a-e60e375197aa",
        "colab": {
          "base_uri": "https://localhost:8080/",
          "height": 146
        }
      },
      "source": [
        "# stop outcome for male speeding\n",
        "male_speeding['stop_outcome'].value_counts(normalize='True')"
      ],
      "execution_count": 51,
      "outputs": [
        {
          "output_type": "execute_result",
          "data": {
            "text/plain": [
              "Citation            0.945035\n",
              "Warning             0.036243\n",
              "Arrest Driver       0.015366\n",
              "Arrest Passenger    0.001293\n",
              "No Action           0.001078\n",
              "N/D                 0.000985\n",
              "Name: stop_outcome, dtype: float64"
            ]
          },
          "metadata": {
            "tags": []
          },
          "execution_count": 51
        }
      ]
    },
    {
      "cell_type": "code",
      "metadata": {
        "id": "jfQ9LYG36A3c",
        "colab_type": "code",
        "outputId": "93787338-98e2-41e0-85b4-4331da201026",
        "colab": {
          "base_uri": "https://localhost:8080/",
          "height": 146
        }
      },
      "source": [
        "# stop outcome for female speeding\n",
        "female_speeding['stop_outcome'].value_counts(normalize='True')"
      ],
      "execution_count": 52,
      "outputs": [
        {
          "output_type": "execute_result",
          "data": {
            "text/plain": [
              "Citation            0.952761\n",
              "Warning             0.039709\n",
              "Arrest Driver       0.005535\n",
              "N/D                 0.000965\n",
              "Arrest Passenger    0.000644\n",
              "No Action           0.000386\n",
              "Name: stop_outcome, dtype: float64"
            ]
          },
          "metadata": {
            "tags": []
          },
          "execution_count": 52
        }
      ]
    },
    {
      "cell_type": "code",
      "metadata": {
        "id": "L8t-Qawv9R8i",
        "colab_type": "code",
        "outputId": "327457f4-edee-4d48-a7ed-0867b0ee8a39",
        "colab": {
          "base_uri": "https://localhost:8080/",
          "height": 164
        }
      },
      "source": [
        "# were male arrested?\n",
        "male_speeding.groupby(['stop_outcome'])['is_arrested'].sum()"
      ],
      "execution_count": 53,
      "outputs": [
        {
          "output_type": "execute_result",
          "data": {
            "text/plain": [
              "stop_outcome\n",
              "Arrest Driver       499\n",
              "Arrest Passenger     42\n",
              "Citation              0\n",
              "N/D                   0\n",
              "No Action             0\n",
              "Warning               0\n",
              "Name: is_arrested, dtype: int64"
            ]
          },
          "metadata": {
            "tags": []
          },
          "execution_count": 53
        }
      ]
    },
    {
      "cell_type": "code",
      "metadata": {
        "id": "-T4VF6J6-x50",
        "colab_type": "code",
        "outputId": "1bef945d-8f95-4cf6-9eb6-427fa70c26f7",
        "colab": {
          "base_uri": "https://localhost:8080/",
          "height": 164
        }
      },
      "source": [
        "# were female arrested?\n",
        "female_speeding.groupby(['stop_outcome'])['is_arrested'].sum()"
      ],
      "execution_count": 54,
      "outputs": [
        {
          "output_type": "execute_result",
          "data": {
            "text/plain": [
              "stop_outcome\n",
              "Arrest Driver       86\n",
              "Arrest Passenger    10\n",
              "Citation             0\n",
              "N/D                  0\n",
              "No Action            0\n",
              "Warning              0\n",
              "Name: is_arrested, dtype: int64"
            ]
          },
          "metadata": {
            "tags": []
          },
          "execution_count": 54
        }
      ]
    },
    {
      "cell_type": "code",
      "metadata": {
        "id": "KgUyioVxDt29",
        "colab_type": "code",
        "outputId": "1183bcc7-ffa1-4ce8-9476-f59b81b51c47",
        "colab": {
          "base_uri": "https://localhost:8080/",
          "height": 164
        }
      },
      "source": [
        "# district where male speeding are conducted\n",
        "male_speeding.groupby('district')['search_conducted'].sum()"
      ],
      "execution_count": 55,
      "outputs": [
        {
          "output_type": "execute_result",
          "data": {
            "text/plain": [
              "district\n",
              "Zone K1     95.0\n",
              "Zone K2    154.0\n",
              "Zone K3    336.0\n",
              "Zone X1      7.0\n",
              "Zone X3     89.0\n",
              "Zone X4    221.0\n",
              "Name: search_conducted, dtype: float64"
            ]
          },
          "metadata": {
            "tags": []
          },
          "execution_count": 55
        }
      ]
    },
    {
      "cell_type": "code",
      "metadata": {
        "id": "DbfO2jcyFVvM",
        "colab_type": "code",
        "outputId": "6b818793-bb94-4fb7-bf55-d00f32f4a3e9",
        "colab": {
          "base_uri": "https://localhost:8080/",
          "height": 164
        }
      },
      "source": [
        "# district where female speeding are conducted\n",
        "female_speeding.groupby('district')['search_conducted'].sum()"
      ],
      "execution_count": 56,
      "outputs": [
        {
          "output_type": "execute_result",
          "data": {
            "text/plain": [
              "district\n",
              "Zone K1    23.0\n",
              "Zone K2    24.0\n",
              "Zone K3    53.0\n",
              "Zone X1     0.0\n",
              "Zone X3     7.0\n",
              "Zone X4    21.0\n",
              "Name: search_conducted, dtype: float64"
            ]
          },
          "metadata": {
            "tags": []
          },
          "execution_count": 56
        }
      ]
    },
    {
      "cell_type": "code",
      "metadata": {
        "id": "1NmXtfZJ1fNk",
        "colab_type": "code",
        "outputId": "45aba8a2-51aa-4d9c-c7e5-6ad1d57ebc60",
        "colab": {
          "base_uri": "https://localhost:8080/",
          "height": 274
        }
      },
      "source": [
        "# districts where stop are due to drug related\n",
        "data.groupby('drugs_related_stop')['district'].value_counts()"
      ],
      "execution_count": 57,
      "outputs": [
        {
          "output_type": "execute_result",
          "data": {
            "text/plain": [
              "drugs_related_stop  district\n",
              "False               Zone X4     22018\n",
              "                    Zone K3     19156\n",
              "                    Zone K2     17358\n",
              "                    Zone X3     15954\n",
              "                    Zone K1      8159\n",
              "                    Zone X1      2326\n",
              "True                Zone X4       325\n",
              "                    Zone K3       253\n",
              "                    Zone K2       112\n",
              "                    Zone X3        82\n",
              "                    Zone K1        77\n",
              "                    Zone X1         5\n",
              "Name: district, dtype: int64"
            ]
          },
          "metadata": {
            "tags": []
          },
          "execution_count": 57
        }
      ]
    },
    {
      "cell_type": "code",
      "metadata": {
        "id": "3vVFhWw1Incj",
        "colab_type": "code",
        "outputId": "8e8348ca-621d-49b1-a77b-d7c4cc2e3786",
        "colab": {
          "base_uri": "https://localhost:8080/",
          "height": 256
        }
      },
      "source": [
        "# districts where male speeding where stop due to drug related\n",
        "male_speeding.groupby('drugs_related_stop')['district'].value_counts()"
      ],
      "execution_count": 58,
      "outputs": [
        {
          "output_type": "execute_result",
          "data": {
            "text/plain": [
              "drugs_related_stop  district\n",
              "False               Zone K3     8433\n",
              "                    Zone K2     6786\n",
              "                    Zone X4     6731\n",
              "                    Zone X3     5645\n",
              "                    Zone K1     3876\n",
              "                    Zone X1      751\n",
              "True                Zone K3      102\n",
              "                    Zone X4       61\n",
              "                    Zone K2       41\n",
              "                    Zone K1       31\n",
              "                    Zone X3       18\n",
              "Name: district, dtype: int64"
            ]
          },
          "metadata": {
            "tags": []
          },
          "execution_count": 58
        }
      ]
    },
    {
      "cell_type": "code",
      "metadata": {
        "id": "bfnc1wyOJDVV",
        "colab_type": "code",
        "outputId": "e4038b00-a0c5-458e-d421-0f2019053690",
        "colab": {
          "base_uri": "https://localhost:8080/",
          "height": 256
        }
      },
      "source": [
        "# districts where female speeding where stop due to drug related\n",
        "female_speeding.groupby('drugs_related_stop')['district'].value_counts()"
      ],
      "execution_count": 59,
      "outputs": [
        {
          "output_type": "execute_result",
          "data": {
            "text/plain": [
              "drugs_related_stop  district\n",
              "False               Zone K3     3678\n",
              "                    Zone K2     3493\n",
              "                    Zone X3     3041\n",
              "                    Zone X4     2920\n",
              "                    Zone K1     2011\n",
              "                    Zone X1      364\n",
              "True                Zone K3       16\n",
              "                    Zone K2        7\n",
              "                    Zone K1        4\n",
              "                    Zone X4        3\n",
              "                    Zone X3        1\n",
              "Name: district, dtype: int64"
            ]
          },
          "metadata": {
            "tags": []
          },
          "execution_count": 59
        }
      ]
    },
    {
      "cell_type": "markdown",
      "metadata": {
        "id": "obNRfFjyJ2Z1",
        "colab_type": "text"
      },
      "source": [
        "#### Time series"
      ]
    },
    {
      "cell_type": "code",
      "metadata": {
        "id": "VcA2yAfwLMFe",
        "colab_type": "code",
        "colab": {}
      },
      "source": [
        "# create a 'date' column from the 'combine_time' column\n",
        "data['date'] = data['combine_time'].apply(lambda x: x.date())"
      ],
      "execution_count": 0,
      "outputs": []
    },
    {
      "cell_type": "code",
      "metadata": {
        "id": "zL8EclEQ5tb8",
        "colab_type": "code",
        "outputId": "8022b4ad-fef2-4516-ac77-a74fed9d6647",
        "colab": {
          "base_uri": "https://localhost:8080/",
          "height": 369
        }
      },
      "source": [
        "# rate of stop conducted by date\n",
        "plt.figure(figsize=(15,5))\n",
        "\n",
        "data.groupby('date').count()['search_conducted'].plot()\n",
        "\n",
        "plt.tight_layout()"
      ],
      "execution_count": 103,
      "outputs": [
        {
          "output_type": "display_data",
          "data": {
            "image/png": "[encoded data removed]",
            "text/plain": [
              "<Figure size 1080x360 with 1 Axes>"
            ]
          },
          "metadata": {
            "tags": [],
            "needs_background": "light"
          }
        }
      ]
    },
    {
      "cell_type": "code",
      "metadata": {
        "id": "HpCsFZz13OcF",
        "colab_type": "code",
        "colab": {
          "base_uri": "https://localhost:8080/",
          "height": 35
        },
        "outputId": "0a9221e3-7d8d-4620-ca41-071dc8fa3cc1"
      },
      "source": [
        "# mean stopped \n",
        "data.groupby('date').count().mean().values[0]"
      ],
      "execution_count": 104,
      "outputs": [
        {
          "output_type": "execute_result",
          "data": {
            "text/plain": [
              "22.862280234416623"
            ]
          },
          "metadata": {
            "tags": []
          },
          "execution_count": 104
        }
      ]
    },
    {
      "cell_type": "code",
      "metadata": {
        "id": "NChCs8eqMujO",
        "colab_type": "code",
        "colab": {}
      },
      "source": [
        "# create 'day' column from the 'combine_time' column\n",
        "data['day'] = data['combine_time'].apply(lambda x: x.dayofweek)\n",
        "\n",
        "# map the values given to day of week\n",
        "data['day'] = data['day'].map({0:'Mon', 1:'Tue', 2:'Wed', 3:'Thur', 4:'Fri', 5:'Sat', 6:'Sun'})"
      ],
      "execution_count": 0,
      "outputs": []
    },
    {
      "cell_type": "code",
      "metadata": {
        "id": "b04Pou1sKC4O",
        "colab_type": "code",
        "outputId": "2063c90d-b1d9-437a-e282-8a21832ab2f5",
        "colab": {
          "base_uri": "https://localhost:8080/",
          "height": 319
        }
      },
      "source": [
        "# rate of stop conduted by day\n",
        "plt.figure(figsize=(15,5))\n",
        "\n",
        "plt.pie(x = data['day'].value_counts().values,\n",
        "        autopct='%1.0f%%',\n",
        "        labels = data['day'].value_counts().index)\n",
        "\n",
        "plt.title('Days where stops were conducted')\n",
        "\n",
        "plt.show()"
      ],
      "execution_count": 63,
      "outputs": [
        {
          "output_type": "display_data",
          "data": {
            "image/png": "[encoded data removed]",
            "text/plain": [
              "<Figure size 1080x360 with 1 Axes>"
            ]
          },
          "metadata": {
            "tags": []
          }
        }
      ]
    },
    {
      "cell_type": "markdown",
      "metadata": {
        "id": "kPUJCgY_K9lO",
        "colab_type": "text"
      },
      "source": [
        "The frequency of stops are almost identical every day"
      ]
    },
    {
      "cell_type": "code",
      "metadata": {
        "id": "SFL9RpXBsd_a",
        "colab_type": "code",
        "colab": {}
      },
      "source": [
        "# create a 'month' column from the 'combine_time' column\n",
        "data['month'] = data['combine_time'].apply(lambda x: x.month)"
      ],
      "execution_count": 0,
      "outputs": []
    },
    {
      "cell_type": "code",
      "metadata": {
        "id": "m2fXhVPTuLLC",
        "colab_type": "code",
        "colab": {
          "base_uri": "https://localhost:8080/",
          "height": 319
        },
        "outputId": "5ad3d34d-0a2b-462b-d276-748320158cb4"
      },
      "source": [
        "# rate of stop conducted by month\n",
        "plt.figure(figsize=(15,5))\n",
        "\n",
        "plt.pie(x = data['month'].value_counts().values,\n",
        "        autopct='%1.0f%%',\n",
        "        labels = data['month'].value_counts().index)\n",
        "\n",
        "plt.title('Months where stops were conducted')\n",
        "\n",
        "plt.show()"
      ],
      "execution_count": 69,
      "outputs": [
        {
          "output_type": "display_data",
          "data": {
            "image/png": "[encoded data removed]",
            "text/plain": [
              "<Figure size 1080x360 with 1 Axes>"
            ]
          },
          "metadata": {
            "tags": []
          }
        }
      ]
    },
    {
      "cell_type": "markdown",
      "metadata": {
        "id": "NTSbfovVLF4L",
        "colab_type": "text"
      },
      "source": [
        "The same can be said on the frequency of stops based on the months"
      ]
    },
    {
      "cell_type": "code",
      "metadata": {
        "id": "x7fnLimFuaIl",
        "colab_type": "code",
        "colab": {}
      },
      "source": [
        "# create a 'hour' column from the 'combine_time' column\n",
        "data['hour'] = data['combine_time'].apply(lambda x: x.hour)"
      ],
      "execution_count": 0,
      "outputs": []
    },
    {
      "cell_type": "code",
      "metadata": {
        "id": "3xQMNo1hvM0n",
        "colab_type": "code",
        "colab": {
          "base_uri": "https://localhost:8080/",
          "height": 422
        },
        "outputId": "85a73c65-88f5-4e67-c4b1-e35fe777c7f6"
      },
      "source": [
        "# rate of stop conducted by hour\n",
        "plt.figure(figsize=(12,6))\n",
        "\n",
        "sns.countplot(data['hour'])\n",
        "\n",
        "plt.title('Rate of stops conducted by the hour')"
      ],
      "execution_count": 75,
      "outputs": [
        {
          "output_type": "execute_result",
          "data": {
            "text/plain": [
              "Text(0.5, 1.0, 'Rate of stops conducted by the hour')"
            ]
          },
          "metadata": {
            "tags": []
          },
          "execution_count": 75
        },
        {
          "output_type": "display_data",
          "data": {
            "image/png": "[encoded data removed]",
            "text/plain": [
              "<Figure size 864x432 with 1 Axes>"
            ]
          },
          "metadata": {
            "tags": [],
            "needs_background": "light"
          }
        }
      ]
    },
    {
      "cell_type": "markdown",
      "metadata": {
        "id": "3t04Zi0dLT2K",
        "colab_type": "text"
      },
      "source": [
        "The highest hour of stops conducted is around the 10th hour of the day, while the lowest is at the 5th hour of the day."
      ]
    },
    {
      "cell_type": "code",
      "metadata": {
        "id": "IPDlvIC2F7-p",
        "colab_type": "code",
        "colab": {}
      },
      "source": [
        ""
      ],
      "execution_count": 0,
      "outputs": []
    }
  ]
}