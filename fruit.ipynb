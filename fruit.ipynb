{
 "cells": [
  {
   "cell_type": "code",
   "execution_count": 1,
   "metadata": {},
   "outputs": [],
   "source": [
    "import numpy as np\n",
    "import pandas as pd\n",
    "import matplotlib.pyplot as plt\n",
    "import seaborn as sns\n",
    "\n",
    "import warnings\n",
    "warnings.filterwarnings('ignore')\n",
    "\n",
    "%matplotlib inline"
   ]
  },
  {
   "cell_type": "code",
   "execution_count": 2,
   "metadata": {},
   "outputs": [],
   "source": [
    "data = pd.read_table('https://raw.githubusercontent.com/susanli2016/Machine-Learning-with-Python/master/fruit_data_with_colors.txt')"
   ]
  },
  {
   "cell_type": "code",
   "execution_count": 3,
   "metadata": {},
   "outputs": [
    {
     "data": {
      "text/html": [
       "<div>\n",
       "<style scoped>\n",
       "    .dataframe tbody tr th:only-of-type {\n",
       "        vertical-align: middle;\n",
       "    }\n",
       "\n",
       "    .dataframe tbody tr th {\n",
       "        vertical-align: top;\n",
       "    }\n",
       "\n",
       "    .dataframe thead th {\n",
       "        text-align: right;\n",
       "    }\n",
       "</style>\n",
       "<table border=\"1\" class=\"dataframe\">\n",
       "  <thead>\n",
       "    <tr style=\"text-align: right;\">\n",
       "      <th></th>\n",
       "      <th>fruit_label</th>\n",
       "      <th>fruit_name</th>\n",
       "      <th>fruit_subtype</th>\n",
       "      <th>mass</th>\n",
       "      <th>width</th>\n",
       "      <th>height</th>\n",
       "      <th>color_score</th>\n",
       "    </tr>\n",
       "  </thead>\n",
       "  <tbody>\n",
       "    <tr>\n",
       "      <th>0</th>\n",
       "      <td>1</td>\n",
       "      <td>apple</td>\n",
       "      <td>granny_smith</td>\n",
       "      <td>192</td>\n",
       "      <td>8.4</td>\n",
       "      <td>7.3</td>\n",
       "      <td>0.55</td>\n",
       "    </tr>\n",
       "    <tr>\n",
       "      <th>1</th>\n",
       "      <td>1</td>\n",
       "      <td>apple</td>\n",
       "      <td>granny_smith</td>\n",
       "      <td>180</td>\n",
       "      <td>8.0</td>\n",
       "      <td>6.8</td>\n",
       "      <td>0.59</td>\n",
       "    </tr>\n",
       "    <tr>\n",
       "      <th>2</th>\n",
       "      <td>1</td>\n",
       "      <td>apple</td>\n",
       "      <td>granny_smith</td>\n",
       "      <td>176</td>\n",
       "      <td>7.4</td>\n",
       "      <td>7.2</td>\n",
       "      <td>0.60</td>\n",
       "    </tr>\n",
       "    <tr>\n",
       "      <th>3</th>\n",
       "      <td>2</td>\n",
       "      <td>mandarin</td>\n",
       "      <td>mandarin</td>\n",
       "      <td>86</td>\n",
       "      <td>6.2</td>\n",
       "      <td>4.7</td>\n",
       "      <td>0.80</td>\n",
       "    </tr>\n",
       "    <tr>\n",
       "      <th>4</th>\n",
       "      <td>2</td>\n",
       "      <td>mandarin</td>\n",
       "      <td>mandarin</td>\n",
       "      <td>84</td>\n",
       "      <td>6.0</td>\n",
       "      <td>4.6</td>\n",
       "      <td>0.79</td>\n",
       "    </tr>\n",
       "  </tbody>\n",
       "</table>\n",
       "</div>"
      ],
      "text/plain": [
       "   fruit_label fruit_name fruit_subtype  mass  width  height  color_score\n",
       "0            1      apple  granny_smith   192    8.4     7.3         0.55\n",
       "1            1      apple  granny_smith   180    8.0     6.8         0.59\n",
       "2            1      apple  granny_smith   176    7.4     7.2         0.60\n",
       "3            2   mandarin      mandarin    86    6.2     4.7         0.80\n",
       "4            2   mandarin      mandarin    84    6.0     4.6         0.79"
      ]
     },
     "execution_count": 3,
     "metadata": {},
     "output_type": "execute_result"
    }
   ],
   "source": [
    "data.head()"
   ]
  },
  {
   "cell_type": "code",
   "execution_count": 4,
   "metadata": {},
   "outputs": [
    {
     "name": "stdout",
     "output_type": "stream",
     "text": [
      "<class 'pandas.core.frame.DataFrame'>\n",
      "RangeIndex: 59 entries, 0 to 58\n",
      "Data columns (total 7 columns):\n",
      " #   Column         Non-Null Count  Dtype  \n",
      "---  ------         --------------  -----  \n",
      " 0   fruit_label    59 non-null     int64  \n",
      " 1   fruit_name     59 non-null     object \n",
      " 2   fruit_subtype  59 non-null     object \n",
      " 3   mass           59 non-null     int64  \n",
      " 4   width          59 non-null     float64\n",
      " 5   height         59 non-null     float64\n",
      " 6   color_score    59 non-null     float64\n",
      "dtypes: float64(3), int64(2), object(2)\n",
      "memory usage: 3.4+ KB\n"
     ]
    }
   ],
   "source": [
    "data.info()"
   ]
  },
  {
   "cell_type": "code",
   "execution_count": 5,
   "metadata": {},
   "outputs": [
    {
     "data": {
      "text/plain": [
       "float64    3\n",
       "object     2\n",
       "int64      2\n",
       "dtype: int64"
      ]
     },
     "execution_count": 5,
     "metadata": {},
     "output_type": "execute_result"
    }
   ],
   "source": [
    "data.dtypes.value_counts()"
   ]
  },
  {
   "cell_type": "code",
   "execution_count": 6,
   "metadata": {},
   "outputs": [
    {
     "data": {
      "text/html": [
       "<div>\n",
       "<style scoped>\n",
       "    .dataframe tbody tr th:only-of-type {\n",
       "        vertical-align: middle;\n",
       "    }\n",
       "\n",
       "    .dataframe tbody tr th {\n",
       "        vertical-align: top;\n",
       "    }\n",
       "\n",
       "    .dataframe thead th {\n",
       "        text-align: right;\n",
       "    }\n",
       "</style>\n",
       "<table border=\"1\" class=\"dataframe\">\n",
       "  <thead>\n",
       "    <tr style=\"text-align: right;\">\n",
       "      <th></th>\n",
       "      <th>mass</th>\n",
       "      <th>width</th>\n",
       "      <th>height</th>\n",
       "      <th>color_score</th>\n",
       "    </tr>\n",
       "  </thead>\n",
       "  <tbody>\n",
       "    <tr>\n",
       "      <th>count</th>\n",
       "      <td>59.000000</td>\n",
       "      <td>59.000000</td>\n",
       "      <td>59.000000</td>\n",
       "      <td>59.000000</td>\n",
       "    </tr>\n",
       "    <tr>\n",
       "      <th>mean</th>\n",
       "      <td>163.118644</td>\n",
       "      <td>7.105085</td>\n",
       "      <td>7.693220</td>\n",
       "      <td>0.762881</td>\n",
       "    </tr>\n",
       "    <tr>\n",
       "      <th>std</th>\n",
       "      <td>55.018832</td>\n",
       "      <td>0.816938</td>\n",
       "      <td>1.361017</td>\n",
       "      <td>0.076857</td>\n",
       "    </tr>\n",
       "    <tr>\n",
       "      <th>min</th>\n",
       "      <td>76.000000</td>\n",
       "      <td>5.800000</td>\n",
       "      <td>4.000000</td>\n",
       "      <td>0.550000</td>\n",
       "    </tr>\n",
       "    <tr>\n",
       "      <th>25%</th>\n",
       "      <td>140.000000</td>\n",
       "      <td>6.600000</td>\n",
       "      <td>7.200000</td>\n",
       "      <td>0.720000</td>\n",
       "    </tr>\n",
       "    <tr>\n",
       "      <th>50%</th>\n",
       "      <td>158.000000</td>\n",
       "      <td>7.200000</td>\n",
       "      <td>7.600000</td>\n",
       "      <td>0.750000</td>\n",
       "    </tr>\n",
       "    <tr>\n",
       "      <th>75%</th>\n",
       "      <td>177.000000</td>\n",
       "      <td>7.500000</td>\n",
       "      <td>8.200000</td>\n",
       "      <td>0.810000</td>\n",
       "    </tr>\n",
       "    <tr>\n",
       "      <th>max</th>\n",
       "      <td>362.000000</td>\n",
       "      <td>9.600000</td>\n",
       "      <td>10.500000</td>\n",
       "      <td>0.930000</td>\n",
       "    </tr>\n",
       "  </tbody>\n",
       "</table>\n",
       "</div>"
      ],
      "text/plain": [
       "             mass      width     height  color_score\n",
       "count   59.000000  59.000000  59.000000    59.000000\n",
       "mean   163.118644   7.105085   7.693220     0.762881\n",
       "std     55.018832   0.816938   1.361017     0.076857\n",
       "min     76.000000   5.800000   4.000000     0.550000\n",
       "25%    140.000000   6.600000   7.200000     0.720000\n",
       "50%    158.000000   7.200000   7.600000     0.750000\n",
       "75%    177.000000   7.500000   8.200000     0.810000\n",
       "max    362.000000   9.600000  10.500000     0.930000"
      ]
     },
     "execution_count": 6,
     "metadata": {},
     "output_type": "execute_result"
    }
   ],
   "source": [
    "data.describe()[['mass', 'width', 'height','color_score']]"
   ]
  },
  {
   "cell_type": "code",
   "execution_count": 7,
   "metadata": {},
   "outputs": [
    {
     "data": {
      "text/plain": [
       "fruit_label      0\n",
       "fruit_name       0\n",
       "fruit_subtype    0\n",
       "mass             0\n",
       "width            0\n",
       "height           0\n",
       "color_score      0\n",
       "dtype: int64"
      ]
     },
     "execution_count": 7,
     "metadata": {},
     "output_type": "execute_result"
    },
    {
     "data": {
      "image/png": "[encoded data removed]",
      "text/plain": [
       "<Figure size 432x288 with 1 Axes>"
      ]
     },
     "metadata": {
      "needs_background": "light"
     },
     "output_type": "display_data"
    }
   ],
   "source": [
    "sns.heatmap(data.isnull(), cbar=False, yticklabels=False)\n",
    "\n",
    "data.isnull().sum()"
   ]
  },
  {
   "cell_type": "markdown",
   "metadata": {},
   "source": [
    "## EDA"
   ]
  },
  {
   "cell_type": "code",
   "execution_count": 8,
   "metadata": {},
   "outputs": [],
   "source": [
    "sns.set_theme(style=\"whitegrid\")"
   ]
  },
  {
   "cell_type": "markdown",
   "metadata": {},
   "source": [
    "### Univariate Analysis"
   ]
  },
  {
   "cell_type": "code",
   "execution_count": 9,
   "metadata": {},
   "outputs": [
    {
     "data": {
      "image/png": "[encoded data removed]",
      "text/plain": [
       "<Figure size 864x360 with 1 Axes>"
      ]
     },
     "metadata": {},
     "output_type": "display_data"
    }
   ],
   "source": [
    "plt.figure(figsize=(12,5))\n",
    "\n",
    "plt.pie(x = data['fruit_label'].value_counts().values, \n",
    "        explode = (0.1,0.1,0.1,0.1),\n",
    "        autopct = '%1.0f%%',\n",
    "        labels = data['fruit_label'].value_counts().index)\n",
    "\n",
    "plt.show()"
   ]
  },
  {
   "cell_type": "markdown",
   "metadata": {},
   "source": [
    "- the target labels are not evenly distributed with mandarin (2) being only 8%."
   ]
  },
  {
   "cell_type": "code",
   "execution_count": 10,
   "metadata": {},
   "outputs": [
    {
     "data": {
      "image/png": "[encoded data removed]",
      "text/plain": [
       "<Figure size 1440x1080 with 6 Axes>"
      ]
     },
     "metadata": {},
     "output_type": "display_data"
    }
   ],
   "source": [
    "data.hist(bins=10, figsize=(20,15))\n",
    "plt.show()"
   ]
  },
  {
   "cell_type": "markdown",
   "metadata": {},
   "source": [
    "- 4 main features are **mass**, **width**, **height**, **color_score**."
   ]
  },
  {
   "cell_type": "code",
   "execution_count": 11,
   "metadata": {},
   "outputs": [
    {
     "data": {
      "image/png": "[encoded data removed]",
      "text/plain": [
       "<Figure size 1440x720 with 4 Axes>"
      ]
     },
     "metadata": {},
     "output_type": "display_data"
    }
   ],
   "source": [
    "fig, axes = plt.subplots(2,2, figsize=(20,10))\n",
    "\n",
    "sns.boxplot(x='mass', y='fruit_name', data=data, ax=axes[0,0])\n",
    "sns.boxplot(x='width', y='fruit_name', data=data, ax=axes[0,1])\n",
    "sns.boxplot(x='height', y='fruit_name', data=data, ax=axes[1,0])\n",
    "sns.boxplot(x='color_score', y='fruit_name', data=data, ax=axes[1,1])\n",
    "\n",
    "plt.tight_layout()"
   ]
  },
  {
   "cell_type": "markdown",
   "metadata": {},
   "source": [
    "- mandarin has the least **mass**, **widht** and **height**\n",
    "- apple has a wide range of color \n",
    "- there are some outliers, mostly from orange and since it's small, we can try to remove it"
   ]
  },
  {
   "cell_type": "code",
   "execution_count": 12,
   "metadata": {},
   "outputs": [
    {
     "data": {
      "text/html": [
       "<div>\n",
       "<style scoped>\n",
       "    .dataframe tbody tr th:only-of-type {\n",
       "        vertical-align: middle;\n",
       "    }\n",
       "\n",
       "    .dataframe tbody tr th {\n",
       "        vertical-align: top;\n",
       "    }\n",
       "\n",
       "    .dataframe thead th {\n",
       "        text-align: right;\n",
       "    }\n",
       "</style>\n",
       "<table border=\"1\" class=\"dataframe\">\n",
       "  <thead>\n",
       "    <tr style=\"text-align: right;\">\n",
       "      <th></th>\n",
       "      <th>fruit_label</th>\n",
       "      <th>mass</th>\n",
       "      <th>width</th>\n",
       "      <th>height</th>\n",
       "      <th>color_score</th>\n",
       "    </tr>\n",
       "    <tr>\n",
       "      <th>fruit_name</th>\n",
       "      <th></th>\n",
       "      <th></th>\n",
       "      <th></th>\n",
       "      <th></th>\n",
       "      <th></th>\n",
       "    </tr>\n",
       "  </thead>\n",
       "  <tbody>\n",
       "    <tr>\n",
       "      <th>apple</th>\n",
       "      <td>1.0</td>\n",
       "      <td>165.052632</td>\n",
       "      <td>7.457895</td>\n",
       "      <td>7.342105</td>\n",
       "      <td>0.783684</td>\n",
       "    </tr>\n",
       "    <tr>\n",
       "      <th>lemon</th>\n",
       "      <td>4.0</td>\n",
       "      <td>150.000000</td>\n",
       "      <td>6.512500</td>\n",
       "      <td>8.856250</td>\n",
       "      <td>0.718125</td>\n",
       "    </tr>\n",
       "    <tr>\n",
       "      <th>mandarin</th>\n",
       "      <td>2.0</td>\n",
       "      <td>81.200000</td>\n",
       "      <td>5.940000</td>\n",
       "      <td>4.380000</td>\n",
       "      <td>0.796000</td>\n",
       "    </tr>\n",
       "    <tr>\n",
       "      <th>orange</th>\n",
       "      <td>3.0</td>\n",
       "      <td>193.789474</td>\n",
       "      <td>7.557895</td>\n",
       "      <td>7.936842</td>\n",
       "      <td>0.771053</td>\n",
       "    </tr>\n",
       "  </tbody>\n",
       "</table>\n",
       "</div>"
      ],
      "text/plain": [
       "            fruit_label        mass     width    height  color_score\n",
       "fruit_name                                                          \n",
       "apple               1.0  165.052632  7.457895  7.342105     0.783684\n",
       "lemon               4.0  150.000000  6.512500  8.856250     0.718125\n",
       "mandarin            2.0   81.200000  5.940000  4.380000     0.796000\n",
       "orange              3.0  193.789474  7.557895  7.936842     0.771053"
      ]
     },
     "execution_count": 12,
     "metadata": {},
     "output_type": "execute_result"
    }
   ],
   "source": [
    "data.groupby('fruit_name').mean()"
   ]
  },
  {
   "cell_type": "markdown",
   "metadata": {},
   "source": [
    "## Bi-variate Analysis"
   ]
  },
  {
   "cell_type": "code",
   "execution_count": 13,
   "metadata": {},
   "outputs": [
    {
     "data": {
      "text/plain": [
       "<AxesSubplot:>"
      ]
     },
     "execution_count": 13,
     "metadata": {},
     "output_type": "execute_result"
    },
    {
     "data": {
      "image/png": "[encoded data removed]",
      "text/plain": [
       "<Figure size 1080x540 with 2 Axes>"
      ]
     },
     "metadata": {},
     "output_type": "display_data"
    }
   ],
   "source": [
    "# correlation with each other\n",
    "mask = np.triu(np.ones_like(data.corr(), dtype=bool))\n",
    "\n",
    "plt.figure(figsize=(15,7.5))\n",
    "sns.heatmap(data.corr(), mask=mask, annot=True,\n",
    "            square=True, cmap='coolwarm', vmin=-1, vmax=1)"
   ]
  },
  {
   "cell_type": "code",
   "execution_count": 14,
   "metadata": {},
   "outputs": [
    {
     "data": {
      "text/plain": [
       "<AxesSubplot:>"
      ]
     },
     "execution_count": 14,
     "metadata": {},
     "output_type": "execute_result"
    },
    {
     "data": {
      "image/png": "[encoded data removed]",
      "text/plain": [
       "<Figure size 360x360 with 2 Axes>"
      ]
     },
     "metadata": {},
     "output_type": "display_data"
    }
   ],
   "source": [
    "# correlation with target\n",
    "correlation = data.corrwith(data['fruit_label']).iloc[1:].to_frame()\n",
    "\n",
    "sort_correlation = correlation.sort_values(0, ascending=False)[0]\n",
    "\n",
    "fig, ax = plt.subplots(figsize=(5,5))\n",
    "sns.heatmap(sort_correlation.to_frame(), cmap='coolwarm', annot=True, ax=ax, vmin=-1, vmax=1)"
   ]
  },
  {
   "cell_type": "markdown",
   "metadata": {},
   "source": [
    "- **height** shows a positive correlation, **width** and **color_score** shows a negative correlation."
   ]
  },
  {
   "cell_type": "markdown",
   "metadata": {},
   "source": [
    "## Feature Engineering"
   ]
  },
  {
   "cell_type": "code",
   "execution_count": 15,
   "metadata": {},
   "outputs": [],
   "source": [
    "data['area'] = data['height']*data['width']"
   ]
  },
  {
   "cell_type": "code",
   "execution_count": 16,
   "metadata": {},
   "outputs": [
    {
     "data": {
      "text/plain": [
       "<AxesSubplot:xlabel='area', ylabel='fruit_name'>"
      ]
     },
     "execution_count": 16,
     "metadata": {},
     "output_type": "execute_result"
    },
    {
     "data": {
      "image/png": "[encoded data removed]",
      "text/plain": [
       "<Figure size 432x288 with 1 Axes>"
      ]
     },
     "metadata": {},
     "output_type": "display_data"
    }
   ],
   "source": [
    "sns.boxplot(x='area', y='fruit_name', data=data)"
   ]
  },
  {
   "cell_type": "markdown",
   "metadata": {},
   "source": [
    "- mandarin is the smallest in terms of **area**."
   ]
  },
  {
   "cell_type": "code",
   "execution_count": 17,
   "metadata": {},
   "outputs": [
    {
     "data": {
      "text/plain": [
       "<AxesSubplot:>"
      ]
     },
     "execution_count": 17,
     "metadata": {},
     "output_type": "execute_result"
    },
    {
     "data": {
      "image/png": "[encoded data removed]",
      "text/plain": [
       "<Figure size 360x360 with 2 Axes>"
      ]
     },
     "metadata": {},
     "output_type": "display_data"
    }
   ],
   "source": [
    "# new correlation with target\n",
    "correlation = data.corrwith(data['fruit_label']).iloc[1:].to_frame()\n",
    "\n",
    "sort_correlation = correlation.sort_values(0, ascending=False)[0]\n",
    "\n",
    "fig, ax = plt.subplots(figsize=(5,5))\n",
    "sns.heatmap(sort_correlation.to_frame(), cmap='coolwarm', annot=True, ax=ax, vmin=-1, vmax=1)"
   ]
  },
  {
   "cell_type": "markdown",
   "metadata": {},
   "source": [
    "## Data Preprocessing"
   ]
  },
  {
   "cell_type": "code",
   "execution_count": 18,
   "metadata": {},
   "outputs": [],
   "source": [
    "# remove outlier\n",
    "data_no_outlier = data.copy()"
   ]
  },
  {
   "cell_type": "code",
   "execution_count": 19,
   "metadata": {},
   "outputs": [
    {
     "data": {
      "text/plain": [
       "28    47.57\n",
       "39    50.32\n",
       "32    50.40\n",
       "29    51.80\n",
       "42    51.84\n",
       "40    53.25\n",
       "30    53.25\n",
       "37    53.29\n",
       "36    53.96\n",
       "35    56.09\n",
       "38    56.16\n",
       "34    59.28\n",
       "33    60.75\n",
       "41    62.32\n",
       "31    62.40\n",
       "27    69.00\n",
       "24    84.60\n",
       "25    84.64\n",
       "26    88.32\n",
       "Name: area, dtype: float64"
      ]
     },
     "execution_count": 19,
     "metadata": {},
     "output_type": "execute_result"
    }
   ],
   "source": [
    "data_no_outlier[data_no_outlier['fruit_name']=='orange']['area'].sort_values()"
   ]
  },
  {
   "cell_type": "code",
   "execution_count": 20,
   "metadata": {},
   "outputs": [],
   "source": [
    "data_no_outlier = data_no_outlier[data_no_outlier['area']<80]"
   ]
  },
  {
   "cell_type": "code",
   "execution_count": 21,
   "metadata": {},
   "outputs": [
    {
     "data": {
      "image/png": "[encoded data removed]",
      "text/plain": [
       "<Figure size 720x720 with 3 Axes>"
      ]
     },
     "metadata": {},
     "output_type": "display_data"
    }
   ],
   "source": [
    "fig, axes = plt.subplots(3,1, figsize=(10,10))\n",
    "\n",
    "sns.boxplot(x='mass', y='fruit_name', data=data_no_outlier, ax=axes[0])\n",
    "sns.boxplot(x='area', y='fruit_name', data=data_no_outlier, ax=axes[1])\n",
    "sns.boxplot(x='color_score', y='fruit_name', data=data_no_outlier, ax=axes[2])\n",
    "\n",
    "plt.tight_layout()"
   ]
  },
  {
   "cell_type": "code",
   "execution_count": 22,
   "metadata": {},
   "outputs": [],
   "source": [
    "X = data_no_outlier[['mass','area','color_score']]\n",
    "\n",
    "y = data_no_outlier['fruit_label']"
   ]
  },
  {
   "cell_type": "code",
   "execution_count": 23,
   "metadata": {},
   "outputs": [],
   "source": [
    "from sklearn.model_selection import train_test_split\n",
    "\n",
    "X_train, X_test, y_train, y_test = train_test_split(X, y, test_size=0.2, stratify=y, random_state=101)"
   ]
  },
  {
   "cell_type": "markdown",
   "metadata": {},
   "source": [
    "- due to the small size of the data, the test size will be set to 20%.\n",
    "- stratify parameter is used due to unbalanced target variable."
   ]
  },
  {
   "cell_type": "markdown",
   "metadata": {},
   "source": [
    "## Model Selection & Evaluation"
   ]
  },
  {
   "cell_type": "code",
   "execution_count": 24,
   "metadata": {},
   "outputs": [],
   "source": [
    "from sklearn.linear_model import LogisticRegression\n",
    "from sklearn.linear_model import SGDClassifier\n",
    "from sklearn.discriminant_analysis import LinearDiscriminantAnalysis\n",
    "from sklearn.tree import DecisionTreeClassifier\n",
    "from sklearn.ensemble import RandomForestClassifier\n",
    "from sklearn.neighbors import KNeighborsClassifier\n",
    "from sklearn.naive_bayes import GaussianNB\n",
    "from sklearn.svm import SVC\n",
    "\n",
    "from sklearn.metrics import classification_report, confusion_matrix, precision_recall_curve, roc_curve, roc_auc_score"
   ]
  },
  {
   "cell_type": "code",
   "execution_count": 25,
   "metadata": {},
   "outputs": [],
   "source": [
    "models = []\n",
    "\n",
    "models.append(('LogReg', LogisticRegression()))\n",
    "models.append(('SGD', SGDClassifier()))\n",
    "models.append(('LDA', LinearDiscriminantAnalysis()))\n",
    "models.append(('DTC', DecisionTreeClassifier(random_state=101)))\n",
    "models.append(('RFC', RandomForestClassifier(random_state=101)))\n",
    "models.append(('KNN', KNeighborsClassifier(n_neighbors=1)))\n",
    "models.append(('NB', GaussianNB()))\n",
    "models.append(('SVM',SVC()))"
   ]
  },
  {
   "cell_type": "code",
   "execution_count": 26,
   "metadata": {},
   "outputs": [],
   "source": [
    "# StratifiedKFold use for classification, KFold use for regression\n",
    "from sklearn.model_selection import StratifiedKFold, cross_val_score, cross_val_predict"
   ]
  },
  {
   "cell_type": "code",
   "execution_count": 27,
   "metadata": {},
   "outputs": [
    {
     "name": "stdout",
     "output_type": "stream",
     "text": [
      "LogReg: 0.546031746031746 (0.11033744252052548)\n",
      "SGD: 0.22857142857142856 (0.1161228010042659)\n",
      "LDA: 0.5904761904761905 (0.10969620662330788)\n",
      "DTC: 0.8190476190476191 (0.06073373482447301)\n",
      "RFC: 0.8222222222222223 (0.13698697784375505)\n",
      "KNN: 0.5238095238095238 (0.1401866804179023)\n",
      "NB: 0.8841269841269841 (0.08834869873063966)\n",
      "SVM: 0.407936507936508 (0.045063712909772666)\n"
     ]
    }
   ],
   "source": [
    "# using k-fold of 3 for cross validation due to small dataset\n",
    "results_acc = []\n",
    "names = []\n",
    "\n",
    "for name, model in models:\n",
    "    skfold = StratifiedKFold(n_splits=3, random_state=101, shuffle=True)\n",
    "    cv_results = cross_val_score(model, X_train, y_train, cv=skfold, scoring='accuracy')\n",
    "\n",
    "    results_acc.append(cv_results)\n",
    "    names.append(name)\n",
    "    print(f'{name}: {cv_results.mean()} ({cv_results.std()})')"
   ]
  },
  {
   "cell_type": "code",
   "execution_count": 28,
   "metadata": {},
   "outputs": [
    {
     "data": {
      "image/png": "[encoded data removed]",
      "text/plain": [
       "<Figure size 864x432 with 1 Axes>"
      ]
     },
     "metadata": {},
     "output_type": "display_data"
    }
   ],
   "source": [
    "plt.figure(figsize=(12,6))\n",
    "plt.boxplot(results_acc, labels=names)\n",
    "plt.title('Algorithm Comparison')\n",
    "plt.ylabel('Accuracy')\n",
    "plt.show()"
   ]
  },
  {
   "cell_type": "markdown",
   "metadata": {},
   "source": [
    "- the top 3 models chosen in terms of accuracy score will be DTC, RFC and NB."
   ]
  },
  {
   "cell_type": "code",
   "execution_count": 29,
   "metadata": {},
   "outputs": [
    {
     "name": "stdout",
     "output_type": "stream",
     "text": [
      "LogReg:\n",
      "[[7 0 8 0]\n",
      " [0 4 0 0]\n",
      " [7 0 4 2]\n",
      " [1 0 2 9]]\n",
      "              precision    recall  f1-score   support\n",
      "\n",
      "           1       0.47      0.47      0.47        15\n",
      "           2       1.00      1.00      1.00         4\n",
      "           3       0.29      0.31      0.30        13\n",
      "           4       0.82      0.75      0.78        12\n",
      "\n",
      "    accuracy                           0.55        44\n",
      "   macro avg       0.64      0.63      0.64        44\n",
      "weighted avg       0.56      0.55      0.55        44\n",
      "\n",
      "SGD:\n",
      "[[ 5  0 10  0]\n",
      " [ 1  0  3  0]\n",
      " [ 4  0  9  0]\n",
      " [ 4  0  8  0]]\n",
      "              precision    recall  f1-score   support\n",
      "\n",
      "           1       0.36      0.33      0.34        15\n",
      "           2       0.00      0.00      0.00         4\n",
      "           3       0.30      0.69      0.42        13\n",
      "           4       0.00      0.00      0.00        12\n",
      "\n",
      "    accuracy                           0.32        44\n",
      "   macro avg       0.16      0.26      0.19        44\n",
      "weighted avg       0.21      0.32      0.24        44\n",
      "\n",
      "LDA:\n",
      "[[9 0 5 1]\n",
      " [0 4 0 0]\n",
      " [7 0 4 2]\n",
      " [0 0 3 9]]\n",
      "              precision    recall  f1-score   support\n",
      "\n",
      "           1       0.56      0.60      0.58        15\n",
      "           2       1.00      1.00      1.00         4\n",
      "           3       0.33      0.31      0.32        13\n",
      "           4       0.75      0.75      0.75        12\n",
      "\n",
      "    accuracy                           0.59        44\n",
      "   macro avg       0.66      0.66      0.66        44\n",
      "weighted avg       0.59      0.59      0.59        44\n",
      "\n",
      "DTC:\n",
      "[[12  0  1  2]\n",
      " [ 0  4  0  0]\n",
      " [ 1  0 11  1]\n",
      " [ 1  0  2  9]]\n",
      "              precision    recall  f1-score   support\n",
      "\n",
      "           1       0.86      0.80      0.83        15\n",
      "           2       1.00      1.00      1.00         4\n",
      "           3       0.79      0.85      0.81        13\n",
      "           4       0.75      0.75      0.75        12\n",
      "\n",
      "    accuracy                           0.82        44\n",
      "   macro avg       0.85      0.85      0.85        44\n",
      "weighted avg       0.82      0.82      0.82        44\n",
      "\n",
      "RFC:\n",
      "[[13  0  1  1]\n",
      " [ 0  4  0  0]\n",
      " [ 1  0 10  2]\n",
      " [ 1  0  2  9]]\n",
      "              precision    recall  f1-score   support\n",
      "\n",
      "           1       0.87      0.87      0.87        15\n",
      "           2       1.00      1.00      1.00         4\n",
      "           3       0.77      0.77      0.77        13\n",
      "           4       0.75      0.75      0.75        12\n",
      "\n",
      "    accuracy                           0.82        44\n",
      "   macro avg       0.85      0.85      0.85        44\n",
      "weighted avg       0.82      0.82      0.82        44\n",
      "\n",
      "KNN:\n",
      "[[10  0  4  1]\n",
      " [ 0  4  0  0]\n",
      " [ 8  0  4  1]\n",
      " [ 2  0  5  5]]\n",
      "              precision    recall  f1-score   support\n",
      "\n",
      "           1       0.50      0.67      0.57        15\n",
      "           2       1.00      1.00      1.00         4\n",
      "           3       0.31      0.31      0.31        13\n",
      "           4       0.71      0.42      0.53        12\n",
      "\n",
      "    accuracy                           0.52        44\n",
      "   macro avg       0.63      0.60      0.60        44\n",
      "weighted avg       0.55      0.52      0.52        44\n",
      "\n",
      "NB:\n",
      "[[15  0  0  0]\n",
      " [ 0  4  0  0]\n",
      " [ 3  0  9  1]\n",
      " [ 0  0  1 11]]\n",
      "              precision    recall  f1-score   support\n",
      "\n",
      "           1       0.83      1.00      0.91        15\n",
      "           2       1.00      1.00      1.00         4\n",
      "           3       0.90      0.69      0.78        13\n",
      "           4       0.92      0.92      0.92        12\n",
      "\n",
      "    accuracy                           0.89        44\n",
      "   macro avg       0.91      0.90      0.90        44\n",
      "weighted avg       0.89      0.89      0.88        44\n",
      "\n",
      "SVM:\n",
      "[[15  0  0  0]\n",
      " [ 0  2  0  2]\n",
      " [13  0  0  0]\n",
      " [11  0  0  1]]\n",
      "              precision    recall  f1-score   support\n",
      "\n",
      "           1       0.38      1.00      0.56        15\n",
      "           2       1.00      0.50      0.67         4\n",
      "           3       0.00      0.00      0.00        13\n",
      "           4       0.33      0.08      0.13        12\n",
      "\n",
      "    accuracy                           0.41        44\n",
      "   macro avg       0.43      0.40      0.34        44\n",
      "weighted avg       0.31      0.41      0.29        44\n",
      "\n"
     ]
    }
   ],
   "source": [
    "# using k-fold of 3 for cross validation due to small dataset\n",
    "results_pred = []\n",
    "names = []\n",
    "\n",
    "for name, model in models:\n",
    "    skfold = StratifiedKFold(n_splits=3, random_state=101, shuffle=True)\n",
    "    pred_results = cross_val_predict(model, X_train, y_train, cv=skfold)\n",
    "\n",
    "    results_pred.append(pred_results)\n",
    "    names.append(name)\n",
    "    \n",
    "    print(f'{name}:')\n",
    "    print(confusion_matrix(y_train, pred_results))\n",
    "    print(classification_report(y_train, pred_results))"
   ]
  },
  {
   "cell_type": "markdown",
   "metadata": {},
   "source": [
    "- the top 3 models in based from the confusion matrix and precision and recall score are DTC, RFC and NB.\n",
    "- based on these results, RFC, NB and KNN will be chosen for further evaluation by tuning their parameters."
   ]
  },
  {
   "cell_type": "markdown",
   "metadata": {},
   "source": [
    "## Parameter Tuning"
   ]
  },
  {
   "cell_type": "markdown",
   "metadata": {},
   "source": [
    "### RFC"
   ]
  },
  {
   "cell_type": "code",
   "execution_count": 30,
   "metadata": {},
   "outputs": [],
   "source": [
    "from sklearn.model_selection import GridSearchCV"
   ]
  },
  {
   "cell_type": "code",
   "execution_count": 31,
   "metadata": {},
   "outputs": [
    {
     "data": {
      "text/plain": [
       "GridSearchCV(cv=StratifiedKFold(n_splits=3, random_state=101, shuffle=True),\n",
       "             estimator=RandomForestClassifier(random_state=101),\n",
       "             param_grid={'max_depth': [1, 10, 100], 'max_features': [1, 2],\n",
       "                         'min_samples_leaf': [0.1, 1, 10],\n",
       "                         'min_samples_split': [0.1, 1, 10],\n",
       "                         'n_estimators': [1, 10, 100]},\n",
       "             refit='f1_macro', return_train_score=True,\n",
       "             scoring=['accuracy', 'f1_macro'])"
      ]
     },
     "execution_count": 31,
     "metadata": {},
     "output_type": "execute_result"
    }
   ],
   "source": [
    "param_grid = {'n_estimators': [1, 10, 100], \n",
    "              'max_depth': [1, 10, 100], \n",
    "              'min_samples_split': [0.1, 1, 10], \n",
    "              'min_samples_leaf': [0.1, 1, 10], \n",
    "              'max_features': [n for n in range(1,3)]}\n",
    "\n",
    "skfold = StratifiedKFold(n_splits=3, random_state=101, shuffle=True)\n",
    "\n",
    "grid_search = GridSearchCV(RandomForestClassifier(random_state=101), param_grid=param_grid, cv=skfold, \n",
    "                           scoring=['accuracy', 'f1_macro'], refit='f1_macro',\n",
    "                           return_train_score=True)\n",
    "\n",
    "grid_search.fit(X_train, y_train)"
   ]
  },
  {
   "cell_type": "code",
   "execution_count": 32,
   "metadata": {},
   "outputs": [
    {
     "data": {
      "text/plain": [
       "{'max_depth': 10,\n",
       " 'max_features': 1,\n",
       " 'min_samples_leaf': 1,\n",
       " 'min_samples_split': 0.1,\n",
       " 'n_estimators': 1}"
      ]
     },
     "execution_count": 32,
     "metadata": {},
     "output_type": "execute_result"
    }
   ],
   "source": [
    "grid_search.best_params_"
   ]
  },
  {
   "cell_type": "code",
   "execution_count": 33,
   "metadata": {},
   "outputs": [
    {
     "data": {
      "text/plain": [
       "0.8735704110704111"
      ]
     },
     "execution_count": 33,
     "metadata": {},
     "output_type": "execute_result"
    }
   ],
   "source": [
    "grid_search.best_score_"
   ]
  },
  {
   "cell_type": "markdown",
   "metadata": {},
   "source": [
    "- the parameter **min_samples_split** chosen is the lowest value, this means there might be lower value that is better."
   ]
  },
  {
   "cell_type": "code",
   "execution_count": 34,
   "metadata": {},
   "outputs": [
    {
     "data": {
      "text/plain": [
       "GridSearchCV(cv=StratifiedKFold(n_splits=3, random_state=101, shuffle=True),\n",
       "             estimator=RandomForestClassifier(random_state=101),\n",
       "             param_grid={'max_depth': [1, 10, 100], 'max_features': [1, 2],\n",
       "                         'min_samples_leaf': [0.001, 0.01, 0.1],\n",
       "                         'min_samples_split': [0.1, 1, 10],\n",
       "                         'n_estimators': [1, 10, 100]},\n",
       "             refit='f1_macro', return_train_score=True,\n",
       "             scoring=['accuracy', 'f1_macro'])"
      ]
     },
     "execution_count": 34,
     "metadata": {},
     "output_type": "execute_result"
    }
   ],
   "source": [
    "param_grid = {'n_estimators': [1, 10, 100], \n",
    "              'max_depth': [1, 10, 100], \n",
    "              'min_samples_split': [0.1, 1, 10], \n",
    "              'min_samples_leaf': [0.001, 0.01, 0.1], \n",
    "              'max_features': [n for n in range(1,3)]}\n",
    "\n",
    "skfold = StratifiedKFold(n_splits=3, random_state=101, shuffle=True)\n",
    "\n",
    "grid_search = GridSearchCV(RandomForestClassifier(random_state=101), param_grid=param_grid, cv=skfold, \n",
    "                           scoring=['accuracy', 'f1_macro'], refit='f1_macro',\n",
    "                           return_train_score=True)\n",
    "\n",
    "grid_search.fit(X_train, y_train)"
   ]
  },
  {
   "cell_type": "code",
   "execution_count": 35,
   "metadata": {},
   "outputs": [
    {
     "data": {
      "text/plain": [
       "{'max_depth': 10,\n",
       " 'max_features': 1,\n",
       " 'min_samples_leaf': 0.001,\n",
       " 'min_samples_split': 0.1,\n",
       " 'n_estimators': 1}"
      ]
     },
     "execution_count": 35,
     "metadata": {},
     "output_type": "execute_result"
    }
   ],
   "source": [
    "grid_search.best_params_"
   ]
  },
  {
   "cell_type": "code",
   "execution_count": 36,
   "metadata": {},
   "outputs": [
    {
     "data": {
      "text/plain": [
       "0.8735704110704111"
      ]
     },
     "execution_count": 36,
     "metadata": {},
     "output_type": "execute_result"
    }
   ],
   "source": [
    "grid_search.best_score_"
   ]
  },
  {
   "cell_type": "markdown",
   "metadata": {},
   "source": [
    "- the parameter **min_samples_split** still choose the lowest value but there's not much difference made in terms of the f1 score, so we will leave it at that."
   ]
  },
  {
   "cell_type": "markdown",
   "metadata": {},
   "source": [
    "### KNN"
   ]
  },
  {
   "cell_type": "code",
   "execution_count": 37,
   "metadata": {},
   "outputs": [],
   "source": [
    "# find k with cv\n",
    "error_rate = []\n",
    "\n",
    "for n in range(1,30):\n",
    "    knn = KNeighborsClassifier(n_neighbors=n)\n",
    "    pred_n = cross_val_predict(knn, X_train, y_train, cv=skfold)\n",
    "    error_rate.append(np.mean(pred_n != y_train))"
   ]
  },
  {
   "cell_type": "code",
   "execution_count": 38,
   "metadata": {},
   "outputs": [
    {
     "data": {
      "text/plain": [
       "Text(0, 0.5, 'Error Rate')"
      ]
     },
     "execution_count": 38,
     "metadata": {},
     "output_type": "execute_result"
    },
    {
     "data": {
      "image/png": "[encoded data removed]",
      "text/plain": [
       "<Figure size 720x360 with 1 Axes>"
      ]
     },
     "metadata": {},
     "output_type": "display_data"
    }
   ],
   "source": [
    "plt.figure(figsize=(10,5))\n",
    "\n",
    "plt.plot(range(1,30),\n",
    "         error_rate,color='blue', \n",
    "         linestyle='dashed', \n",
    "         marker='o',\n",
    "         markerfacecolor='red', \n",
    "         markersize=10)\n",
    "\n",
    "plt.title('Error Rate vs. K Value')\n",
    "plt.xlabel('K')\n",
    "plt.ylabel('Error Rate')"
   ]
  },
  {
   "cell_type": "markdown",
   "metadata": {},
   "source": [
    "- the least error looks like it's when k = 5."
   ]
  },
  {
   "cell_type": "code",
   "execution_count": 39,
   "metadata": {},
   "outputs": [
    {
     "data": {
      "text/plain": [
       "GridSearchCV(cv=StratifiedKFold(n_splits=3, random_state=101, shuffle=True),\n",
       "             estimator=KNeighborsClassifier(),\n",
       "             param_grid={'n_neighbors': [1, 2, 3, 4, 5, 6, 7, 8, 9, 10]},\n",
       "             refit='f1_macro', return_train_score=True,\n",
       "             scoring=['accuracy', 'f1_macro'])"
      ]
     },
     "execution_count": 39,
     "metadata": {},
     "output_type": "execute_result"
    }
   ],
   "source": [
    "param_grid = {'n_neighbors':[n for n in range(1,11)]}\n",
    "\n",
    "grid_search = GridSearchCV(KNeighborsClassifier(), param_grid=param_grid, cv=skfold, \n",
    "                           scoring=['accuracy', 'f1_macro'], refit='f1_macro',\n",
    "                           return_train_score=True)\n",
    "\n",
    "grid_search.fit(X_train, y_train)"
   ]
  },
  {
   "cell_type": "code",
   "execution_count": 40,
   "metadata": {},
   "outputs": [
    {
     "data": {
      "text/plain": [
       "{'n_neighbors': 4}"
      ]
     },
     "execution_count": 40,
     "metadata": {},
     "output_type": "execute_result"
    }
   ],
   "source": [
    "grid_search.best_params_"
   ]
  },
  {
   "cell_type": "code",
   "execution_count": 41,
   "metadata": {},
   "outputs": [
    {
     "data": {
      "text/plain": [
       "0.6210571835571835"
      ]
     },
     "execution_count": 41,
     "metadata": {},
     "output_type": "execute_result"
    }
   ],
   "source": [
    "grid_search.best_score_"
   ]
  },
  {
   "cell_type": "code",
   "execution_count": 42,
   "metadata": {},
   "outputs": [
    {
     "data": {
      "text/plain": [
       "Index(['mean_fit_time', 'std_fit_time', 'mean_score_time', 'std_score_time',\n",
       "       'param_n_neighbors', 'params', 'split0_test_accuracy',\n",
       "       'split1_test_accuracy', 'split2_test_accuracy', 'mean_test_accuracy',\n",
       "       'std_test_accuracy', 'rank_test_accuracy', 'split0_train_accuracy',\n",
       "       'split1_train_accuracy', 'split2_train_accuracy', 'mean_train_accuracy',\n",
       "       'std_train_accuracy', 'split0_test_f1_macro', 'split1_test_f1_macro',\n",
       "       'split2_test_f1_macro', 'mean_test_f1_macro', 'std_test_f1_macro',\n",
       "       'rank_test_f1_macro', 'split0_train_f1_macro', 'split1_train_f1_macro',\n",
       "       'split2_train_f1_macro', 'mean_train_f1_macro', 'std_train_f1_macro'],\n",
       "      dtype='object')"
      ]
     },
     "execution_count": 42,
     "metadata": {},
     "output_type": "execute_result"
    }
   ],
   "source": [
    "cv_results = pd.DataFrame(grid_search.cv_results_)\n",
    "\n",
    "cv_results.columns"
   ]
  },
  {
   "cell_type": "code",
   "execution_count": 43,
   "metadata": {},
   "outputs": [
    {
     "data": {
      "text/html": [
       "<div>\n",
       "<style scoped>\n",
       "    .dataframe tbody tr th:only-of-type {\n",
       "        vertical-align: middle;\n",
       "    }\n",
       "\n",
       "    .dataframe tbody tr th {\n",
       "        vertical-align: top;\n",
       "    }\n",
       "\n",
       "    .dataframe thead th {\n",
       "        text-align: right;\n",
       "    }\n",
       "</style>\n",
       "<table border=\"1\" class=\"dataframe\">\n",
       "  <thead>\n",
       "    <tr style=\"text-align: right;\">\n",
       "      <th></th>\n",
       "      <th>0</th>\n",
       "      <th>1</th>\n",
       "      <th>2</th>\n",
       "      <th>3</th>\n",
       "      <th>4</th>\n",
       "      <th>5</th>\n",
       "      <th>6</th>\n",
       "      <th>7</th>\n",
       "      <th>8</th>\n",
       "      <th>9</th>\n",
       "    </tr>\n",
       "  </thead>\n",
       "  <tbody>\n",
       "    <tr>\n",
       "      <th>param_n_neighbors</th>\n",
       "      <td>1</td>\n",
       "      <td>2</td>\n",
       "      <td>3</td>\n",
       "      <td>4</td>\n",
       "      <td>5</td>\n",
       "      <td>6</td>\n",
       "      <td>7</td>\n",
       "      <td>8</td>\n",
       "      <td>9</td>\n",
       "      <td>10</td>\n",
       "    </tr>\n",
       "    <tr>\n",
       "      <th>mean_train_accuracy</th>\n",
       "      <td>1</td>\n",
       "      <td>0.784291</td>\n",
       "      <td>0.795402</td>\n",
       "      <td>0.76092</td>\n",
       "      <td>0.69272</td>\n",
       "      <td>0.681992</td>\n",
       "      <td>0.637165</td>\n",
       "      <td>0.591188</td>\n",
       "      <td>0.556705</td>\n",
       "      <td>0.522605</td>\n",
       "    </tr>\n",
       "    <tr>\n",
       "      <th>mean_test_accuracy</th>\n",
       "      <td>0.52381</td>\n",
       "      <td>0.544444</td>\n",
       "      <td>0.522222</td>\n",
       "      <td>0.546032</td>\n",
       "      <td>0.566667</td>\n",
       "      <td>0.5</td>\n",
       "      <td>0.453968</td>\n",
       "      <td>0.47619</td>\n",
       "      <td>0.387302</td>\n",
       "      <td>0.433333</td>\n",
       "    </tr>\n",
       "    <tr>\n",
       "      <th>mean_train_f1_macro</th>\n",
       "      <td>1</td>\n",
       "      <td>0.808266</td>\n",
       "      <td>0.826762</td>\n",
       "      <td>0.790771</td>\n",
       "      <td>0.673252</td>\n",
       "      <td>0.653352</td>\n",
       "      <td>0.476826</td>\n",
       "      <td>0.451051</td>\n",
       "      <td>0.408786</td>\n",
       "      <td>0.366101</td>\n",
       "    </tr>\n",
       "    <tr>\n",
       "      <th>mean_test_f1_macro</th>\n",
       "      <td>0.60597</td>\n",
       "      <td>0.616597</td>\n",
       "      <td>0.60335</td>\n",
       "      <td>0.621057</td>\n",
       "      <td>0.588724</td>\n",
       "      <td>0.515898</td>\n",
       "      <td>0.334351</td>\n",
       "      <td>0.35058</td>\n",
       "      <td>0.286996</td>\n",
       "      <td>0.288492</td>\n",
       "    </tr>\n",
       "  </tbody>\n",
       "</table>\n",
       "</div>"
      ],
      "text/plain": [
       "                           0         1         2         3         4  \\\n",
       "param_n_neighbors          1         2         3         4         5   \n",
       "mean_train_accuracy        1  0.784291  0.795402   0.76092   0.69272   \n",
       "mean_test_accuracy   0.52381  0.544444  0.522222  0.546032  0.566667   \n",
       "mean_train_f1_macro        1  0.808266  0.826762  0.790771  0.673252   \n",
       "mean_test_f1_macro   0.60597  0.616597   0.60335  0.621057  0.588724   \n",
       "\n",
       "                            5         6         7         8         9  \n",
       "param_n_neighbors           6         7         8         9        10  \n",
       "mean_train_accuracy  0.681992  0.637165  0.591188  0.556705  0.522605  \n",
       "mean_test_accuracy        0.5  0.453968   0.47619  0.387302  0.433333  \n",
       "mean_train_f1_macro  0.653352  0.476826  0.451051  0.408786  0.366101  \n",
       "mean_test_f1_macro   0.515898  0.334351   0.35058  0.286996  0.288492  "
      ]
     },
     "metadata": {},
     "output_type": "display_data"
    }
   ],
   "source": [
    "metrics_mean = ['param_n_neighbors','mean_train_accuracy','mean_test_accuracy','mean_train_f1_macro','mean_test_f1_macro']\n",
    "\n",
    "cv_results_mean = cv_results[metrics_mean]\n",
    "\n",
    "display(cv_results_mean.T)"
   ]
  },
  {
   "cell_type": "markdown",
   "metadata": {},
   "source": [
    "- the best k is 4, but the f1 score and accuracy score are still not better."
   ]
  },
  {
   "cell_type": "markdown",
   "metadata": {},
   "source": [
    "### RFC vs NB"
   ]
  },
  {
   "cell_type": "code",
   "execution_count": 44,
   "metadata": {},
   "outputs": [],
   "source": [
    "chosen_models = []\n",
    "\n",
    "chosen_models.append(('RFC', RandomForestClassifier(max_depth=10, max_features=1, min_samples_leaf=0.001,\n",
    "                                                    min_samples_split=0.1, n_estimators=1,\n",
    "                                                    random_state=101)))\n",
    "chosen_models.append(('NB', GaussianNB()))"
   ]
  },
  {
   "cell_type": "code",
   "execution_count": 45,
   "metadata": {},
   "outputs": [
    {
     "name": "stdout",
     "output_type": "stream",
     "text": [
      "RFC: 0.8444444444444444 (0.13698697784375505)\n",
      "NB: 0.8841269841269841 (0.08834869873063966)\n"
     ]
    },
    {
     "data": {
      "image/png": "[encoded data removed]",
      "text/plain": [
       "<Figure size 864x432 with 1 Axes>"
      ]
     },
     "metadata": {},
     "output_type": "display_data"
    }
   ],
   "source": [
    "results_acc = []\n",
    "names = []\n",
    "\n",
    "for name, model in chosen_models:\n",
    "    skfold = StratifiedKFold(n_splits=3, random_state=101, shuffle=True)\n",
    "    cv_results = cross_val_score(model, X_train, y_train, cv=skfold, scoring='accuracy')\n",
    "\n",
    "    results_acc.append(cv_results)\n",
    "    names.append(name)\n",
    "    print(f'{name}: {cv_results.mean()} ({cv_results.std()})')\n",
    "\n",
    "    \n",
    "plt.figure(figsize=(12,6))\n",
    "plt.boxplot(results_acc, labels=names)\n",
    "plt.title('Algorithm Comparison')\n",
    "plt.ylabel('Accuracy')\n",
    "plt.show()"
   ]
  },
  {
   "cell_type": "code",
   "execution_count": 46,
   "metadata": {},
   "outputs": [
    {
     "name": "stdout",
     "output_type": "stream",
     "text": [
      "RFC:\n",
      "[[12  0  2  1]\n",
      " [ 0  4  0  0]\n",
      " [ 0  0 11  2]\n",
      " [ 0  0  2 10]]\n",
      "              precision    recall  f1-score   support\n",
      "\n",
      "           1       1.00      0.80      0.89        15\n",
      "           2       1.00      1.00      1.00         4\n",
      "           3       0.73      0.85      0.79        13\n",
      "           4       0.77      0.83      0.80        12\n",
      "\n",
      "    accuracy                           0.84        44\n",
      "   macro avg       0.88      0.87      0.87        44\n",
      "weighted avg       0.86      0.84      0.84        44\n",
      "\n",
      "NB:\n",
      "[[15  0  0  0]\n",
      " [ 0  4  0  0]\n",
      " [ 3  0  9  1]\n",
      " [ 0  0  1 11]]\n",
      "              precision    recall  f1-score   support\n",
      "\n",
      "           1       0.83      1.00      0.91        15\n",
      "           2       1.00      1.00      1.00         4\n",
      "           3       0.90      0.69      0.78        13\n",
      "           4       0.92      0.92      0.92        12\n",
      "\n",
      "    accuracy                           0.89        44\n",
      "   macro avg       0.91      0.90      0.90        44\n",
      "weighted avg       0.89      0.89      0.88        44\n",
      "\n"
     ]
    }
   ],
   "source": [
    "results_pred = []\n",
    "names = []\n",
    "\n",
    "for name, model in chosen_models:\n",
    "    skfold = StratifiedKFold(n_splits=3, random_state=101, shuffle=True)\n",
    "    pred_results = cross_val_predict(model, X_train, y_train, cv=skfold)\n",
    "\n",
    "    results_pred.append(pred_results)\n",
    "    names.append(name)\n",
    "    \n",
    "    print(f'{name}:')\n",
    "    print(confusion_matrix(y_train, pred_results))\n",
    "    print(classification_report(y_train, pred_results))"
   ]
  },
  {
   "cell_type": "markdown",
   "metadata": {},
   "source": [
    "- if precision is priorities RFC is a better choice, if recall is priorities NB is a better choice but overall NB performs the best."
   ]
  },
  {
   "cell_type": "markdown",
   "metadata": {},
   "source": [
    "## Evaluate on Test Set"
   ]
  },
  {
   "cell_type": "code",
   "execution_count": 48,
   "metadata": {},
   "outputs": [
    {
     "name": "stdout",
     "output_type": "stream",
     "text": [
      "Training score: 0.9318181818181818\n",
      "Test score: 0.9166666666666666\n"
     ]
    }
   ],
   "source": [
    "nb = GaussianNB()\n",
    "\n",
    "nb.fit(X_train, y_train)\n",
    "\n",
    "pred = nb.predict(X_test)\n",
    "\n",
    "print(f'Training score: {nb.score(X_train, y_train)}')\n",
    "print(f'Test score: {nb.score(X_test, y_test)}')"
   ]
  },
  {
   "cell_type": "code",
   "execution_count": 51,
   "metadata": {},
   "outputs": [
    {
     "name": "stdout",
     "output_type": "stream",
     "text": [
      "[[4 0 0 0]\n",
      " [0 1 0 0]\n",
      " [1 0 2 0]\n",
      " [0 0 0 4]]\n",
      "              precision    recall  f1-score   support\n",
      "\n",
      "           1       0.80      1.00      0.89         4\n",
      "           2       1.00      1.00      1.00         1\n",
      "           3       1.00      0.67      0.80         3\n",
      "           4       1.00      1.00      1.00         4\n",
      "\n",
      "    accuracy                           0.92        12\n",
      "   macro avg       0.95      0.92      0.92        12\n",
      "weighted avg       0.93      0.92      0.91        12\n",
      "\n"
     ]
    }
   ],
   "source": [
    "con_mat = confusion_matrix(y_test, pred)\n",
    "\n",
    "print(con_mat)\n",
    "print(classification_report(y_test,pred))"
   ]
  },
  {
   "cell_type": "code",
   "execution_count": 53,
   "metadata": {},
   "outputs": [
    {
     "data": {
      "image/png": "[encoded data removed]",
      "text/plain": [
       "<Figure size 288x288 with 1 Axes>"
      ]
     },
     "metadata": {},
     "output_type": "display_data"
    }
   ],
   "source": [
    "plt.matshow(con_mat, cmap=plt.cm.gray)\n",
    "plt.show()"
   ]
  },
  {
   "cell_type": "markdown",
   "metadata": {},
   "source": [
    "- the model is able to predict well on apple(0), mandarin(1) and lemon(2).\n",
    "- the model also misclassified one as an apple."
   ]
  },
  {
   "cell_type": "code",
   "execution_count": 57,
   "metadata": {},
   "outputs": [
    {
     "data": {
      "image/png": "[encoded data removed]",
      "text/plain": [
       "<Figure size 288x288 with 1 Axes>"
      ]
     },
     "metadata": {},
     "output_type": "display_data"
    }
   ],
   "source": [
    "row_sums = con_mat.sum(axis=1, keepdims=True)\n",
    "norm_con_mat = con_mat / row_sums\n",
    "\n",
    "np.fill_diagonal(norm_con_mat, 0)\n",
    "plt.matshow(norm_con_mat, cmap=plt.cm.gray)\n",
    "\n",
    "plt.title('Misclassified Areas')\n",
    "plt.show()"
   ]
  },
  {
   "cell_type": "markdown",
   "metadata": {},
   "source": [
    "- in this, most fruit are misclassified as an apple."
   ]
  }
 ],
 "metadata": {
  "kernelspec": {
   "display_name": "Python 3",
   "language": "python",
   "name": "python3"
  },
  "language_info": {
   "codemirror_mode": {
    "name": "ipython",
    "version": 3
   },
   "file_extension": ".py",
   "mimetype": "text/x-python",
   "name": "python",
   "nbconvert_exporter": "python",
   "pygments_lexer": "ipython3",
   "version": "3.7.0"
  }
 },
 "nbformat": 4,
 "nbformat_minor": 2
}
