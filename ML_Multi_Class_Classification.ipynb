{
 "cells": [
  {
   "cell_type": "code",
   "execution_count": 1,
   "metadata": {
    "colab": {
     "base_uri": "https://localhost:8080/",
     "height": 74
    },
    "colab_type": "code",
    "id": "39F3Moa3wCZ2",
    "outputId": "45f3af73-34f0-46f3-f45c-870d4de521c4"
   },
   "outputs": [],
   "source": [
    "import numpy as np\n",
    "import pandas as pd\n",
    "import seaborn as sns\n",
    "import matplotlib.pyplot as plt\n",
    "\n",
    "%matplotlib inline"
   ]
  },
  {
   "cell_type": "code",
   "execution_count": 2,
   "metadata": {
    "colab": {},
    "colab_type": "code",
    "id": "FShHwmdDwdMK"
   },
   "outputs": [],
   "source": [
    "data = pd.read_table('https://raw.githubusercontent.com/susanli2016/Machine-Learning-with-Python/master/fruit_data_with_colors.txt')"
   ]
  },
  {
   "cell_type": "code",
   "execution_count": 3,
   "metadata": {
    "colab": {
     "base_uri": "https://localhost:8080/",
     "height": 206
    },
    "colab_type": "code",
    "id": "bqVVlPPnwqhR",
    "outputId": "32d4b11c-92ac-438b-e4d1-4075e443926d"
   },
   "outputs": [
    {
     "data": {
      "text/html": [
       "<div>\n",
       "<style scoped>\n",
       "    .dataframe tbody tr th:only-of-type {\n",
       "        vertical-align: middle;\n",
       "    }\n",
       "\n",
       "    .dataframe tbody tr th {\n",
       "        vertical-align: top;\n",
       "    }\n",
       "\n",
       "    .dataframe thead th {\n",
       "        text-align: right;\n",
       "    }\n",
       "</style>\n",
       "<table border=\"1\" class=\"dataframe\">\n",
       "  <thead>\n",
       "    <tr style=\"text-align: right;\">\n",
       "      <th></th>\n",
       "      <th>fruit_label</th>\n",
       "      <th>fruit_name</th>\n",
       "      <th>fruit_subtype</th>\n",
       "      <th>mass</th>\n",
       "      <th>width</th>\n",
       "      <th>height</th>\n",
       "      <th>color_score</th>\n",
       "    </tr>\n",
       "  </thead>\n",
       "  <tbody>\n",
       "    <tr>\n",
       "      <th>0</th>\n",
       "      <td>1</td>\n",
       "      <td>apple</td>\n",
       "      <td>granny_smith</td>\n",
       "      <td>192</td>\n",
       "      <td>8.4</td>\n",
       "      <td>7.3</td>\n",
       "      <td>0.55</td>\n",
       "    </tr>\n",
       "    <tr>\n",
       "      <th>1</th>\n",
       "      <td>1</td>\n",
       "      <td>apple</td>\n",
       "      <td>granny_smith</td>\n",
       "      <td>180</td>\n",
       "      <td>8.0</td>\n",
       "      <td>6.8</td>\n",
       "      <td>0.59</td>\n",
       "    </tr>\n",
       "    <tr>\n",
       "      <th>2</th>\n",
       "      <td>1</td>\n",
       "      <td>apple</td>\n",
       "      <td>granny_smith</td>\n",
       "      <td>176</td>\n",
       "      <td>7.4</td>\n",
       "      <td>7.2</td>\n",
       "      <td>0.60</td>\n",
       "    </tr>\n",
       "    <tr>\n",
       "      <th>3</th>\n",
       "      <td>2</td>\n",
       "      <td>mandarin</td>\n",
       "      <td>mandarin</td>\n",
       "      <td>86</td>\n",
       "      <td>6.2</td>\n",
       "      <td>4.7</td>\n",
       "      <td>0.80</td>\n",
       "    </tr>\n",
       "    <tr>\n",
       "      <th>4</th>\n",
       "      <td>2</td>\n",
       "      <td>mandarin</td>\n",
       "      <td>mandarin</td>\n",
       "      <td>84</td>\n",
       "      <td>6.0</td>\n",
       "      <td>4.6</td>\n",
       "      <td>0.79</td>\n",
       "    </tr>\n",
       "  </tbody>\n",
       "</table>\n",
       "</div>"
      ],
      "text/plain": [
       "   fruit_label fruit_name fruit_subtype  mass  width  height  color_score\n",
       "0            1      apple  granny_smith   192    8.4     7.3         0.55\n",
       "1            1      apple  granny_smith   180    8.0     6.8         0.59\n",
       "2            1      apple  granny_smith   176    7.4     7.2         0.60\n",
       "3            2   mandarin      mandarin    86    6.2     4.7         0.80\n",
       "4            2   mandarin      mandarin    84    6.0     4.6         0.79"
      ]
     },
     "execution_count": 3,
     "metadata": {},
     "output_type": "execute_result"
    }
   ],
   "source": [
    "data.head()"
   ]
  },
  {
   "cell_type": "code",
   "execution_count": 4,
   "metadata": {
    "colab": {
     "base_uri": "https://localhost:8080/",
     "height": 274
    },
    "colab_type": "code",
    "id": "q7nzMFuYwruD",
    "outputId": "c061c84c-3df0-4cd9-d600-23d0cc8c2e7c"
   },
   "outputs": [
    {
     "name": "stdout",
     "output_type": "stream",
     "text": [
      "<class 'pandas.core.frame.DataFrame'>\n",
      "RangeIndex: 59 entries, 0 to 58\n",
      "Data columns (total 7 columns):\n",
      "fruit_label      59 non-null int64\n",
      "fruit_name       59 non-null object\n",
      "fruit_subtype    59 non-null object\n",
      "mass             59 non-null int64\n",
      "width            59 non-null float64\n",
      "height           59 non-null float64\n",
      "color_score      59 non-null float64\n",
      "dtypes: float64(3), int64(2), object(2)\n",
      "memory usage: 3.3+ KB\n"
     ]
    }
   ],
   "source": [
    "data.info()"
   ]
  },
  {
   "cell_type": "code",
   "execution_count": 5,
   "metadata": {
    "colab": {
     "base_uri": "https://localhost:8080/",
     "height": 300
    },
    "colab_type": "code",
    "id": "7pIzGP1Mwtm4",
    "outputId": "ce4fa15f-3281-4e45-8aac-2354cdb4290d"
   },
   "outputs": [
    {
     "data": {
      "text/html": [
       "<div>\n",
       "<style scoped>\n",
       "    .dataframe tbody tr th:only-of-type {\n",
       "        vertical-align: middle;\n",
       "    }\n",
       "\n",
       "    .dataframe tbody tr th {\n",
       "        vertical-align: top;\n",
       "    }\n",
       "\n",
       "    .dataframe thead th {\n",
       "        text-align: right;\n",
       "    }\n",
       "</style>\n",
       "<table border=\"1\" class=\"dataframe\">\n",
       "  <thead>\n",
       "    <tr style=\"text-align: right;\">\n",
       "      <th></th>\n",
       "      <th>fruit_label</th>\n",
       "      <th>mass</th>\n",
       "      <th>width</th>\n",
       "      <th>height</th>\n",
       "      <th>color_score</th>\n",
       "    </tr>\n",
       "  </thead>\n",
       "  <tbody>\n",
       "    <tr>\n",
       "      <th>count</th>\n",
       "      <td>59.000000</td>\n",
       "      <td>59.000000</td>\n",
       "      <td>59.000000</td>\n",
       "      <td>59.000000</td>\n",
       "      <td>59.000000</td>\n",
       "    </tr>\n",
       "    <tr>\n",
       "      <th>mean</th>\n",
       "      <td>2.542373</td>\n",
       "      <td>163.118644</td>\n",
       "      <td>7.105085</td>\n",
       "      <td>7.693220</td>\n",
       "      <td>0.762881</td>\n",
       "    </tr>\n",
       "    <tr>\n",
       "      <th>std</th>\n",
       "      <td>1.208048</td>\n",
       "      <td>55.018832</td>\n",
       "      <td>0.816938</td>\n",
       "      <td>1.361017</td>\n",
       "      <td>0.076857</td>\n",
       "    </tr>\n",
       "    <tr>\n",
       "      <th>min</th>\n",
       "      <td>1.000000</td>\n",
       "      <td>76.000000</td>\n",
       "      <td>5.800000</td>\n",
       "      <td>4.000000</td>\n",
       "      <td>0.550000</td>\n",
       "    </tr>\n",
       "    <tr>\n",
       "      <th>25%</th>\n",
       "      <td>1.000000</td>\n",
       "      <td>140.000000</td>\n",
       "      <td>6.600000</td>\n",
       "      <td>7.200000</td>\n",
       "      <td>0.720000</td>\n",
       "    </tr>\n",
       "    <tr>\n",
       "      <th>50%</th>\n",
       "      <td>3.000000</td>\n",
       "      <td>158.000000</td>\n",
       "      <td>7.200000</td>\n",
       "      <td>7.600000</td>\n",
       "      <td>0.750000</td>\n",
       "    </tr>\n",
       "    <tr>\n",
       "      <th>75%</th>\n",
       "      <td>4.000000</td>\n",
       "      <td>177.000000</td>\n",
       "      <td>7.500000</td>\n",
       "      <td>8.200000</td>\n",
       "      <td>0.810000</td>\n",
       "    </tr>\n",
       "    <tr>\n",
       "      <th>max</th>\n",
       "      <td>4.000000</td>\n",
       "      <td>362.000000</td>\n",
       "      <td>9.600000</td>\n",
       "      <td>10.500000</td>\n",
       "      <td>0.930000</td>\n",
       "    </tr>\n",
       "  </tbody>\n",
       "</table>\n",
       "</div>"
      ],
      "text/plain": [
       "       fruit_label        mass      width     height  color_score\n",
       "count    59.000000   59.000000  59.000000  59.000000    59.000000\n",
       "mean      2.542373  163.118644   7.105085   7.693220     0.762881\n",
       "std       1.208048   55.018832   0.816938   1.361017     0.076857\n",
       "min       1.000000   76.000000   5.800000   4.000000     0.550000\n",
       "25%       1.000000  140.000000   6.600000   7.200000     0.720000\n",
       "50%       3.000000  158.000000   7.200000   7.600000     0.750000\n",
       "75%       4.000000  177.000000   7.500000   8.200000     0.810000\n",
       "max       4.000000  362.000000   9.600000  10.500000     0.930000"
      ]
     },
     "execution_count": 5,
     "metadata": {},
     "output_type": "execute_result"
    }
   ],
   "source": [
    "data.describe()"
   ]
  },
  {
   "cell_type": "markdown",
   "metadata": {
    "colab_type": "text",
    "id": "gfqbNjwEw1I7"
   },
   "source": [
    "# 1. EDA"
   ]
  },
  {
   "cell_type": "code",
   "execution_count": 6,
   "metadata": {
    "colab": {
     "base_uri": "https://localhost:8080/",
     "height": 35
    },
    "colab_type": "code",
    "id": "KRJiqvxYMpIH",
    "outputId": "a900fefe-9fda-471b-cb90-9fa41e2f05fc"
   },
   "outputs": [
    {
     "data": {
      "text/plain": [
       "array(['apple', 'mandarin', 'orange', 'lemon'], dtype=object)"
      ]
     },
     "execution_count": 6,
     "metadata": {},
     "output_type": "execute_result"
    }
   ],
   "source": [
    "data['fruit_name'].unique()"
   ]
  },
  {
   "cell_type": "code",
   "execution_count": 7,
   "metadata": {
    "colab": {
     "base_uri": "https://localhost:8080/",
     "height": 298
    },
    "colab_type": "code",
    "id": "UfwWMbNZN3YO",
    "outputId": "7ef4ea27-6648-4fdf-dcce-9ec1493d5052"
   },
   "outputs": [
    {
     "data": {
      "text/plain": [
       "<matplotlib.axes._subplots.AxesSubplot at 0x276e76c6860>"
      ]
     },
     "execution_count": 7,
     "metadata": {},
     "output_type": "execute_result"
    },
    {
     "data": {
      "image/png": "[encoded data removed]",
      "text/plain": [
       "<Figure size 432x288 with 1 Axes>"
      ]
     },
     "metadata": {
      "needs_background": "light"
     },
     "output_type": "display_data"
    }
   ],
   "source": [
    "sns.countplot(x=data['fruit_name'])"
   ]
  },
  {
   "cell_type": "code",
   "execution_count": 8,
   "metadata": {
    "colab": {
     "base_uri": "https://localhost:8080/",
     "height": 343
    },
    "colab_type": "code",
    "id": "FN8QVeP3Lnqb",
    "outputId": "b7113ba2-22ec-455d-a366-f8c1aa812ed9"
   },
   "outputs": [
    {
     "data": {
      "image/png": "[encoded data removed]",
      "text/plain": [
       "<Figure size 864x360 with 4 Axes>"
      ]
     },
     "metadata": {
      "needs_background": "light"
     },
     "output_type": "display_data"
    }
   ],
   "source": [
    "data.hist(column='mass', by='fruit_name',figsize=(12,5))\n",
    "plt.show()"
   ]
  },
  {
   "cell_type": "code",
   "execution_count": 9,
   "metadata": {
    "colab": {
     "base_uri": "https://localhost:8080/",
     "height": 346
    },
    "colab_type": "code",
    "id": "DiSfXzUzOcFf",
    "outputId": "dcac9760-c95f-4b3d-aba4-a3e4266b449a"
   },
   "outputs": [
    {
     "data": {
      "image/png": "[encoded data removed]",
      "text/plain": [
       "<Figure size 864x360 with 4 Axes>"
      ]
     },
     "metadata": {
      "needs_background": "light"
     },
     "output_type": "display_data"
    }
   ],
   "source": [
    "data.hist(column='width', by='fruit_name',figsize=(12,5))\n",
    "plt.show()"
   ]
  },
  {
   "cell_type": "code",
   "execution_count": 10,
   "metadata": {
    "colab": {
     "base_uri": "https://localhost:8080/",
     "height": 340
    },
    "colab_type": "code",
    "id": "xf73SL4LOcQN",
    "outputId": "d384456b-2dce-4892-a202-aad77dfcf83f"
   },
   "outputs": [
    {
     "data": {
      "image/png": "[encoded data removed]",
      "text/plain": [
       "<Figure size 864x360 with 4 Axes>"
      ]
     },
     "metadata": {
      "needs_background": "light"
     },
     "output_type": "display_data"
    }
   ],
   "source": [
    "data.hist(column='height', by='fruit_name',figsize=(12,5))\n",
    "plt.show()"
   ]
  },
  {
   "cell_type": "code",
   "execution_count": 11,
   "metadata": {
    "colab": {
     "base_uri": "https://localhost:8080/",
     "height": 353
    },
    "colab_type": "code",
    "id": "GQL90IMbOpWH",
    "outputId": "05c340a4-a461-4d96-efa3-c5e7f4e666b9"
   },
   "outputs": [
    {
     "data": {
      "image/png": "[encoded data removed]",
      "text/plain": [
       "<Figure size 864x360 with 4 Axes>"
      ]
     },
     "metadata": {
      "needs_background": "light"
     },
     "output_type": "display_data"
    }
   ],
   "source": [
    "data.hist(column='color_score', by='fruit_name',figsize=(12,5))\n",
    "plt.show()"
   ]
  },
  {
   "cell_type": "code",
   "execution_count": 12,
   "metadata": {},
   "outputs": [
    {
     "data": {
      "image/png": "[encoded data removed]",
      "text/plain": [
       "<Figure size 1800x720 with 6 Axes>"
      ]
     },
     "metadata": {
      "needs_background": "light"
     },
     "output_type": "display_data"
    }
   ],
   "source": [
    "data.hist(figsize=(25,10))\n",
    "plt.show()"
   ]
  },
  {
   "cell_type": "code",
   "execution_count": 13,
   "metadata": {
    "colab": {
     "base_uri": "https://localhost:8080/",
     "height": 298
    },
    "colab_type": "code",
    "id": "DCK4jmEPLn0M",
    "outputId": "029723b5-c81c-4468-b20d-9f5777f3236a"
   },
   "outputs": [
    {
     "data": {
      "text/plain": [
       "<matplotlib.axes._subplots.AxesSubplot at 0x276e9d7d940>"
      ]
     },
     "execution_count": 13,
     "metadata": {},
     "output_type": "execute_result"
    },
    {
     "data": {
      "image/png": "[encoded data removed]",
      "text/plain": [
       "<Figure size 432x288 with 1 Axes>"
      ]
     },
     "metadata": {
      "needs_background": "light"
     },
     "output_type": "display_data"
    }
   ],
   "source": [
    "sns.boxplot(x='fruit_name',y='mass',data=data)"
   ]
  },
  {
   "cell_type": "code",
   "execution_count": 14,
   "metadata": {
    "colab": {
     "base_uri": "https://localhost:8080/",
     "height": 206
    },
    "colab_type": "code",
    "id": "kpprYcLYOxEN",
    "outputId": "739efb73-271c-4942-b502-4f4b3a2057ee"
   },
   "outputs": [
    {
     "data": {
      "text/html": [
       "<div>\n",
       "<style scoped>\n",
       "    .dataframe tbody tr th:only-of-type {\n",
       "        vertical-align: middle;\n",
       "    }\n",
       "\n",
       "    .dataframe tbody tr th {\n",
       "        vertical-align: top;\n",
       "    }\n",
       "\n",
       "    .dataframe thead th {\n",
       "        text-align: right;\n",
       "    }\n",
       "</style>\n",
       "<table border=\"1\" class=\"dataframe\">\n",
       "  <thead>\n",
       "    <tr style=\"text-align: right;\">\n",
       "      <th></th>\n",
       "      <th>fruit_label</th>\n",
       "      <th>mass</th>\n",
       "      <th>width</th>\n",
       "      <th>height</th>\n",
       "      <th>color_score</th>\n",
       "    </tr>\n",
       "    <tr>\n",
       "      <th>fruit_name</th>\n",
       "      <th></th>\n",
       "      <th></th>\n",
       "      <th></th>\n",
       "      <th></th>\n",
       "      <th></th>\n",
       "    </tr>\n",
       "  </thead>\n",
       "  <tbody>\n",
       "    <tr>\n",
       "      <th>apple</th>\n",
       "      <td>1.0</td>\n",
       "      <td>165.052632</td>\n",
       "      <td>7.457895</td>\n",
       "      <td>7.342105</td>\n",
       "      <td>0.783684</td>\n",
       "    </tr>\n",
       "    <tr>\n",
       "      <th>lemon</th>\n",
       "      <td>4.0</td>\n",
       "      <td>150.000000</td>\n",
       "      <td>6.512500</td>\n",
       "      <td>8.856250</td>\n",
       "      <td>0.718125</td>\n",
       "    </tr>\n",
       "    <tr>\n",
       "      <th>mandarin</th>\n",
       "      <td>2.0</td>\n",
       "      <td>81.200000</td>\n",
       "      <td>5.940000</td>\n",
       "      <td>4.380000</td>\n",
       "      <td>0.796000</td>\n",
       "    </tr>\n",
       "    <tr>\n",
       "      <th>orange</th>\n",
       "      <td>3.0</td>\n",
       "      <td>193.789474</td>\n",
       "      <td>7.557895</td>\n",
       "      <td>7.936842</td>\n",
       "      <td>0.771053</td>\n",
       "    </tr>\n",
       "  </tbody>\n",
       "</table>\n",
       "</div>"
      ],
      "text/plain": [
       "            fruit_label        mass     width    height  color_score\n",
       "fruit_name                                                          \n",
       "apple               1.0  165.052632  7.457895  7.342105     0.783684\n",
       "lemon               4.0  150.000000  6.512500  8.856250     0.718125\n",
       "mandarin            2.0   81.200000  5.940000  4.380000     0.796000\n",
       "orange              3.0  193.789474  7.557895  7.936842     0.771053"
      ]
     },
     "execution_count": 14,
     "metadata": {},
     "output_type": "execute_result"
    }
   ],
   "source": [
    "data.groupby('fruit_name').mean()"
   ]
  },
  {
   "cell_type": "code",
   "execution_count": 15,
   "metadata": {
    "colab": {
     "base_uri": "https://localhost:8080/",
     "height": 506
    },
    "colab_type": "code",
    "id": "FxswLUAyPR12",
    "outputId": "dd5bc512-04d6-488f-8c46-5884c3c3aa03"
   },
   "outputs": [
    {
     "data": {
      "text/plain": [
       "<matplotlib.axes._subplots.AxesSubplot at 0x276e9d44da0>"
      ]
     },
     "execution_count": 15,
     "metadata": {},
     "output_type": "execute_result"
    },
    {
     "data": {
      "image/png": "[encoded data removed]",
      "text/plain": [
       "<Figure size 720x576 with 2 Axes>"
      ]
     },
     "metadata": {
      "needs_background": "light"
     },
     "output_type": "display_data"
    }
   ],
   "source": [
    "plt.figure(figsize=(10,8))\n",
    "sns.heatmap(data.corr(),cmap='coolwarm',annot=True, linecolor='white',linewidths=1)"
   ]
  },
  {
   "cell_type": "markdown",
   "metadata": {
    "colab_type": "text",
    "id": "6l0eohZ6w2y6"
   },
   "source": [
    "# 2. Data Preprocessing"
   ]
  },
  {
   "cell_type": "code",
   "execution_count": 16,
   "metadata": {
    "colab": {},
    "colab_type": "code",
    "id": "xaxMs57MwvJD"
   },
   "outputs": [],
   "source": [
    "x = data.drop(['fruit_label','fruit_name','fruit_subtype'],axis=1)\n",
    "\n",
    "y = data['fruit_label']"
   ]
  },
  {
   "cell_type": "code",
   "execution_count": 17,
   "metadata": {
    "colab": {},
    "colab_type": "code",
    "id": "mxXF7mrpxv6o"
   },
   "outputs": [],
   "source": [
    "from sklearn.model_selection import train_test_split"
   ]
  },
  {
   "cell_type": "code",
   "execution_count": 18,
   "metadata": {
    "colab": {},
    "colab_type": "code",
    "id": "tLF6Op1tx5gd"
   },
   "outputs": [],
   "source": [
    "# due to imbalance of data, stratify  is used\n",
    "X_train, X_test, y_train, y_test = train_test_split(x, y, stratify=y, test_size=0.2, random_state=101)"
   ]
  },
  {
   "cell_type": "markdown",
   "metadata": {},
   "source": [
    "# 3. Build Model"
   ]
  },
  {
   "cell_type": "code",
   "execution_count": 19,
   "metadata": {},
   "outputs": [
    {
     "name": "stderr",
     "output_type": "stream",
     "text": [
      "C:\\Users\\USER\\Anaconda3\\lib\\site-packages\\sklearn\\ensemble\\weight_boosting.py:29: DeprecationWarning: numpy.core.umath_tests is an internal NumPy module and should not be imported. It will be removed in a future NumPy release.\n",
      "  from numpy.core.umath_tests import inner1d\n"
     ]
    }
   ],
   "source": [
    "from sklearn.linear_model import LogisticRegression\n",
    "from sklearn.tree import DecisionTreeClassifier\n",
    "from sklearn.ensemble import RandomForestClassifier\n",
    "from sklearn.neighbors import KNeighborsClassifier\n",
    "from sklearn.naive_bayes import GaussianNB\n",
    "from sklearn.svm import SVC"
   ]
  },
  {
   "cell_type": "code",
   "execution_count": 20,
   "metadata": {},
   "outputs": [],
   "source": [
    "models = []\n",
    "\n",
    "models.append(('LogReg', LogisticRegression()))\n",
    "models.append(('DTC', DecisionTreeClassifier(random_state=101)))\n",
    "models.append(('RFC', RandomForestClassifier(random_state=101)))\n",
    "models.append(('KNN', KNeighborsClassifier(n_neighbors=1)))\n",
    "models.append(('NB', GaussianNB()))\n",
    "models.append(('SVM',SVC()))"
   ]
  },
  {
   "cell_type": "code",
   "execution_count": 21,
   "metadata": {},
   "outputs": [],
   "source": [
    "# StratifiedKFold use for classification, KFold use for regression\n",
    "from sklearn.model_selection import StratifiedKFold, cross_val_score"
   ]
  },
  {
   "cell_type": "code",
   "execution_count": 22,
   "metadata": {},
   "outputs": [
    {
     "name": "stdout",
     "output_type": "stream",
     "text": [
      "LogReg: 0.7542483660130719 (0.15898348544324992)\n",
      "DTC: 0.8718954248366013 (0.054933075527975654)\n",
      "RFC: 0.9581699346405229 (0.029751128566643244)\n",
      "KNN: 0.615686274509804 (0.058779940276907486)\n",
      "NB: 0.8104575163398694 (0.04227702386613396)\n",
      "SVM: 0.6627450980392157 (0.059300895279549015)\n"
     ]
    }
   ],
   "source": [
    "# using k-fold of 10 for cross validation\n",
    "results = []\n",
    "names = []\n",
    "\n",
    "for name, model in models:\n",
    "    skfold = StratifiedKFold(n_splits=3,random_state=101, shuffle=True)\n",
    "    cv_results = cross_val_score(model, X_train, y_train, cv=skfold, scoring='accuracy')\n",
    "\n",
    "    results.append(cv_results)\n",
    "    names.append(name)\n",
    "    print(f'{name}: {cv_results.mean()} ({cv_results.std()})')"
   ]
  },
  {
   "cell_type": "code",
   "execution_count": 23,
   "metadata": {},
   "outputs": [
    {
     "data": {
      "image/png": "[encoded data removed]",
      "text/plain": [
       "<Figure size 864x432 with 1 Axes>"
      ]
     },
     "metadata": {
      "needs_background": "light"
     },
     "output_type": "display_data"
    }
   ],
   "source": [
    "plt.figure(figsize=(12,6))\n",
    "plt.boxplot(results, labels=names)\n",
    "plt.title('Algorithm Comparison')\n",
    "plt.ylabel('Accuracy')\n",
    "plt.show()"
   ]
  },
  {
   "cell_type": "markdown",
   "metadata": {},
   "source": [
    "Random Forest shown to be the better choice due to having a hight mean accuracy and a low variance."
   ]
  },
  {
   "cell_type": "markdown",
   "metadata": {},
   "source": [
    "# 4. Evaluation & Validation\n",
    "Since both model chosen are tree based models, we conduct feature selection by looking at the features which are important."
   ]
  },
  {
   "cell_type": "code",
   "execution_count": 24,
   "metadata": {},
   "outputs": [],
   "source": [
    "rfc = RandomForestClassifier(random_state=101).fit(X_train, y_train)"
   ]
  },
  {
   "cell_type": "code",
   "execution_count": 25,
   "metadata": {},
   "outputs": [
    {
     "data": {
      "image/png": "[encoded data removed]",
      "text/plain": [
       "<Figure size 432x288 with 1 Axes>"
      ]
     },
     "metadata": {
      "needs_background": "light"
     },
     "output_type": "display_data"
    }
   ],
   "source": [
    "# visualize the feature importance of each feature\n",
    "plt.barh(range(x.shape[1]), rfc.feature_importances_, align='center')\n",
    "\n",
    "plt.yticks(np.arange(x.shape[1]), ('mass', 'width', 'height', 'color_score') )\n",
    "plt.xlabel('Feature Importance')\n",
    "plt.ylabel('Features')\n",
    "plt.show()"
   ]
  },
  {
   "cell_type": "markdown",
   "metadata": {},
   "source": [
    "#### Parameter tuning using GridsearchCV"
   ]
  },
  {
   "cell_type": "code",
   "execution_count": 26,
   "metadata": {},
   "outputs": [],
   "source": [
    "from sklearn.model_selection import GridSearchCV"
   ]
  },
  {
   "cell_type": "code",
   "execution_count": 27,
   "metadata": {},
   "outputs": [],
   "source": [
    "# find max_features sqrt(4) is 2\n",
    "param_grid = {'max_features': [n for n in range(1,5)]}"
   ]
  },
  {
   "cell_type": "code",
   "execution_count": 28,
   "metadata": {},
   "outputs": [],
   "source": [
    "skfold = StratifiedKFold(n_splits=3,random_state=101, shuffle=True)"
   ]
  },
  {
   "cell_type": "code",
   "execution_count": 29,
   "metadata": {},
   "outputs": [
    {
     "data": {
      "text/plain": [
       "GridSearchCV(cv=StratifiedKFold(n_splits=3, random_state=101, shuffle=True),\n",
       "       error_score='raise',\n",
       "       estimator=RandomForestClassifier(bootstrap=True, class_weight=None, criterion='gini',\n",
       "            max_depth=None, max_features='auto', max_leaf_nodes=None,\n",
       "            min_impurity_decrease=0.0, min_impurity_split=None,\n",
       "            min_samples_leaf=1, min_samples_split=2,\n",
       "            min_weight_fraction_leaf=0.0, n_estimators=10, n_jobs=1,\n",
       "            oob_score=False, random_state=101, verbose=0, warm_start=False),\n",
       "       fit_params=None, iid=True, n_jobs=1,\n",
       "       param_grid={'max_features': [1, 2, 3, 4]}, pre_dispatch='2*n_jobs',\n",
       "       refit=True, return_train_score='warn', scoring=None, verbose=0)"
      ]
     },
     "execution_count": 29,
     "metadata": {},
     "output_type": "execute_result"
    }
   ],
   "source": [
    "grid_search = GridSearchCV(RandomForestClassifier(random_state=101), param_grid=param_grid, cv=skfold)\n",
    "\n",
    "grid_search.fit(X_train, y_train)"
   ]
  },
  {
   "cell_type": "code",
   "execution_count": 30,
   "metadata": {},
   "outputs": [
    {
     "data": {
      "text/plain": [
       "{'max_features': 2}"
      ]
     },
     "execution_count": 30,
     "metadata": {},
     "output_type": "execute_result"
    }
   ],
   "source": [
    "grid_search.best_params_"
   ]
  },
  {
   "cell_type": "code",
   "execution_count": 31,
   "metadata": {},
   "outputs": [
    {
     "data": {
      "text/plain": [
       "0.9574468085106383"
      ]
     },
     "execution_count": 31,
     "metadata": {},
     "output_type": "execute_result"
    }
   ],
   "source": [
    "grid_search.best_score_"
   ]
  },
  {
   "cell_type": "code",
   "execution_count": 32,
   "metadata": {},
   "outputs": [
    {
     "name": "stdout",
     "output_type": "stream",
     "text": [
      "Training score: 1.0\n",
      "Test score: 0.8333333333333334\n"
     ]
    }
   ],
   "source": [
    "# max_features = 2 is chosen\n",
    "rfc = RandomForestClassifier(max_features=2, random_state=101)\n",
    "\n",
    "rfc.fit(X_train, y_train)\n",
    "\n",
    "pred = rfc.predict(X_test)\n",
    "\n",
    "print(f'Training score: {rfc.score(X_train, y_train)}')\n",
    "print(f'Test score: {rfc.score(X_test, y_test)}')"
   ]
  },
  {
   "cell_type": "code",
   "execution_count": 33,
   "metadata": {},
   "outputs": [],
   "source": [
    "from sklearn.metrics import confusion_matrix, classification_report"
   ]
  },
  {
   "cell_type": "code",
   "execution_count": 34,
   "metadata": {},
   "outputs": [
    {
     "name": "stdout",
     "output_type": "stream",
     "text": [
      "[[4 0 0 0]\n",
      " [0 1 0 0]\n",
      " [0 0 2 2]\n",
      " [0 0 0 3]]\n",
      "             precision    recall  f1-score   support\n",
      "\n",
      "          1       1.00      1.00      1.00         4\n",
      "          2       1.00      1.00      1.00         1\n",
      "          3       1.00      0.50      0.67         4\n",
      "          4       0.60      1.00      0.75         3\n",
      "\n",
      "avg / total       0.90      0.83      0.83        12\n",
      "\n"
     ]
    }
   ],
   "source": [
    "# Evaluate predictions\n",
    "print(confusion_matrix(y_test,pred))\n",
    "print(classification_report(y_test,pred))"
   ]
  },
  {
   "cell_type": "markdown",
   "metadata": {},
   "source": [
    "# 5. Build Model with Scaled Data"
   ]
  },
  {
   "cell_type": "code",
   "execution_count": 35,
   "metadata": {},
   "outputs": [],
   "source": [
    "from sklearn.preprocessing import MinMaxScaler"
   ]
  },
  {
   "cell_type": "code",
   "execution_count": 36,
   "metadata": {},
   "outputs": [],
   "source": [
    "scaler = MinMaxScaler()"
   ]
  },
  {
   "cell_type": "code",
   "execution_count": 37,
   "metadata": {},
   "outputs": [],
   "source": [
    "# scaled the data\n",
    "X_train_scaled = scaler.fit_transform(X_train)\n",
    "\n",
    "X_test_scaled = scaler.transform(X_test)"
   ]
  },
  {
   "cell_type": "code",
   "execution_count": 38,
   "metadata": {},
   "outputs": [
    {
     "name": "stdout",
     "output_type": "stream",
     "text": [
      "LogReg: 0.596078 (0.109007)\n",
      "DTC: 0.871895 (0.054933)\n",
      "RFC: 0.958170 (0.029751)\n",
      "KNN: 0.935948 (0.003697)\n",
      "NB: 0.810458 (0.042277)\n",
      "SVM: 0.342484 (0.088523)\n"
     ]
    }
   ],
   "source": [
    "results = []\n",
    "names = []\n",
    "\n",
    "for name, model in models:\n",
    "    skfold = StratifiedKFold(n_splits=3,random_state=101, shuffle=True)\n",
    "    cv_results = cross_val_score(model, X_train_scaled, y_train, cv=skfold, scoring='accuracy')\n",
    "\n",
    "    results.append(cv_results)\n",
    "    names.append(name)\n",
    "    print('%s: %f (%f)' % (name, cv_results.mean(), cv_results.std()))"
   ]
  },
  {
   "cell_type": "code",
   "execution_count": 39,
   "metadata": {},
   "outputs": [
    {
     "data": {
      "image/png": "[encoded data removed]",
      "text/plain": [
       "<Figure size 864x432 with 1 Axes>"
      ]
     },
     "metadata": {
      "needs_background": "light"
     },
     "output_type": "display_data"
    }
   ],
   "source": [
    "plt.figure(figsize=(12,6))\n",
    "plt.boxplot(results, labels=names)\n",
    "plt.title('Algorithm Comparison')\n",
    "plt.ylabel('Accuracy')\n",
    "plt.show()"
   ]
  },
  {
   "cell_type": "markdown",
   "metadata": {},
   "source": [
    "RFC remains the same because scaling has no effect on it while KNN improves a lot because KNN models need scaling.\n",
    "\n",
    "Let's compare with KNN."
   ]
  },
  {
   "cell_type": "markdown",
   "metadata": {},
   "source": [
    "# 6. Evaluation & Validation"
   ]
  },
  {
   "cell_type": "code",
   "execution_count": 40,
   "metadata": {},
   "outputs": [],
   "source": [
    "param_grid = {'n_neighbors': [n for n in range(1,21)]}"
   ]
  },
  {
   "cell_type": "code",
   "execution_count": 41,
   "metadata": {},
   "outputs": [
    {
     "data": {
      "text/plain": [
       "GridSearchCV(cv=StratifiedKFold(n_splits=3, random_state=101, shuffle=True),\n",
       "       error_score='raise',\n",
       "       estimator=KNeighborsClassifier(algorithm='auto', leaf_size=30, metric='minkowski',\n",
       "           metric_params=None, n_jobs=1, n_neighbors=5, p=2,\n",
       "           weights='uniform'),\n",
       "       fit_params=None, iid=True, n_jobs=1,\n",
       "       param_grid={'n_neighbors': [1, 2, 3, 4, 5, 6, 7, 8, 9, 10, 11, 12, 13, 14, 15, 16, 17, 18, 19, 20]},\n",
       "       pre_dispatch='2*n_jobs', refit=True, return_train_score='warn',\n",
       "       scoring=None, verbose=0)"
      ]
     },
     "execution_count": 41,
     "metadata": {},
     "output_type": "execute_result"
    }
   ],
   "source": [
    "grid_search = GridSearchCV(KNeighborsClassifier(), param_grid, cv=skfold)\n",
    "\n",
    "grid_search.fit(X_train_scaled, y_train)"
   ]
  },
  {
   "cell_type": "code",
   "execution_count": 42,
   "metadata": {},
   "outputs": [
    {
     "name": "stderr",
     "output_type": "stream",
     "text": [
      "C:\\Users\\USER\\Anaconda3\\lib\\site-packages\\sklearn\\utils\\deprecation.py:122: FutureWarning: You are accessing a training score ('split0_train_score'), which will not be available by default any more in 0.21. If you need training scores, please set return_train_score=True\n",
      "  warnings.warn(*warn_args, **warn_kwargs)\n",
      "C:\\Users\\USER\\Anaconda3\\lib\\site-packages\\sklearn\\utils\\deprecation.py:122: FutureWarning: You are accessing a training score ('split1_train_score'), which will not be available by default any more in 0.21. If you need training scores, please set return_train_score=True\n",
      "  warnings.warn(*warn_args, **warn_kwargs)\n",
      "C:\\Users\\USER\\Anaconda3\\lib\\site-packages\\sklearn\\utils\\deprecation.py:122: FutureWarning: You are accessing a training score ('split2_train_score'), which will not be available by default any more in 0.21. If you need training scores, please set return_train_score=True\n",
      "  warnings.warn(*warn_args, **warn_kwargs)\n",
      "C:\\Users\\USER\\Anaconda3\\lib\\site-packages\\sklearn\\utils\\deprecation.py:122: FutureWarning: You are accessing a training score ('mean_train_score'), which will not be available by default any more in 0.21. If you need training scores, please set return_train_score=True\n",
      "  warnings.warn(*warn_args, **warn_kwargs)\n",
      "C:\\Users\\USER\\Anaconda3\\lib\\site-packages\\sklearn\\utils\\deprecation.py:122: FutureWarning: You are accessing a training score ('std_train_score'), which will not be available by default any more in 0.21. If you need training scores, please set return_train_score=True\n",
      "  warnings.warn(*warn_args, **warn_kwargs)\n"
     ]
    },
    {
     "data": {
      "text/html": [
       "<div>\n",
       "<style scoped>\n",
       "    .dataframe tbody tr th:only-of-type {\n",
       "        vertical-align: middle;\n",
       "    }\n",
       "\n",
       "    .dataframe tbody tr th {\n",
       "        vertical-align: top;\n",
       "    }\n",
       "\n",
       "    .dataframe thead th {\n",
       "        text-align: right;\n",
       "    }\n",
       "</style>\n",
       "<table border=\"1\" class=\"dataframe\">\n",
       "  <thead>\n",
       "    <tr style=\"text-align: right;\">\n",
       "      <th></th>\n",
       "      <th>0</th>\n",
       "      <th>1</th>\n",
       "      <th>2</th>\n",
       "      <th>3</th>\n",
       "      <th>4</th>\n",
       "      <th>5</th>\n",
       "      <th>6</th>\n",
       "      <th>7</th>\n",
       "      <th>8</th>\n",
       "      <th>9</th>\n",
       "      <th>10</th>\n",
       "      <th>11</th>\n",
       "      <th>12</th>\n",
       "      <th>13</th>\n",
       "      <th>14</th>\n",
       "      <th>15</th>\n",
       "      <th>16</th>\n",
       "      <th>17</th>\n",
       "      <th>18</th>\n",
       "      <th>19</th>\n",
       "    </tr>\n",
       "  </thead>\n",
       "  <tbody>\n",
       "    <tr>\n",
       "      <th>mean_fit_time</th>\n",
       "      <td>0</td>\n",
       "      <td>0.00520293</td>\n",
       "      <td>0</td>\n",
       "      <td>0.0052398</td>\n",
       "      <td>0.00521175</td>\n",
       "      <td>0</td>\n",
       "      <td>0.00522526</td>\n",
       "      <td>0.00522137</td>\n",
       "      <td>0</td>\n",
       "      <td>0</td>\n",
       "      <td>0.0104027</td>\n",
       "      <td>0.00217001</td>\n",
       "      <td>0.00522566</td>\n",
       "      <td>0.00520992</td>\n",
       "      <td>0</td>\n",
       "      <td>0.0104463</td>\n",
       "      <td>0</td>\n",
       "      <td>0</td>\n",
       "      <td>0.00522463</td>\n",
       "      <td>0</td>\n",
       "    </tr>\n",
       "    <tr>\n",
       "      <th>std_fit_time</th>\n",
       "      <td>0</td>\n",
       "      <td>0.00735805</td>\n",
       "      <td>0</td>\n",
       "      <td>0.0074102</td>\n",
       "      <td>0.00737053</td>\n",
       "      <td>0</td>\n",
       "      <td>0.00738964</td>\n",
       "      <td>0.00738413</td>\n",
       "      <td>0</td>\n",
       "      <td>0</td>\n",
       "      <td>0.00735593</td>\n",
       "      <td>0.00306885</td>\n",
       "      <td>0.0073902</td>\n",
       "      <td>0.00736794</td>\n",
       "      <td>0</td>\n",
       "      <td>0.00738672</td>\n",
       "      <td>0</td>\n",
       "      <td>0</td>\n",
       "      <td>0.00738874</td>\n",
       "      <td>0</td>\n",
       "    </tr>\n",
       "    <tr>\n",
       "      <th>mean_score_time</th>\n",
       "      <td>0</td>\n",
       "      <td>0</td>\n",
       "      <td>0.0103994</td>\n",
       "      <td>0.00519427</td>\n",
       "      <td>0.00521366</td>\n",
       "      <td>0.00519196</td>\n",
       "      <td>0</td>\n",
       "      <td>0.00520658</td>\n",
       "      <td>0.00216977</td>\n",
       "      <td>0</td>\n",
       "      <td>0.00520674</td>\n",
       "      <td>0</td>\n",
       "      <td>0.00519673</td>\n",
       "      <td>0</td>\n",
       "      <td>0.0126193</td>\n",
       "      <td>0</td>\n",
       "      <td>0.00521477</td>\n",
       "      <td>0.00520817</td>\n",
       "      <td>0</td>\n",
       "      <td>0.00521358</td>\n",
       "    </tr>\n",
       "    <tr>\n",
       "      <th>std_score_time</th>\n",
       "      <td>0</td>\n",
       "      <td>0</td>\n",
       "      <td>0.00735352</td>\n",
       "      <td>0.0073458</td>\n",
       "      <td>0.00737323</td>\n",
       "      <td>0.00734254</td>\n",
       "      <td>0</td>\n",
       "      <td>0.00736322</td>\n",
       "      <td>0.00306852</td>\n",
       "      <td>0</td>\n",
       "      <td>0.00736345</td>\n",
       "      <td>0</td>\n",
       "      <td>0.00734929</td>\n",
       "      <td>0</td>\n",
       "      <td>0.0178463</td>\n",
       "      <td>0</td>\n",
       "      <td>0.0073748</td>\n",
       "      <td>0.00736547</td>\n",
       "      <td>0</td>\n",
       "      <td>0.00737311</td>\n",
       "    </tr>\n",
       "    <tr>\n",
       "      <th>param_n_neighbors</th>\n",
       "      <td>1</td>\n",
       "      <td>2</td>\n",
       "      <td>3</td>\n",
       "      <td>4</td>\n",
       "      <td>5</td>\n",
       "      <td>6</td>\n",
       "      <td>7</td>\n",
       "      <td>8</td>\n",
       "      <td>9</td>\n",
       "      <td>10</td>\n",
       "      <td>11</td>\n",
       "      <td>12</td>\n",
       "      <td>13</td>\n",
       "      <td>14</td>\n",
       "      <td>15</td>\n",
       "      <td>16</td>\n",
       "      <td>17</td>\n",
       "      <td>18</td>\n",
       "      <td>19</td>\n",
       "      <td>20</td>\n",
       "    </tr>\n",
       "    <tr>\n",
       "      <th>params</th>\n",
       "      <td>{'n_neighbors': 1}</td>\n",
       "      <td>{'n_neighbors': 2}</td>\n",
       "      <td>{'n_neighbors': 3}</td>\n",
       "      <td>{'n_neighbors': 4}</td>\n",
       "      <td>{'n_neighbors': 5}</td>\n",
       "      <td>{'n_neighbors': 6}</td>\n",
       "      <td>{'n_neighbors': 7}</td>\n",
       "      <td>{'n_neighbors': 8}</td>\n",
       "      <td>{'n_neighbors': 9}</td>\n",
       "      <td>{'n_neighbors': 10}</td>\n",
       "      <td>{'n_neighbors': 11}</td>\n",
       "      <td>{'n_neighbors': 12}</td>\n",
       "      <td>{'n_neighbors': 13}</td>\n",
       "      <td>{'n_neighbors': 14}</td>\n",
       "      <td>{'n_neighbors': 15}</td>\n",
       "      <td>{'n_neighbors': 16}</td>\n",
       "      <td>{'n_neighbors': 17}</td>\n",
       "      <td>{'n_neighbors': 18}</td>\n",
       "      <td>{'n_neighbors': 19}</td>\n",
       "      <td>{'n_neighbors': 20}</td>\n",
       "    </tr>\n",
       "    <tr>\n",
       "      <th>split0_test_score</th>\n",
       "      <td>0.941176</td>\n",
       "      <td>0.823529</td>\n",
       "      <td>0.941176</td>\n",
       "      <td>0.941176</td>\n",
       "      <td>0.823529</td>\n",
       "      <td>0.882353</td>\n",
       "      <td>0.941176</td>\n",
       "      <td>0.647059</td>\n",
       "      <td>0.588235</td>\n",
       "      <td>0.470588</td>\n",
       "      <td>0.294118</td>\n",
       "      <td>0.411765</td>\n",
       "      <td>0.352941</td>\n",
       "      <td>0.235294</td>\n",
       "      <td>0.235294</td>\n",
       "      <td>0.294118</td>\n",
       "      <td>0.294118</td>\n",
       "      <td>0.294118</td>\n",
       "      <td>0.294118</td>\n",
       "      <td>0.235294</td>\n",
       "    </tr>\n",
       "    <tr>\n",
       "      <th>split1_test_score</th>\n",
       "      <td>0.933333</td>\n",
       "      <td>1</td>\n",
       "      <td>0.866667</td>\n",
       "      <td>1</td>\n",
       "      <td>0.866667</td>\n",
       "      <td>0.866667</td>\n",
       "      <td>0.733333</td>\n",
       "      <td>0.733333</td>\n",
       "      <td>0.666667</td>\n",
       "      <td>0.6</td>\n",
       "      <td>0.6</td>\n",
       "      <td>0.533333</td>\n",
       "      <td>0.4</td>\n",
       "      <td>0.4</td>\n",
       "      <td>0.466667</td>\n",
       "      <td>0.4</td>\n",
       "      <td>0.533333</td>\n",
       "      <td>0.4</td>\n",
       "      <td>0.4</td>\n",
       "      <td>0.466667</td>\n",
       "    </tr>\n",
       "    <tr>\n",
       "      <th>split2_test_score</th>\n",
       "      <td>0.933333</td>\n",
       "      <td>0.866667</td>\n",
       "      <td>1</td>\n",
       "      <td>0.933333</td>\n",
       "      <td>0.866667</td>\n",
       "      <td>0.866667</td>\n",
       "      <td>0.733333</td>\n",
       "      <td>0.666667</td>\n",
       "      <td>0.6</td>\n",
       "      <td>0.466667</td>\n",
       "      <td>0.466667</td>\n",
       "      <td>0.466667</td>\n",
       "      <td>0.333333</td>\n",
       "      <td>0.333333</td>\n",
       "      <td>0.2</td>\n",
       "      <td>0.2</td>\n",
       "      <td>0.133333</td>\n",
       "      <td>0.133333</td>\n",
       "      <td>0.266667</td>\n",
       "      <td>0.266667</td>\n",
       "    </tr>\n",
       "    <tr>\n",
       "      <th>mean_test_score</th>\n",
       "      <td>0.93617</td>\n",
       "      <td>0.893617</td>\n",
       "      <td>0.93617</td>\n",
       "      <td>0.957447</td>\n",
       "      <td>0.851064</td>\n",
       "      <td>0.87234</td>\n",
       "      <td>0.808511</td>\n",
       "      <td>0.680851</td>\n",
       "      <td>0.617021</td>\n",
       "      <td>0.510638</td>\n",
       "      <td>0.446809</td>\n",
       "      <td>0.468085</td>\n",
       "      <td>0.361702</td>\n",
       "      <td>0.319149</td>\n",
       "      <td>0.297872</td>\n",
       "      <td>0.297872</td>\n",
       "      <td>0.319149</td>\n",
       "      <td>0.276596</td>\n",
       "      <td>0.319149</td>\n",
       "      <td>0.319149</td>\n",
       "    </tr>\n",
       "    <tr>\n",
       "      <th>std_test_score</th>\n",
       "      <td>0.00376857</td>\n",
       "      <td>0.07497</td>\n",
       "      <td>0.0533955</td>\n",
       "      <td>0.0293126</td>\n",
       "      <td>0.0207272</td>\n",
       "      <td>0.00753715</td>\n",
       "      <td>0.0998672</td>\n",
       "      <td>0.0368281</td>\n",
       "      <td>0.0343333</td>\n",
       "      <td>0.0612031</td>\n",
       "      <td>0.126682</td>\n",
       "      <td>0.0500667</td>\n",
       "      <td>0.0274356</td>\n",
       "      <td>0.0685114</td>\n",
       "      <td>0.116476</td>\n",
       "      <td>0.0799435</td>\n",
       "      <td>0.160894</td>\n",
       "      <td>0.107338</td>\n",
       "      <td>0.0564972</td>\n",
       "      <td>0.101821</td>\n",
       "    </tr>\n",
       "    <tr>\n",
       "      <th>rank_test_score</th>\n",
       "      <td>2</td>\n",
       "      <td>4</td>\n",
       "      <td>2</td>\n",
       "      <td>1</td>\n",
       "      <td>6</td>\n",
       "      <td>5</td>\n",
       "      <td>7</td>\n",
       "      <td>8</td>\n",
       "      <td>9</td>\n",
       "      <td>10</td>\n",
       "      <td>12</td>\n",
       "      <td>11</td>\n",
       "      <td>13</td>\n",
       "      <td>14</td>\n",
       "      <td>18</td>\n",
       "      <td>18</td>\n",
       "      <td>14</td>\n",
       "      <td>20</td>\n",
       "      <td>14</td>\n",
       "      <td>14</td>\n",
       "    </tr>\n",
       "    <tr>\n",
       "      <th>split0_train_score</th>\n",
       "      <td>1</td>\n",
       "      <td>0.966667</td>\n",
       "      <td>1</td>\n",
       "      <td>1</td>\n",
       "      <td>0.9</td>\n",
       "      <td>0.933333</td>\n",
       "      <td>0.866667</td>\n",
       "      <td>0.766667</td>\n",
       "      <td>0.7</td>\n",
       "      <td>0.6</td>\n",
       "      <td>0.466667</td>\n",
       "      <td>0.4</td>\n",
       "      <td>0.366667</td>\n",
       "      <td>0.233333</td>\n",
       "      <td>0.266667</td>\n",
       "      <td>0.3</td>\n",
       "      <td>0.3</td>\n",
       "      <td>0.3</td>\n",
       "      <td>0.3</td>\n",
       "      <td>0.233333</td>\n",
       "    </tr>\n",
       "    <tr>\n",
       "      <th>split1_train_score</th>\n",
       "      <td>1</td>\n",
       "      <td>0.96875</td>\n",
       "      <td>0.96875</td>\n",
       "      <td>0.96875</td>\n",
       "      <td>0.96875</td>\n",
       "      <td>1</td>\n",
       "      <td>0.875</td>\n",
       "      <td>0.875</td>\n",
       "      <td>0.875</td>\n",
       "      <td>0.8125</td>\n",
       "      <td>0.53125</td>\n",
       "      <td>0.40625</td>\n",
       "      <td>0.375</td>\n",
       "      <td>0.3125</td>\n",
       "      <td>0.3125</td>\n",
       "      <td>0.3125</td>\n",
       "      <td>0.28125</td>\n",
       "      <td>0.25</td>\n",
       "      <td>0.3125</td>\n",
       "      <td>0.34375</td>\n",
       "    </tr>\n",
       "    <tr>\n",
       "      <th>split2_train_score</th>\n",
       "      <td>1</td>\n",
       "      <td>0.96875</td>\n",
       "      <td>0.9375</td>\n",
       "      <td>0.96875</td>\n",
       "      <td>0.96875</td>\n",
       "      <td>0.96875</td>\n",
       "      <td>0.8125</td>\n",
       "      <td>0.78125</td>\n",
       "      <td>0.6875</td>\n",
       "      <td>0.65625</td>\n",
       "      <td>0.625</td>\n",
       "      <td>0.625</td>\n",
       "      <td>0.5</td>\n",
       "      <td>0.53125</td>\n",
       "      <td>0.34375</td>\n",
       "      <td>0.40625</td>\n",
       "      <td>0.46875</td>\n",
       "      <td>0.53125</td>\n",
       "      <td>0.5</td>\n",
       "      <td>0.4375</td>\n",
       "    </tr>\n",
       "    <tr>\n",
       "      <th>mean_train_score</th>\n",
       "      <td>1</td>\n",
       "      <td>0.968056</td>\n",
       "      <td>0.96875</td>\n",
       "      <td>0.979167</td>\n",
       "      <td>0.945833</td>\n",
       "      <td>0.967361</td>\n",
       "      <td>0.851389</td>\n",
       "      <td>0.807639</td>\n",
       "      <td>0.754167</td>\n",
       "      <td>0.689583</td>\n",
       "      <td>0.540972</td>\n",
       "      <td>0.477083</td>\n",
       "      <td>0.413889</td>\n",
       "      <td>0.359028</td>\n",
       "      <td>0.307639</td>\n",
       "      <td>0.339583</td>\n",
       "      <td>0.35</td>\n",
       "      <td>0.360417</td>\n",
       "      <td>0.370833</td>\n",
       "      <td>0.338194</td>\n",
       "    </tr>\n",
       "    <tr>\n",
       "      <th>std_train_score</th>\n",
       "      <td>0</td>\n",
       "      <td>0.000982093</td>\n",
       "      <td>0.0255155</td>\n",
       "      <td>0.0147314</td>\n",
       "      <td>0.0324091</td>\n",
       "      <td>0.0272343</td>\n",
       "      <td>0.0277082</td>\n",
       "      <td>0.0480021</td>\n",
       "      <td>0.0855943</td>\n",
       "      <td>0.0898977</td>\n",
       "      <td>0.0650039</td>\n",
       "      <td>0.104624</td>\n",
       "      <td>0.0609847</td>\n",
       "      <td>0.125995</td>\n",
       "      <td>0.0316563</td>\n",
       "      <td>0.0474159</td>\n",
       "      <td>0.0843171</td>\n",
       "      <td>0.12251</td>\n",
       "      <td>0.0914771</td>\n",
       "      <td>0.0834432</td>\n",
       "    </tr>\n",
       "  </tbody>\n",
       "</table>\n",
       "</div>"
      ],
      "text/plain": [
       "                                    0                   1   \\\n",
       "mean_fit_time                        0          0.00520293   \n",
       "std_fit_time                         0          0.00735805   \n",
       "mean_score_time                      0                   0   \n",
       "std_score_time                       0                   0   \n",
       "param_n_neighbors                    1                   2   \n",
       "params              {'n_neighbors': 1}  {'n_neighbors': 2}   \n",
       "split0_test_score             0.941176            0.823529   \n",
       "split1_test_score             0.933333                   1   \n",
       "split2_test_score             0.933333            0.866667   \n",
       "mean_test_score                0.93617            0.893617   \n",
       "std_test_score              0.00376857             0.07497   \n",
       "rank_test_score                      2                   4   \n",
       "split0_train_score                   1            0.966667   \n",
       "split1_train_score                   1             0.96875   \n",
       "split2_train_score                   1             0.96875   \n",
       "mean_train_score                     1            0.968056   \n",
       "std_train_score                      0         0.000982093   \n",
       "\n",
       "                                    2                   3   \\\n",
       "mean_fit_time                        0           0.0052398   \n",
       "std_fit_time                         0           0.0074102   \n",
       "mean_score_time              0.0103994          0.00519427   \n",
       "std_score_time              0.00735352           0.0073458   \n",
       "param_n_neighbors                    3                   4   \n",
       "params              {'n_neighbors': 3}  {'n_neighbors': 4}   \n",
       "split0_test_score             0.941176            0.941176   \n",
       "split1_test_score             0.866667                   1   \n",
       "split2_test_score                    1            0.933333   \n",
       "mean_test_score                0.93617            0.957447   \n",
       "std_test_score               0.0533955           0.0293126   \n",
       "rank_test_score                      2                   1   \n",
       "split0_train_score                   1                   1   \n",
       "split1_train_score             0.96875             0.96875   \n",
       "split2_train_score              0.9375             0.96875   \n",
       "mean_train_score               0.96875            0.979167   \n",
       "std_train_score              0.0255155           0.0147314   \n",
       "\n",
       "                                    4                   5   \\\n",
       "mean_fit_time               0.00521175                   0   \n",
       "std_fit_time                0.00737053                   0   \n",
       "mean_score_time             0.00521366          0.00519196   \n",
       "std_score_time              0.00737323          0.00734254   \n",
       "param_n_neighbors                    5                   6   \n",
       "params              {'n_neighbors': 5}  {'n_neighbors': 6}   \n",
       "split0_test_score             0.823529            0.882353   \n",
       "split1_test_score             0.866667            0.866667   \n",
       "split2_test_score             0.866667            0.866667   \n",
       "mean_test_score               0.851064             0.87234   \n",
       "std_test_score               0.0207272          0.00753715   \n",
       "rank_test_score                      6                   5   \n",
       "split0_train_score                 0.9            0.933333   \n",
       "split1_train_score             0.96875                   1   \n",
       "split2_train_score             0.96875             0.96875   \n",
       "mean_train_score              0.945833            0.967361   \n",
       "std_train_score              0.0324091           0.0272343   \n",
       "\n",
       "                                    6                   7   \\\n",
       "mean_fit_time               0.00522526          0.00522137   \n",
       "std_fit_time                0.00738964          0.00738413   \n",
       "mean_score_time                      0          0.00520658   \n",
       "std_score_time                       0          0.00736322   \n",
       "param_n_neighbors                    7                   8   \n",
       "params              {'n_neighbors': 7}  {'n_neighbors': 8}   \n",
       "split0_test_score             0.941176            0.647059   \n",
       "split1_test_score             0.733333            0.733333   \n",
       "split2_test_score             0.733333            0.666667   \n",
       "mean_test_score               0.808511            0.680851   \n",
       "std_test_score               0.0998672           0.0368281   \n",
       "rank_test_score                      7                   8   \n",
       "split0_train_score            0.866667            0.766667   \n",
       "split1_train_score               0.875               0.875   \n",
       "split2_train_score              0.8125             0.78125   \n",
       "mean_train_score              0.851389            0.807639   \n",
       "std_train_score              0.0277082           0.0480021   \n",
       "\n",
       "                                    8                    9   \\\n",
       "mean_fit_time                        0                    0   \n",
       "std_fit_time                         0                    0   \n",
       "mean_score_time             0.00216977                    0   \n",
       "std_score_time              0.00306852                    0   \n",
       "param_n_neighbors                    9                   10   \n",
       "params              {'n_neighbors': 9}  {'n_neighbors': 10}   \n",
       "split0_test_score             0.588235             0.470588   \n",
       "split1_test_score             0.666667                  0.6   \n",
       "split2_test_score                  0.6             0.466667   \n",
       "mean_test_score               0.617021             0.510638   \n",
       "std_test_score               0.0343333            0.0612031   \n",
       "rank_test_score                      9                   10   \n",
       "split0_train_score                 0.7                  0.6   \n",
       "split1_train_score               0.875               0.8125   \n",
       "split2_train_score              0.6875              0.65625   \n",
       "mean_train_score              0.754167             0.689583   \n",
       "std_train_score              0.0855943            0.0898977   \n",
       "\n",
       "                                     10                   11  \\\n",
       "mean_fit_time                 0.0104027           0.00217001   \n",
       "std_fit_time                 0.00735593           0.00306885   \n",
       "mean_score_time              0.00520674                    0   \n",
       "std_score_time               0.00736345                    0   \n",
       "param_n_neighbors                    11                   12   \n",
       "params              {'n_neighbors': 11}  {'n_neighbors': 12}   \n",
       "split0_test_score              0.294118             0.411765   \n",
       "split1_test_score                   0.6             0.533333   \n",
       "split2_test_score              0.466667             0.466667   \n",
       "mean_test_score                0.446809             0.468085   \n",
       "std_test_score                 0.126682            0.0500667   \n",
       "rank_test_score                      12                   11   \n",
       "split0_train_score             0.466667                  0.4   \n",
       "split1_train_score              0.53125              0.40625   \n",
       "split2_train_score                0.625                0.625   \n",
       "mean_train_score               0.540972             0.477083   \n",
       "std_train_score               0.0650039             0.104624   \n",
       "\n",
       "                                     12                   13  \\\n",
       "mean_fit_time                0.00522566           0.00520992   \n",
       "std_fit_time                  0.0073902           0.00736794   \n",
       "mean_score_time              0.00519673                    0   \n",
       "std_score_time               0.00734929                    0   \n",
       "param_n_neighbors                    13                   14   \n",
       "params              {'n_neighbors': 13}  {'n_neighbors': 14}   \n",
       "split0_test_score              0.352941             0.235294   \n",
       "split1_test_score                   0.4                  0.4   \n",
       "split2_test_score              0.333333             0.333333   \n",
       "mean_test_score                0.361702             0.319149   \n",
       "std_test_score                0.0274356            0.0685114   \n",
       "rank_test_score                      13                   14   \n",
       "split0_train_score             0.366667             0.233333   \n",
       "split1_train_score                0.375               0.3125   \n",
       "split2_train_score                  0.5              0.53125   \n",
       "mean_train_score               0.413889             0.359028   \n",
       "std_train_score               0.0609847             0.125995   \n",
       "\n",
       "                                     14                   15  \\\n",
       "mean_fit_time                         0            0.0104463   \n",
       "std_fit_time                          0           0.00738672   \n",
       "mean_score_time               0.0126193                    0   \n",
       "std_score_time                0.0178463                    0   \n",
       "param_n_neighbors                    15                   16   \n",
       "params              {'n_neighbors': 15}  {'n_neighbors': 16}   \n",
       "split0_test_score              0.235294             0.294118   \n",
       "split1_test_score              0.466667                  0.4   \n",
       "split2_test_score                   0.2                  0.2   \n",
       "mean_test_score                0.297872             0.297872   \n",
       "std_test_score                 0.116476            0.0799435   \n",
       "rank_test_score                      18                   18   \n",
       "split0_train_score             0.266667                  0.3   \n",
       "split1_train_score               0.3125               0.3125   \n",
       "split2_train_score              0.34375              0.40625   \n",
       "mean_train_score               0.307639             0.339583   \n",
       "std_train_score               0.0316563            0.0474159   \n",
       "\n",
       "                                     16                   17  \\\n",
       "mean_fit_time                         0                    0   \n",
       "std_fit_time                          0                    0   \n",
       "mean_score_time              0.00521477           0.00520817   \n",
       "std_score_time                0.0073748           0.00736547   \n",
       "param_n_neighbors                    17                   18   \n",
       "params              {'n_neighbors': 17}  {'n_neighbors': 18}   \n",
       "split0_test_score              0.294118             0.294118   \n",
       "split1_test_score              0.533333                  0.4   \n",
       "split2_test_score              0.133333             0.133333   \n",
       "mean_test_score                0.319149             0.276596   \n",
       "std_test_score                 0.160894             0.107338   \n",
       "rank_test_score                      14                   20   \n",
       "split0_train_score                  0.3                  0.3   \n",
       "split1_train_score              0.28125                 0.25   \n",
       "split2_train_score              0.46875              0.53125   \n",
       "mean_train_score                   0.35             0.360417   \n",
       "std_train_score               0.0843171              0.12251   \n",
       "\n",
       "                                     18                   19  \n",
       "mean_fit_time                0.00522463                    0  \n",
       "std_fit_time                 0.00738874                    0  \n",
       "mean_score_time                       0           0.00521358  \n",
       "std_score_time                        0           0.00737311  \n",
       "param_n_neighbors                    19                   20  \n",
       "params              {'n_neighbors': 19}  {'n_neighbors': 20}  \n",
       "split0_test_score              0.294118             0.235294  \n",
       "split1_test_score                   0.4             0.466667  \n",
       "split2_test_score              0.266667             0.266667  \n",
       "mean_test_score                0.319149             0.319149  \n",
       "std_test_score                0.0564972             0.101821  \n",
       "rank_test_score                      14                   14  \n",
       "split0_train_score                  0.3             0.233333  \n",
       "split1_train_score               0.3125              0.34375  \n",
       "split2_train_score                  0.5               0.4375  \n",
       "mean_train_score               0.370833             0.338194  \n",
       "std_train_score               0.0914771            0.0834432  "
      ]
     },
     "metadata": {},
     "output_type": "display_data"
    }
   ],
   "source": [
    "result = pd.DataFrame(grid_search.cv_results_)\n",
    "\n",
    "display(result.T)"
   ]
  },
  {
   "cell_type": "code",
   "execution_count": 43,
   "metadata": {},
   "outputs": [
    {
     "data": {
      "text/plain": [
       "{'n_neighbors': 4}"
      ]
     },
     "execution_count": 43,
     "metadata": {},
     "output_type": "execute_result"
    }
   ],
   "source": [
    "grid_search.best_params_"
   ]
  },
  {
   "cell_type": "markdown",
   "metadata": {},
   "source": [
    "Using grid search, the best choice is when k = 4 with k = 1 and 3 coming at second."
   ]
  },
  {
   "cell_type": "code",
   "execution_count": 44,
   "metadata": {},
   "outputs": [
    {
     "data": {
      "text/plain": [
       "0.9574468085106383"
      ]
     },
     "execution_count": 44,
     "metadata": {},
     "output_type": "execute_result"
    }
   ],
   "source": [
    "grid_search.best_score_"
   ]
  },
  {
   "cell_type": "code",
   "execution_count": 45,
   "metadata": {},
   "outputs": [
    {
     "name": "stdout",
     "output_type": "stream",
     "text": [
      "Training score: 0.9787234042553191\n",
      "Test score: 0.9166666666666666\n"
     ]
    }
   ],
   "source": [
    "knn = KNeighborsClassifier(n_neighbors=4)\n",
    "\n",
    "knn.fit(X_train_scaled, y_train)\n",
    "\n",
    "pred = knn.predict(X_test_scaled)\n",
    "\n",
    "print(f'Training score: {knn.score(X_train_scaled, y_train)}')\n",
    "print(f'Test score: {knn.score(X_test_scaled, y_test)}')"
   ]
  },
  {
   "cell_type": "code",
   "execution_count": 46,
   "metadata": {},
   "outputs": [
    {
     "name": "stdout",
     "output_type": "stream",
     "text": [
      "[[4 0 0 0]\n",
      " [0 1 0 0]\n",
      " [1 0 3 0]\n",
      " [0 0 0 3]]\n",
      "             precision    recall  f1-score   support\n",
      "\n",
      "          1       0.80      1.00      0.89         4\n",
      "          2       1.00      1.00      1.00         1\n",
      "          3       1.00      0.75      0.86         4\n",
      "          4       1.00      1.00      1.00         3\n",
      "\n",
      "avg / total       0.93      0.92      0.92        12\n",
      "\n"
     ]
    }
   ],
   "source": [
    "# Evaluate predictions\n",
    "print(confusion_matrix(y_test,pred))\n",
    "print(classification_report(y_test,pred))"
   ]
  },
  {
   "cell_type": "markdown",
   "metadata": {},
   "source": [
    "After scaling, KNN performs much better than RFC.\n",
    "\n",
    "By building a pipeline, data leakage can be prevented during cross-validation stage."
   ]
  },
  {
   "cell_type": "markdown",
   "metadata": {},
   "source": [
    "# 7. Pipeline\n",
    "### Gridsearching which model to use"
   ]
  },
  {
   "cell_type": "code",
   "execution_count": 47,
   "metadata": {},
   "outputs": [],
   "source": [
    "from sklearn.pipeline import Pipeline"
   ]
  },
  {
   "cell_type": "code",
   "execution_count": 48,
   "metadata": {},
   "outputs": [],
   "source": [
    "pipe = Pipeline([('preprocessing', MinMaxScaler()), ('classifier', KNeighborsClassifier())])"
   ]
  },
  {
   "cell_type": "code",
   "execution_count": 49,
   "metadata": {},
   "outputs": [],
   "source": [
    "param_grid = [{'classifier': [KNeighborsClassifier()], \n",
    "               'preprocessing': [MinMaxScaler()],\n",
    "               'classifier__n_neighbors': [n for n in range(1,21)]},\n",
    "              {'classifier': [RandomForestClassifier(random_state=101)], \n",
    "               'preprocessing': [None],\n",
    "               'classifier__max_features': [n for n in range(1,5)]}]"
   ]
  },
  {
   "cell_type": "code",
   "execution_count": 50,
   "metadata": {},
   "outputs": [
    {
     "data": {
      "text/plain": [
       "GridSearchCV(cv=StratifiedKFold(n_splits=3, random_state=101, shuffle=True),\n",
       "       error_score='raise',\n",
       "       estimator=Pipeline(memory=None,\n",
       "     steps=[('preprocessing', MinMaxScaler(copy=True, feature_range=(0, 1))), ('classifier', KNeighborsClassifier(algorithm='auto', leaf_size=30, metric='minkowski',\n",
       "           metric_params=None, n_jobs=1, n_neighbors=5, p=2,\n",
       "           weights='uniform'))]),\n",
       "       fit_params=None, iid=True, n_jobs=1,\n",
       "       param_grid=[{'classifier': [KNeighborsClassifier(algorithm='auto', leaf_size=30, metric='minkowski',\n",
       "           metric_params=None, n_jobs=1, n_neighbors=1, p=2,\n",
       "           weights='uniform')], 'preprocessing': [MinMaxScaler(copy=True, feature_range=(0, 1))], 'classifier__n_neighbors': [1, 2, 3, 4, ..., verbose=0, warm_start=False)], 'preprocessing': [None], 'classifier__max_features': [1, 2, 3, 4]}],\n",
       "       pre_dispatch='2*n_jobs', refit=True, return_train_score='warn',\n",
       "       scoring=None, verbose=0)"
      ]
     },
     "execution_count": 50,
     "metadata": {},
     "output_type": "execute_result"
    }
   ],
   "source": [
    "grid = GridSearchCV(pipe, param_grid, cv=skfold)\n",
    "\n",
    "grid.fit(X_train, y_train)"
   ]
  },
  {
   "cell_type": "code",
   "execution_count": 51,
   "metadata": {},
   "outputs": [
    {
     "data": {
      "text/plain": [
       "0.9574468085106383"
      ]
     },
     "execution_count": 51,
     "metadata": {},
     "output_type": "execute_result"
    }
   ],
   "source": [
    "grid.best_score_"
   ]
  },
  {
   "cell_type": "code",
   "execution_count": 52,
   "metadata": {},
   "outputs": [
    {
     "data": {
      "text/plain": [
       "0.9166666666666666"
      ]
     },
     "execution_count": 52,
     "metadata": {},
     "output_type": "execute_result"
    }
   ],
   "source": [
    "grid.score(X_test, y_test)"
   ]
  },
  {
   "cell_type": "code",
   "execution_count": 53,
   "metadata": {},
   "outputs": [],
   "source": [
    "pred = grid.predict(X_test)"
   ]
  },
  {
   "cell_type": "code",
   "execution_count": 54,
   "metadata": {},
   "outputs": [
    {
     "name": "stdout",
     "output_type": "stream",
     "text": [
      "[[4 0 0 0]\n",
      " [0 1 0 0]\n",
      " [1 0 3 0]\n",
      " [0 0 0 3]]\n",
      "             precision    recall  f1-score   support\n",
      "\n",
      "          1       0.80      1.00      0.89         4\n",
      "          2       1.00      1.00      1.00         1\n",
      "          3       1.00      0.75      0.86         4\n",
      "          4       1.00      1.00      1.00         3\n",
      "\n",
      "avg / total       0.93      0.92      0.92        12\n",
      "\n"
     ]
    }
   ],
   "source": [
    "# Evaluate predictions\n",
    "print(confusion_matrix(y_test,pred))\n",
    "print(classification_report(y_test,pred))"
   ]
  },
  {
   "cell_type": "code",
   "execution_count": 55,
   "metadata": {},
   "outputs": [
    {
     "data": {
      "text/plain": [
       "{'classifier': KNeighborsClassifier(algorithm='auto', leaf_size=30, metric='minkowski',\n",
       "            metric_params=None, n_jobs=1, n_neighbors=1, p=2,\n",
       "            weights='uniform'),\n",
       " 'classifier__n_neighbors': 1,\n",
       " 'preprocessing': MinMaxScaler(copy=True, feature_range=(0, 1))}"
      ]
     },
     "execution_count": 55,
     "metadata": {},
     "output_type": "execute_result"
    }
   ],
   "source": [
    "grid.best_params_"
   ]
  },
  {
   "cell_type": "markdown",
   "metadata": {},
   "source": [
    "By using a pipeline to search which model and which parameters are the best, the best model will be KNN with k = 1 using MinMaxScaler."
   ]
  }
 ],
 "metadata": {
  "colab": {
   "collapsed_sections": [],
   "name": "ML & DL Multi-Class Classification.ipynb",
   "provenance": []
  },
  "kernelspec": {
   "display_name": "Python 3",
   "language": "python",
   "name": "python3"
  },
  "language_info": {
   "codemirror_mode": {
    "name": "ipython",
    "version": 3
   },
   "file_extension": ".py",
   "mimetype": "text/x-python",
   "name": "python",
   "nbconvert_exporter": "python",
   "pygments_lexer": "ipython3",
   "version": "3.7.0"
  }
 },
 "nbformat": 4,
 "nbformat_minor": 1
}
